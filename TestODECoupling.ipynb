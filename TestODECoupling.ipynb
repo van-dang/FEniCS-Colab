{
  "nbformat": 4,
  "nbformat_minor": 0,
  "metadata": {
    "colab": {
      "name": "TestODECoupling.ipynb",
      "version": "0.3.2",
      "provenance": [],
      "collapsed_sections": [],
      "include_colab_link": true
    },
    "kernelspec": {
      "name": "python3",
      "display_name": "Python 3"
    }
  },
  "cells": [
    {
      "cell_type": "markdown",
      "metadata": {
        "id": "view-in-github",
        "colab_type": "text"
      },
      "source": [
        "<a href=\"https://colab.research.google.com/github/van-dang/FEniCS-Colab/blob/master/TestODECoupling.ipynb\" target=\"_parent\"><img src=\"https://colab.research.google.com/assets/colab-badge.svg\" alt=\"Open In Colab\"/></a>"
      ]
    },
    {
      "cell_type": "markdown",
      "metadata": {
        "id": "MvgoRvqui45J",
        "colab_type": "text"
      },
      "source": [
        "# About the code\n",
        "This is a simple version of adaptive theta-method following the instructions at\n",
        "\n",
        "https://buildmedia.readthedocs.org/media/pdf/fenics-handson/latest/fenics-handson.pdf\n"
      ]
    },
    {
      "cell_type": "code",
      "metadata": {
        "id": "Qb_4g0DJD6A7",
        "colab_type": "code",
        "outputId": "12c26083-3172-4022-cd9f-83c6e5ec0467",
        "colab": {
          "base_uri": "https://localhost:8080/",
          "height": 34
        }
      },
      "source": [
        "from google.colab import files\n",
        "\n",
        "import platform, sys\n",
        "python_version=platform.python_version()\n",
        "from distutils.version import LooseVersion, StrictVersion\n",
        "\n",
        "if ( LooseVersion(python_version) < LooseVersion(\"3.0.0\")):\n",
        "    print(\"Python3 is needed!\");\n",
        "    print(\"How to fix: Runtime/Change_runtime_type/Python 3\");\n",
        "    sys.exit()\n",
        "    \n",
        "try:\n",
        "    from dolfin import *; from mshr import *\n",
        "except ImportError as e:\n",
        "    !apt-get install -y -qq software-properties-common python-software-properties module-init-tools\n",
        "    !add-apt-repository -y ppa:fenics-packages/fenics\n",
        "    !apt-get update -qq\n",
        "    !apt install -y --no-install-recommends fenics\n",
        "    from dolfin import *; from mshr import *\n",
        "\n",
        "gmsh_dir=!which gmsh\n",
        "if len(gmsh_dir)==0:\n",
        "  !apt-get install gmsh\n",
        "    \n",
        "import matplotlib.pyplot as plt;\n",
        "from IPython.display import clear_output, display; import time; import dolfin.common.plotting as fenicsplot \n",
        "import time\n",
        "\n",
        "import os, sys, shutil\n",
        "\n",
        "clear_output()\n",
        "\n",
        "dolfin_version = dolfin.__version__\n",
        "print ('dolfin version:', dolfin_version)\n",
        "\n",
        "# Disable warnings\n",
        "import logging\n",
        "logging.basicConfig(level=logging.DEBUG)\n",
        "logger = logging.getLogger(\"rothemain.rothe_utils\")\n",
        "logging.getLogger('UFL').setLevel(logging.WARNING)\n",
        "logging.getLogger('FFC').setLevel(logging.WARNING)\n",
        "\n",
        "import warnings\n",
        "warnings.filterwarnings(\"ignore\")\n"
      ],
      "execution_count": 2,
      "outputs": [
        {
          "output_type": "stream",
          "text": [
            "dolfin version: 2019.1.0\n"
          ],
          "name": "stdout"
        }
      ]
    },
    {
      "cell_type": "code",
      "metadata": {
        "id": "38QtzwJzNWOs",
        "colab_type": "code",
        "outputId": "1d220b55-052d-406e-a405-3cb333ff64e3",
        "colab": {
          "base_uri": "https://localhost:8080/",
          "height": 674
        }
      },
      "source": [
        "from fenics import *\n",
        "import numpy as np\n",
        "from scipy.integrate import ode\n",
        "\n",
        "T = 10.0            # final time\n",
        "num_steps = 50     # number of time steps\n",
        "dt = 3.33 # T/num_steps       # time step size\n",
        "kcoeff = 3e-3      # diffusion coefficient\n",
        "gamma = 1e-16\n",
        "\n",
        "# Create mesh and define function space\n",
        "nx = ny = 15\n",
        "mesh = UnitSquareMesh(nx, ny)\n",
        "V = FunctionSpace(mesh, 'CG', 1)\n",
        "\n",
        "t0 = 1e-1\n",
        "# Define boundary condition\n",
        "u_D = Expression('1/(4*k*t)*exp( (-(x[0]-x0)*(x[0]-x0)-(x[1]-y0)*(x[1]-y0))/(4*k*t) )', degree=2, t=t0, x0=0.5, y0=0.5, k=kcoeff)\n",
        "\n",
        "#t0 = 0.0\n",
        "#alpha = 1; beta = 1.2\n",
        "#u_D = Expression('1 + x[0]*x[0] + alpha*x[1]*x[1] + beta*t',degree=2, alpha=alpha, beta=beta, t=0)\n",
        "\n",
        "def boundary(x, on_boundary):\n",
        "    return on_boundary\n",
        "\n",
        "bc = DirichletBC(V, Constant(beta), boundary)\n",
        "\n",
        "# Define initial value\n",
        "u_D.t = t0;\n",
        "u0 = interpolate(u_D, V)\n",
        "\n",
        "# Define variational problem\n",
        "u = TrialFunction(V)\n",
        "v = TestFunction(V)\n",
        "\n",
        "mass_form = u*v*dx\n",
        "M = assemble(mass_form)\n",
        "\n",
        "\n",
        "mass_action_form = action(mass_form, Constant(1))\n",
        "\n",
        "M_lumped = assemble(mass_form)\n",
        "M_lumped.zero()\n",
        "\n",
        "b=assemble(mass_action_form)\n",
        "b_inv = Vector(b)\n",
        "b_inv[:] = np.divide(1,b[:])\n",
        "\n",
        "M_lumped.set_diagonal(b_inv)\n",
        "bc.apply(M_lumped)\n",
        "\n",
        "\n",
        "def f(t, u0):\n",
        "    u_D.t = t;\n",
        "    u = Function(V);\n",
        "    u.vector()[:] = u0\n",
        "    r = - kcoeff*dot(grad(u), grad(v))*dx #+ (beta - 2 - 2*alpha)*v*dx# - gamma*u*v*theta*dx + gamma*u_D*v*theta*dx\n",
        "    b = assemble(r)\n",
        "    bc.apply(b)\n",
        "    return M_lumped*b\n",
        "\n",
        "\n",
        "def f1(t, u0):\n",
        "    u_D.t = t;\n",
        "    u = Function(V);\n",
        "    u.vector()[:] = u0\n",
        "    r = - kcoeff*dot(grad(u), grad(v))*dx #+ (beta - 2 - 2*alpha)*v*dx# - gamma*u*v*theta*dx + gamma*u_D*v*theta*dx\n",
        "    b = assemble(r)\n",
        "    bc.apply(M, b)\n",
        "    s = Vector()\n",
        "    solve(M, s, b)\n",
        "    return s\n",
        "\n",
        "  \n",
        "def jac(t, u0):\n",
        "    u = TrialFunction(V);\n",
        "    r = - kcoeff*dot(grad(u), grad(v))*dx # - gamma*u*v*theta*dx\n",
        "    return np.multiply(M_lumped.array(),assemble(r).array())\n",
        "  \n",
        "ode15s = ode(f, jac).set_integrator('vode', rtol=1e-7,atol=1e-7, method='bdf', with_jacobian=True)\n",
        "# ode15s = ode(f).set_integrator('vode', rtol=1e-14,atol=1e-14, method='bdf', with_jacobian=False)\n",
        "ode15s.set_initial_value(u0.vector(), t0)\n",
        "\n",
        "\n",
        "dt = 1.0 \n",
        "while ode15s.successful() and ode15s.t < T:\n",
        "    ode15s.integrate(T, step=True) \n",
        "    # print(ode15s.t)\n",
        "    \n",
        "u0.vector()[:] = ode15s.y\n",
        "plot(u0)    \n",
        "\n",
        "u_D.t = ode15s.t;\n",
        "ue= interpolate(u_D, V)\n",
        "plt.figure()\n",
        "plot(ue)\n",
        "\n",
        "est = sqrt(assemble((u0 - u_D)**2*dx))\n",
        "print(\"t=\",ode15s.t,\", error: \",est, \", |ue|=\",ue.vector().norm(\"l2\"))"
      ],
      "execution_count": 115,
      "outputs": [
        {
          "output_type": "stream",
          "text": [
            "DEBUG:matplotlib.axes._base:update_title_pos\n",
            "DEBUG:matplotlib.axes._base:update_title_pos\n",
            "DEBUG:matplotlib.axes._base:update_title_pos\n",
            "DEBUG:matplotlib.axes._base:update_title_pos\n"
          ],
          "name": "stderr"
        },
        {
          "output_type": "stream",
          "text": [
            "t= 10.129427528741157 , error:  5.957965608538297 , |ue|= 53.80994297933886\n"
          ],
          "name": "stdout"
        },
        {
          "output_type": "display_data",
          "data": {
            "image/png": "[encoded data removed]",
            "text/plain": [
              "<Figure size 432x288 with 1 Axes>"
            ]
          },
          "metadata": {
            "tags": []
          }
        },
        {
          "output_type": "stream",
          "text": [
            "DEBUG:matplotlib.axes._base:update_title_pos\n",
            "DEBUG:matplotlib.axes._base:update_title_pos\n",
            "DEBUG:matplotlib.axes._base:update_title_pos\n",
            "DEBUG:matplotlib.axes._base:update_title_pos\n"
          ],
          "name": "stderr"
        },
        {
          "output_type": "display_data",
          "data": {
            "image/png": "[encoded data removed]",
            "text/plain": [
              "<Figure size 432x288 with 1 Axes>"
            ]
          },
          "metadata": {
            "tags": []
          }
        }
      ]
    },
    {
      "cell_type": "code",
      "metadata": {
        "id": "EodUKHKE8hYi",
        "colab_type": "code",
        "outputId": "4e657c33-4f80-40c1-d996-9f5b6b5485cb",
        "colab": {
          "base_uri": "https://localhost:8080/",
          "height": 1048
        }
      },
      "source": [
        "from fenics import *\n",
        "import numpy as np\n",
        "\n",
        "\n",
        "#class AdaptiveThetaMethod:\n",
        "#    def __init__(self, V, dUdt):\n",
        "#        self.dUdt = dUdt\n",
        "#        self.V = V\n",
        "#        \n",
        "#        self.M = assemble(u*v*dx)\n",
        "\n",
        "        \n",
        "def compute_est(theta, u_L, u_H):\n",
        "    \"\"\"Return error estimate by Richardson extrapolation\"\"\"\n",
        "    p = 2 if theta == 0.5 else 1\n",
        "    est = sqrt(assemble((u_L - u_H)**2*dx)) / (2**p - 1)\n",
        "    return est\n",
        "\n",
        "def compute_new_dt(theta, est, tol, dt):\n",
        "    \"\"\"Return new time step\"\"\"\n",
        "    p = 2 if theta == 0.5 else 1\n",
        "    rho = 0.9\n",
        "    dt_new = dt * ( rho * tol / est )**(1/p)\n",
        "    return dt_new\n",
        "\n",
        "def single_step(theta, t, dt, u0, dUdt):\n",
        "  u = TrialFunction(V)\n",
        "  M = assemble(u*v*dx)\n",
        "  r = dUdt(theta, t, u) + dUdt(1-theta, t, u0)\n",
        "  A = 1./dt*M - assemble(lhs(r))\n",
        "  b = 1./dt*M*u0.vector() - assemble(rhs(r))\n",
        "  u_D.t = t;\n",
        "  bc.apply(A, b)\n",
        "  u = Function(V)\n",
        "  linsolver.solve(A, u.vector(), b)\n",
        "  return u\n",
        "  \n",
        "  \n",
        "      \n",
        "  \n",
        "T = 200.0            # final time\n",
        "num_steps = 50     # number of time steps\n",
        "dt = 3.33 # T/num_steps       # time step size\n",
        "kcoeff = 3e-3      # diffusion coefficient\n",
        "\n",
        "# Create mesh and define function space\n",
        "nx = ny = 32\n",
        "mesh = UnitSquareMesh(nx, ny)\n",
        "V = FunctionSpace(mesh, 'CG', 1)\n",
        "\n",
        "t0 = 1e-1\n",
        "# Define boundary condition\n",
        "u_D = Expression('1/(4*k*t)*exp( (-(x[0]-x0)*(x[0]-x0)-(x[1]-y0)*(x[1]-y0))/(4*k*t) )', degree=2, t=t0, x0=0.5, y0=0.5, k=kcoeff)\n",
        "\n",
        "\n",
        "def boundary(x, on_boundary):\n",
        "    return on_boundary\n",
        "\n",
        "bc = DirichletBC(V, u_D, boundary)\n",
        "\n",
        "# Define initial value\n",
        "u_D.t = t0;\n",
        "u0 = interpolate(u_D, V)\n",
        "\n",
        "\n",
        "# Define variational problem\n",
        "ut = TrialFunction(V)\n",
        "v = TestFunction(V)\n",
        "\n",
        "linsolver = KrylovSolver(\"bicgstab\",\"jacobi\")\n",
        "linsolver.parameters[\"relative_tolerance\"] = 1e-6\n",
        "linsolver.parameters[\"absolute_tolerance\"] = 1e-10\n",
        "linsolver.parameters[\"maximum_iterations\"] = 100000\n",
        "parameters['krylov_solver']['nonzero_initial_guess'] = True\n",
        "\n",
        "theta = 0.5;\n",
        "gamma = 1e-3;\n",
        "tol = 1e-3;\n",
        "\n",
        "def dUdt(theta, t, u):\n",
        "  u_D.t = t;  \n",
        "  r = - kcoeff*dot(grad(u), grad(v))*theta*dx - gamma*u*v*theta*dx + gamma*u_D*v*theta*dx\n",
        "  return r\n",
        "\n",
        "u = Function(V)\n",
        "\n",
        "t = t0;\n",
        "\n",
        "start_time = time.time()\n",
        "num_steps = 0;\n",
        "\n",
        "dt_array=[];\n",
        "while t<T:\n",
        "  u_low    = single_step(theta, t + dt,         dt,   u0, dUdt)\n",
        "  if 1==1:\n",
        "    u_mid  = single_step(theta, t + 0.5*dt,    dt/2, u0, dUdt)\n",
        "    u_high = single_step(theta, t + dt,  dt/2, u_mid, dUdt)\n",
        "    est = compute_est(theta, u_low, u_high)\n",
        "    dt_new = compute_new_dt(theta, est, tol, dt)\n",
        "    dt_new = min(dt_new, T-t)\n",
        "    num_steps +=1;\n",
        "    # print(est, dt_new, t)\n",
        "    if est > tol:\n",
        "        dt = min(dt_new, T-t)\n",
        "    else:\n",
        "        t += dt\n",
        "        dt_array.append(dt)\n",
        "        dt = min(dt_new, T-t)\n",
        "        u0.vector()[:] = u_high.vector()[:]\n",
        "  else:\n",
        "    num_steps +=1;\n",
        "    t += dt\n",
        "    dt_array.append(dt)\n",
        "    u0.vector()[:] = u_low.vector()[:]\n",
        "\n",
        "elapsed_time = time.time() - start_time  \n",
        "print('t=',t,', elapsed time=',elapsed_time)      \n",
        "u_D.t = t;\n",
        "ue = interpolate(u_D,V)\n",
        "est = compute_est(theta, ue, u0)\n",
        "print(\"|u-ue|: %e, |ue|: %e, mean(dt): %e, num_steps: %d\"%(est, ue.vector().norm('l2'), np.mean(dt_array), num_steps))\n",
        "\n",
        "plot(ue)\n",
        "plt.figure();\n",
        "plot(u0)\n",
        "plt.figure();\n",
        "plt.plot(dt_array)"
      ],
      "execution_count": 0,
      "outputs": [
        {
          "output_type": "stream",
          "text": [
            "t= 200.0 , elapsed time= 10.62277102470398\n",
            "|u-ue|: 1.266525e-04, |ue|: 1.279936e+01, mean(dt): 3.123438e+00, num_steps: 67\n"
          ],
          "name": "stdout"
        },
        {
          "output_type": "execute_result",
          "data": {
            "text/plain": [
              "[<matplotlib.lines.Line2D at 0x7f09eafba208>]"
            ]
          },
          "metadata": {
            "tags": []
          },
          "execution_count": 2
        },
        {
          "output_type": "stream",
          "text": [
            "DEBUG:matplotlib.axes._base:update_title_pos\n",
            "DEBUG:matplotlib.font_manager:findfont: Matching :family=sans-serif:style=normal:variant=normal:weight=normal:stretch=normal:size=10.0 to DejaVu Sans ('/usr/local/lib/python3.6/dist-packages/matplotlib/mpl-data/fonts/ttf/DejaVuSans.ttf') with score of 0.050000.\n",
            "DEBUG:matplotlib.axes._base:update_title_pos\n",
            "DEBUG:matplotlib.axes._base:update_title_pos\n",
            "DEBUG:matplotlib.axes._base:update_title_pos\n"
          ],
          "name": "stderr"
        },
        {
          "output_type": "display_data",
          "data": {
            "image/png": "[encoded data removed]",
            "text/plain": [
              "<Figure size 432x288 with 1 Axes>"
            ]
          },
          "metadata": {
            "tags": []
          }
        },
        {
          "output_type": "stream",
          "text": [
            "DEBUG:matplotlib.axes._base:update_title_pos\n",
            "DEBUG:matplotlib.axes._base:update_title_pos\n",
            "DEBUG:matplotlib.axes._base:update_title_pos\n",
            "DEBUG:matplotlib.axes._base:update_title_pos\n"
          ],
          "name": "stderr"
        },
        {
          "output_type": "display_data",
          "data": {
            "image/png": "[encoded data removed]",
            "text/plain": [
              "<Figure size 432x288 with 1 Axes>"
            ]
          },
          "metadata": {
            "tags": []
          }
        },
        {
          "output_type": "stream",
          "text": [
            "DEBUG:matplotlib.axes._base:update_title_pos\n",
            "DEBUG:matplotlib.axes._base:update_title_pos\n",
            "DEBUG:matplotlib.axes._base:update_title_pos\n",
            "DEBUG:matplotlib.axes._base:update_title_pos\n"
          ],
          "name": "stderr"
        },
        {
          "output_type": "display_data",
          "data": {
            "image/png": "[encoded data removed]",
            "text/plain": [
              "<Figure size 432x288 with 1 Axes>"
            ]
          },
          "metadata": {
            "tags": []
          }
        }
      ]
    }
  ]
}