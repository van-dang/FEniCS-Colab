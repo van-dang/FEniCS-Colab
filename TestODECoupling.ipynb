{
  "nbformat": 4,
  "nbformat_minor": 0,
  "metadata": {
    "colab": {
      "name": "TestODECoupling.ipynb",
      "version": "0.3.2",
      "provenance": [],
      "collapsed_sections": [],
      "include_colab_link": true
    },
    "kernelspec": {
      "name": "python3",
      "display_name": "Python 3"
    }
  },
  "cells": [
    {
      "cell_type": "markdown",
      "metadata": {
        "id": "view-in-github",
        "colab_type": "text"
      },
      "source": [
        "<a href=\"https://colab.research.google.com/github/van-dang/FEniCS-Colab/blob/master/TestODECoupling.ipynb\" target=\"_parent\"><img src=\"https://colab.research.google.com/assets/colab-badge.svg\" alt=\"Open In Colab\"/></a>"
      ]
    },
    {
      "cell_type": "code",
      "metadata": {
        "id": "Qb_4g0DJD6A7",
        "colab_type": "code",
        "colab": {
          "base_uri": "https://localhost:8080/",
          "height": 34
        },
        "outputId": "820e48e5-b85f-492e-dfcc-a14e1a6792b0"
      },
      "source": [
        "from google.colab import files\n",
        "\n",
        "import platform, sys\n",
        "python_version=platform.python_version()\n",
        "from distutils.version import LooseVersion, StrictVersion\n",
        "\n",
        "if ( LooseVersion(python_version) < LooseVersion(\"3.0.0\")):\n",
        "    print(\"Python3 is needed!\");\n",
        "    print(\"How to fix: Runtime/Change_runtime_type/Python 3\");\n",
        "    sys.exit()\n",
        "    \n",
        "try:\n",
        "    from dolfin import *; from mshr import *\n",
        "except ImportError as e:\n",
        "    !apt-get install -y -qq software-properties-common python-software-properties module-init-tools\n",
        "    !add-apt-repository -y ppa:fenics-packages/fenics\n",
        "    !apt-get update -qq\n",
        "    !apt install -y --no-install-recommends fenics\n",
        "    from dolfin import *; from mshr import *\n",
        "\n",
        "gmsh_dir=!which gmsh\n",
        "if len(gmsh_dir)==0:\n",
        "  !apt-get install gmsh\n",
        "    \n",
        "import matplotlib.pyplot as plt;\n",
        "from IPython.display import clear_output, display; import time; import dolfin.common.plotting as fenicsplot \n",
        "import time\n",
        "\n",
        "import os, sys, shutil\n",
        "\n",
        "clear_output()\n",
        "\n",
        "dolfin_version = dolfin.__version__\n",
        "print ('dolfin version:', dolfin_version)\n",
        "\n",
        "# Disable warnings\n",
        "import logging\n",
        "logging.basicConfig(level=logging.DEBUG)\n",
        "logger = logging.getLogger(\"rothemain.rothe_utils\")\n",
        "logging.getLogger('UFL').setLevel(logging.WARNING)\n",
        "logging.getLogger('FFC').setLevel(logging.WARNING)\n",
        "\n",
        "import warnings\n",
        "warnings.filterwarnings(\"ignore\")\n",
        "\n"
      ],
      "execution_count": 1,
      "outputs": [
        {
          "output_type": "stream",
          "text": [
            "dolfin version: 2019.1.0\n"
          ],
          "name": "stdout"
        }
      ]
    },
    {
      "cell_type": "code",
      "metadata": {
        "id": "kXvbHgJ0D9tc",
        "colab_type": "code",
        "colab": {
          "base_uri": "https://localhost:8080/",
          "height": 354
        },
        "outputId": "05678be7-fb90-4cce-858a-1f450ab027b2"
      },
      "source": [
        "\"\"\"\n",
        "FEniCS tutorial demo program: Diffusion of a Gaussian hill.\n",
        "\n",
        "  u'= Laplace(u) + f  in a square domain\n",
        "  u = u_D             on the boundary\n",
        "  u = u_0             at t = 0\n",
        "\n",
        "  u_D = f = 0\n",
        "\n",
        "The initial condition u_0 is chosen as a Gaussian hill.\n",
        "\"\"\"\n",
        "from scipy.integrate import ode\n",
        "\n",
        "from __future__ import print_function\n",
        "from fenics import *\n",
        "import time\n",
        "\n",
        "T = 3.0            # final time\n",
        "num_steps = 10     # number of time steps\n",
        "dt = T / num_steps # time step size\n",
        "\n",
        "# Create mesh and define function space\n",
        "nx = ny = 30\n",
        "mesh = RectangleMesh(Point(-2, -2), Point(2, 2), nx, ny)\n",
        "V = FunctionSpace(mesh, 'P', 1)\n",
        "\n",
        "# Define boundary condition\n",
        "def boundary(x, on_boundary):\n",
        "    return on_boundary\n",
        "\n",
        "bc = DirichletBC(V, Constant(0), boundary)\n",
        "\n",
        "# Define initial value\n",
        "u_0 = Expression('exp(-a*pow(x[0], 2) - a*pow(x[1], 2))',\n",
        "                 degree=2, a=5)\n",
        "u_n = interpolate(u_0, V)\n",
        "\n",
        "# Define variational problem\n",
        "u = TrialFunction(V)\n",
        "v = TestFunction(V)\n",
        "f = Constant(0)\n",
        "\n",
        "F = u*v*dx + dt*dot(grad(u), grad(v))*dx - u_n*v*dx\n",
        "\n",
        "K = assemble(dot(grad(u), grad(v))*dx)\n",
        "\n",
        "def dydt(t, u):\n",
        "    return (K*u);\n",
        "\n",
        "def jac(t, u):\n",
        "    return K.array();\n",
        "\n",
        "t0 = 0  \n",
        "solver = ode(dydt, jac).set_integrator('zvode', method='bdf', with_jacobian=True)\n",
        "solver.set_initial_value(u_n.vector(), t0)\n",
        "\n",
        "t_out=[]\n",
        "while solver.successful() and solver.t < T:\n",
        "    solver.integrate(solver.t+dt)\n",
        "    t_out.append(solver.t)\n",
        "    # print(\"%g\" % r.t); \n",
        "    # print(r.y)\n",
        "    # print(\"%g %g\" % (r.t, r.y))\n",
        "    \n",
        "print(t_out)    \n",
        "u=Function(V);    \n",
        "u.vector()[:]=solver.y[:];\n",
        "plot(u)"
      ],
      "execution_count": 36,
      "outputs": [
        {
          "output_type": "stream",
          "text": [
            "[0.3, 0.6, 0.8999999999999999, 1.2, 1.5, 1.8, 2.1, 2.4, 2.6999999999999997, 2.9999999999999996, 3.2999999999999994]\n"
          ],
          "name": "stdout"
        },
        {
          "output_type": "execute_result",
          "data": {
            "text/plain": [
              "<matplotlib.tri.tricontour.TriContourSet at 0x7f999f9a0e80>"
            ]
          },
          "metadata": {
            "tags": []
          },
          "execution_count": 36
        },
        {
          "output_type": "stream",
          "text": [
            "DEBUG:matplotlib.axes._base:update_title_pos\n",
            "DEBUG:matplotlib.axes._base:update_title_pos\n",
            "DEBUG:matplotlib.axes._base:update_title_pos\n",
            "DEBUG:matplotlib.axes._base:update_title_pos\n"
          ],
          "name": "stderr"
        },
        {
          "output_type": "display_data",
          "data": {
            "image/png": "[encoded data removed]",
            "text/plain": [
              "<Figure size 432x288 with 1 Axes>"
            ]
          },
          "metadata": {
            "tags": []
          }
        }
      ]
    }
  ]
}