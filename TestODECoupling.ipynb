{
  "nbformat": 4,
  "nbformat_minor": 0,
  "metadata": {
    "colab": {
      "name": "TestODECoupling.ipynb",
      "version": "0.3.2",
      "provenance": [],
      "collapsed_sections": [],
      "include_colab_link": true
    },
    "kernelspec": {
      "name": "python3",
      "display_name": "Python 3"
    }
  },
  "cells": [
    {
      "cell_type": "markdown",
      "metadata": {
        "id": "view-in-github",
        "colab_type": "text"
      },
      "source": [
        "<a href=\"https://colab.research.google.com/github/van-dang/FEniCS-Colab/blob/master/TestODECoupling.ipynb\" target=\"_parent\"><img src=\"https://colab.research.google.com/assets/colab-badge.svg\" alt=\"Open In Colab\"/></a>"
      ]
    },
    {
      "cell_type": "code",
      "metadata": {
        "id": "Qb_4g0DJD6A7",
        "colab_type": "code",
        "colab": {
          "base_uri": "https://localhost:8080/",
          "height": 34
        },
        "outputId": "820e48e5-b85f-492e-dfcc-a14e1a6792b0"
      },
      "source": [
        "from google.colab import files\n",
        "\n",
        "import platform, sys\n",
        "python_version=platform.python_version()\n",
        "from distutils.version import LooseVersion, StrictVersion\n",
        "\n",
        "if ( LooseVersion(python_version) < LooseVersion(\"3.0.0\")):\n",
        "    print(\"Python3 is needed!\");\n",
        "    print(\"How to fix: Runtime/Change_runtime_type/Python 3\");\n",
        "    sys.exit()\n",
        "    \n",
        "try:\n",
        "    from dolfin import *; from mshr import *\n",
        "except ImportError as e:\n",
        "    !apt-get install -y -qq software-properties-common python-software-properties module-init-tools\n",
        "    !add-apt-repository -y ppa:fenics-packages/fenics\n",
        "    !apt-get update -qq\n",
        "    !apt install -y --no-install-recommends fenics\n",
        "    from dolfin import *; from mshr import *\n",
        "\n",
        "gmsh_dir=!which gmsh\n",
        "if len(gmsh_dir)==0:\n",
        "  !apt-get install gmsh\n",
        "    \n",
        "import matplotlib.pyplot as plt;\n",
        "from IPython.display import clear_output, display; import time; import dolfin.common.plotting as fenicsplot \n",
        "import time\n",
        "\n",
        "import os, sys, shutil\n",
        "\n",
        "clear_output()\n",
        "\n",
        "dolfin_version = dolfin.__version__\n",
        "print ('dolfin version:', dolfin_version)\n",
        "\n",
        "# Disable warnings\n",
        "import logging\n",
        "logging.basicConfig(level=logging.DEBUG)\n",
        "logger = logging.getLogger(\"rothemain.rothe_utils\")\n",
        "logging.getLogger('UFL').setLevel(logging.WARNING)\n",
        "logging.getLogger('FFC').setLevel(logging.WARNING)\n",
        "\n",
        "import warnings\n",
        "warnings.filterwarnings(\"ignore\")\n",
        "\n"
      ],
      "execution_count": 1,
      "outputs": [
        {
          "output_type": "stream",
          "text": [
            "dolfin version: 2019.1.0\n"
          ],
          "name": "stdout"
        }
      ]
    },
    {
      "cell_type": "code",
      "metadata": {
        "id": "kXvbHgJ0D9tc",
        "colab_type": "code",
        "colab": {
          "base_uri": "https://localhost:8080/",
          "height": 374
        },
        "outputId": "2b1a6d70-139d-4672-ae6f-9fe0433cf96c"
      },
      "source": [
        "\"\"\"\n",
        "FEniCS tutorial demo program: Diffusion of a Gaussian hill.\n",
        "\n",
        "  u'= Laplace(u) + f  in a square domain\n",
        "  u = u_D             on the boundary\n",
        "  u = u_0             at t = 0\n",
        "\n",
        "  u_D = f = 0\n",
        "\n",
        "The initial condition u_0 is chosen as a Gaussian hill.\n",
        "\"\"\"\n",
        "from scipy.integrate import ode\n",
        "\n",
        "from __future__ import print_function\n",
        "from fenics import *\n",
        "import time\n",
        "\n",
        "T = 5.0            # final time\n",
        "num_steps = 10     # number of time steps\n",
        "dt = T / num_steps # time step size\n",
        "\n",
        "# Create mesh and define function space\n",
        "nx = ny = 30\n",
        "mesh = RectangleMesh(Point(-2, -2), Point(2, 2), nx, ny)\n",
        "V = FunctionSpace(mesh, 'P', 1)\n",
        "\n",
        "# Define boundary condition\n",
        "def boundary(x, on_boundary):\n",
        "    return on_boundary\n",
        "\n",
        "bc = DirichletBC(V, Constant(0), boundary)\n",
        "\n",
        "# Define initial value\n",
        "u_0 = Expression('exp(-a*pow(x[0], 2) - a*pow(x[1], 2))',\n",
        "                 degree=2, a=5)\n",
        "u_n = interpolate(u_0, V)\n",
        "\n",
        "# Define variational problem\n",
        "u = TrialFunction(V)\n",
        "v = TestFunction(V)\n",
        "f = Constant(0)\n",
        "\n",
        "F = u*v*dx + dt*dot(grad(u), grad(v))*dx - u_n*v*dx\n",
        "\n",
        "K = assemble(dot(grad(u), grad(v))*dx)\n",
        "\n",
        "def dydt(t, u):\n",
        "    return (K*u);\n",
        "\n",
        "def jac(t, u):\n",
        "    return K.array();\n",
        "\n",
        "t0 = 0  \n",
        "solver = ode(dydt, jac).set_integrator('zvode', method='bdf', with_jacobian=True)\n",
        "solver.set_initial_value(u_n.vector(), t0)\n",
        "\n",
        "t_out=[]\n",
        "while solver.successful() and solver.t < T:\n",
        "    solver.integrate(solver.t+dt, step=True)\n",
        "    t_out.append(solver.t)\n",
        "    # print(\"%g\" % r.t); \n",
        "    # print(r.y)\n",
        "    # print(\"%g %g\" % (r.t, r.y))\n",
        "    \n",
        "print(t_out)    \n",
        "u=Function(V);    \n",
        "u.vector()[:]=solver.y[:];\n",
        "plot(u)"
      ],
      "execution_count": 42,
      "outputs": [
        {
          "output_type": "stream",
          "text": [
            "[0.00029271759886851837, 0.0005854351977370367, 0.001385227539408015, 0.002185019881078993, 0.002984812222749971, 0.0037846045644209492, 0.005427238347717739, 0.008655359187198931, 0.014202815661464046, 0.01975027213572916, 0.025297728609994276, 0.03084518508425939, 0.0363926415585245, 0.04340012337251676, 0.05040760518650902, 0.057415087000501276, 0.06442256881449354, 0.07744647297226576, 0.09047037713003797, 0.1128169967977668, 0.13516361646549563, 0.15751023613322446, 0.17985685580095329, 0.20220347546868211, 0.22455009513641094, 0.24689671480413977, 0.28053158787712845, 0.31416646095011713, 0.3478013340231058, 0.3814362070960945, 0.4150710801690832, 0.44870595324207185, 0.48234082631506053, 0.5159756993880492, 0.549610572461038, 0.5832454455340267, 0.6168803186070154, 0.6382209547800983, 0.6595615909531812, 0.6809022271262641, 0.702242863299347, 0.72358349947243, 0.7449241356455129, 0.7662647718185958, 0.7876054079916787, 0.8089460441647616, 0.8444634498069056, 0.8799808554490496, 0.903977465497858, 0.9279740755466663, 0.9519706855954747, 0.9759672956442831, 0.9999639056930915, 1.0239605157418998, 1.0479571257907083, 1.0719537358395168, 1.0959503458883253, 1.1199469559371338, 1.1439435659859423, 1.1679401760347508, 1.1919367860835592, 1.2159333961323677, 1.2399300061811762, 1.2639266162299847, 1.2879232262787932, 1.3119198363276017, 1.3359164463764102, 1.3599130564252186, 1.3839096664740271, 1.4079062765228356, 1.431902886571644, 1.4558994966204526, 1.479896106669261, 1.5038927167180696, 1.527889326766878, 1.5518859368156865, 1.575882546864495, 1.5998791569133035, 1.623875766962112, 1.6478723770109205, 1.671868987059729, 1.6958655971085375, 1.719862207157346, 1.7438588172061544, 1.767855427254963, 1.7918520373037714, 1.81584864735258, 1.8398452574013884, 1.8638418674501969, 1.8878384774990054, 1.9118350875478138, 1.9358316975966223, 1.9598283076454308, 1.9838249176942393, 2.007821527743048, 2.031818137791856, 2.0558147478406643, 2.0798113578894726, 2.103807967938281, 2.127804577987089, 2.1518011880358974, 2.1757977980847056, 2.199794408133514, 2.223791018182322, 2.2477876282311304, 2.2717842382799387, 2.295780848328747, 2.3197774583775552, 2.3437740684263635, 2.3677706784751718, 2.39176728852398, 2.4157638985727883, 2.4397605086215965, 2.463757118670405, 2.487753728719213, 2.5117503387680213, 2.5357469488168296, 2.553001329135712, 2.5702557094545946, 2.587510089773477, 2.6047644700923596, 2.622018850411242, 2.6392732307301245, 2.656527611049007, 2.6737819913678895, 2.691036371686772, 2.7082907520056545, 2.725545132324537, 2.7427995126434195, 2.760053892962302, 2.7773082732811845, 2.794562653600067, 2.8118170339189494, 2.829071414237832, 2.8463257945567144, 2.863580174875597, 2.8808345551944794, 2.898088935513362, 2.9153433158322444, 2.932597696151127, 2.9498520764700094, 2.967106456788892, 2.9843608371077743, 3.001615217426657, 3.0188695977455393, 3.036123978064422, 3.0533783583833043, 3.070632738702187, 3.0878871190210693, 3.1051414993399518, 3.117767169291511, 3.1303928392430707, 3.14301850919463, 3.1556441791461896, 3.168269849097749, 3.1808955190493085, 3.193521189000868, 3.2061468589524273, 3.218772528903987, 3.2313981988555462, 3.2440238688071057, 3.256649538758665, 3.2692752087102246, 3.281900878661784, 3.2912021788119805, 3.300503478962177, 3.3098047791123735, 3.3246059033141337, 3.3341034193854147, 3.3436009354566956, 3.3530984515279765, 3.3700924088283246, 3.3870863661286728, 3.404080323429021, 3.421074280729369, 3.438068238029717, 3.4550621953300653, 3.4720561526304135, 3.4890501099307616, 3.5060440672311097, 3.523038024531458, 3.540031981831806, 3.557025939132154, 3.5740198964325023, 3.5910138537328504, 3.6080078110331986, 3.6250017683335467, 3.641995725633895, 3.658989682934243, 3.675983640234591, 3.6929775975349393, 3.7099715548352874, 3.7269655121356355, 3.7439594694359837, 3.760953426736332, 3.773015611118463, 3.785077795500594, 3.7971399798827252, 3.815579244033337, 3.834018508183949, 3.852457772334561, 3.870897036485173, 3.889336300635785, 3.9077755647863968, 3.9205181084703637, 3.9332606521543307, 3.9460031958382977, 3.9587457395222647, 3.9714882832062317, 3.9842308268901987, 3.9969733705741657, 4.009715914258132, 4.022458457942099, 4.035201001626065, 4.047943545310032, 4.060686088993998, 4.073428632677965, 4.0861711763619315, 4.098913720045898, 4.111656263729865, 4.124398807413831, 4.137141351097798, 4.149883894781764, 4.157644074757814, 4.165404254733863, 4.177964310569495, 4.192679989925645, 4.207395669281794, 4.217980292195277, 4.228564915108759, 4.239149538022241, 4.2497341609357235, 4.255808738395053, 4.261883315854382, 4.267957893313711, 4.27403247077304, 4.2834524272676076, 4.292872383762175, 4.302292340256742, 4.31171229675131, 4.321132253245877, 4.3305522097404445, 4.339972166235012, 4.349392122729579, 4.358812079224147, 4.368232035718714, 4.3776519922132815, 4.387071948707849, 4.401289517422478, 4.415507086137108, 4.4297246548517375, 4.443942223566367, 4.458159792280997, 4.472377360995626, 4.486594929710256, 4.500812498424885, 4.515030067139515, 4.523790598983043, 4.532551130826571, 4.5479254098320325, 4.549235993890588, 4.550546577949143, 4.553023802872133, 4.555501027795122, 4.559347654258307, 4.563194280721492, 4.567040907184676, 4.570887533647861, 4.574734160111046, 4.582871621024335, 4.598494308958322, 4.599911383099534, 4.601328457240746, 4.603753709707381, 4.607883372339747, 4.6120130349721125, 4.616142697604478, 4.620272360236844, 4.6244020228692095, 4.628531685501575, 4.635131289279316, 4.648533819190709, 4.649912828571114, 4.65129183795152, 4.653802329053569, 4.6578023433534215, 4.663939020291104, 4.6700756972287865, 4.676212374166469, 4.6807380248557, 4.68526367554493, 4.689789326234161, 4.694314976923391, 4.701434020214398, 4.708553063505405, 4.715672106796411, 4.722791150087418, 4.729910193378425, 4.737029236669431, 4.7488795445749705, 4.757318208509758, 4.765756872444545, 4.774195536379332, 4.782634200314119, 4.791072864248906, 4.799511528183693, 4.80795019211848, 4.816388856053267, 4.824827519988054, 4.8332661839228415, 4.841704847857629, 4.850143511792416, 4.858582175727203, 4.86702083966199, 4.875459503596777, 4.883898167531564, 4.892336831466351, 4.900775495401138, 4.909214159335925, 4.917652823270712, 4.9260914872054995, 4.934530151140287, 4.942968815075074, 4.951407479009861, 4.959846142944648, 4.968284806879435, 4.976723470814222, 4.985162134749009, 4.993600798683796, 5.002039462618583]\n"
          ],
          "name": "stdout"
        },
        {
          "output_type": "execute_result",
          "data": {
            "text/plain": [
              "<matplotlib.tri.tricontour.TriContourSet at 0x7f999f65ab70>"
            ]
          },
          "metadata": {
            "tags": []
          },
          "execution_count": 42
        },
        {
          "output_type": "stream",
          "text": [
            "DEBUG:matplotlib.axes._base:update_title_pos\n",
            "DEBUG:matplotlib.axes._base:update_title_pos\n",
            "DEBUG:matplotlib.axes._base:update_title_pos\n",
            "DEBUG:matplotlib.axes._base:update_title_pos\n"
          ],
          "name": "stderr"
        },
        {
          "output_type": "display_data",
          "data": {
            "image/png": "[encoded data removed]",
            "text/plain": [
              "<Figure size 432x288 with 1 Axes>"
            ]
          },
          "metadata": {
            "tags": []
          }
        }
      ]
    }
  ]
}