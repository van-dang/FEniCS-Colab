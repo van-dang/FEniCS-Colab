{
  "nbformat": 4,
  "nbformat_minor": 0,
  "metadata": {
    "colab": {
      "name": "TestODECoupling.ipynb",
      "version": "0.3.2",
      "provenance": [],
      "collapsed_sections": [],
      "include_colab_link": true
    },
    "kernelspec": {
      "name": "python3",
      "display_name": "Python 3"
    }
  },
  "cells": [
    {
      "cell_type": "markdown",
      "metadata": {
        "id": "view-in-github",
        "colab_type": "text"
      },
      "source": [
        "<a href=\"https://colab.research.google.com/github/van-dang/FEniCS-Colab/blob/master/TestODECoupling.ipynb\" target=\"_parent\"><img src=\"https://colab.research.google.com/assets/colab-badge.svg\" alt=\"Open In Colab\"/></a>"
      ]
    },
    {
      "cell_type": "markdown",
      "metadata": {
        "id": "MvgoRvqui45J",
        "colab_type": "text"
      },
      "source": [
        "# About the code\n",
        "This is a simple version of adaptive theta-method following the instructions at\n",
        "\n",
        "https://buildmedia.readthedocs.org/media/pdf/fenics-handson/latest/fenics-handson.pdf\n"
      ]
    },
    {
      "cell_type": "code",
      "metadata": {
        "id": "Qb_4g0DJD6A7",
        "colab_type": "code",
        "outputId": "7a1ac61c-a711-484b-d0f6-89ed37078a5f",
        "colab": {
          "base_uri": "https://localhost:8080/",
          "height": 34
        }
      },
      "source": [
        "from google.colab import files\n",
        "\n",
        "import platform, sys\n",
        "python_version=platform.python_version()\n",
        "from distutils.version import LooseVersion, StrictVersion\n",
        "\n",
        "if ( LooseVersion(python_version) < LooseVersion(\"3.0.0\")):\n",
        "    print(\"Python3 is needed!\");\n",
        "    print(\"How to fix: Runtime/Change_runtime_type/Python 3\");\n",
        "    sys.exit()\n",
        "    \n",
        "try:\n",
        "    from dolfin import *; from mshr import *\n",
        "except ImportError as e:\n",
        "    !apt-get install -y -qq software-properties-common python-software-properties module-init-tools\n",
        "    !add-apt-repository -y ppa:fenics-packages/fenics\n",
        "    !apt-get update -qq\n",
        "    !apt install -y --no-install-recommends fenics\n",
        "    from dolfin import *; from mshr import *\n",
        "\n",
        "gmsh_dir=!which gmsh\n",
        "if len(gmsh_dir)==0:\n",
        "  !apt-get install gmsh\n",
        "    \n",
        "import matplotlib.pyplot as plt;\n",
        "from IPython.display import clear_output, display; import time; import dolfin.common.plotting as fenicsplot \n",
        "import time\n",
        "\n",
        "import os, sys, shutil\n",
        "\n",
        "clear_output()\n",
        "\n",
        "dolfin_version = dolfin.__version__\n",
        "print ('dolfin version:', dolfin_version)\n",
        "\n",
        "# Disable warnings\n",
        "import logging\n",
        "logging.basicConfig(level=logging.DEBUG)\n",
        "logger = logging.getLogger(\"rothemain.rothe_utils\")\n",
        "logging.getLogger('UFL').setLevel(logging.WARNING)\n",
        "logging.getLogger('FFC').setLevel(logging.WARNING)\n",
        "\n",
        "import warnings\n",
        "warnings.filterwarnings(\"ignore\")\n"
      ],
      "execution_count": 1,
      "outputs": [
        {
          "output_type": "stream",
          "text": [
            "dolfin version: 2019.1.0\n"
          ],
          "name": "stdout"
        }
      ]
    },
    {
      "cell_type": "code",
      "metadata": {
        "id": "EodUKHKE8hYi",
        "colab_type": "code",
        "colab": {
          "base_uri": "https://localhost:8080/",
          "height": 1011
        },
        "outputId": "2904b47b-7057-49c9-8b1f-f756611ec5ec"
      },
      "source": [
        "from fenics import *\n",
        "import numpy as np\n",
        "\n",
        "def compute_est(theta, u_L, u_H):\n",
        "    \"\"\"Return error estimate by Richardson extrapolation\"\"\"\n",
        "    p = 2 if theta == 0.5 else 1\n",
        "    est = sqrt(assemble((u_L - u_H)**2*dx)) / (2**p - 1)\n",
        "    return est\n",
        "\n",
        "\n",
        "def compute_new_dt(theta, est, tol, dt):\n",
        "    \"\"\"Return new time step\"\"\"\n",
        "    p = 2 if theta == 0.5 else 1\n",
        "    rho = 0.9\n",
        "    dt_new = dt * ( rho * tol / est )**(1/p)\n",
        "    return dt_new\n",
        "\n",
        "  \n",
        "T = 100.0            # final time\n",
        "num_steps = 50     # number of time steps\n",
        "dt = 3.33 # T/num_steps       # time step size\n",
        "kcoeff = 3e-3      # diffusion coefficient\n",
        "\n",
        "# Create mesh and define function space\n",
        "nx = ny = 32\n",
        "mesh = UnitSquareMesh(nx, ny)\n",
        "V = FunctionSpace(mesh, 'CG', 1)\n",
        "\n",
        "t0 = 1e-1\n",
        "# Define boundary condition\n",
        "u_D = Expression('1/(4*k*t)*exp( (-(x[0]-x0)*(x[0]-x0)-(x[1]-y0)*(x[1]-y0))/(4*k*t) )', degree=2, t=t0, x0=0.5, y0=0.5, k=kcoeff)\n",
        "\n",
        "\n",
        "def boundary(x, on_boundary):\n",
        "    return on_boundary\n",
        "\n",
        "bc = DirichletBC(V, u_D, boundary)\n",
        "\n",
        "# Define initial value\n",
        "u_D.t = t0;\n",
        "u0 = interpolate(u_D, V)\n",
        "\n",
        "\n",
        "# Define variational problem\n",
        "ut = TrialFunction(V)\n",
        "v = TestFunction(V)\n",
        "\n",
        "linsolver = KrylovSolver(\"bicgstab\",\"jacobi\")\n",
        "linsolver.parameters[\"relative_tolerance\"] = 1e-6\n",
        "linsolver.parameters[\"absolute_tolerance\"] = 1e-10\n",
        "linsolver.parameters[\"maximum_iterations\"] = 100000\n",
        "parameters['krylov_solver']['nonzero_initial_guess'] = True\n",
        "\n",
        "theta = 0.5;\n",
        "gamma = 1e-4;\n",
        "\n",
        "def dUdt(theta, t, u):\n",
        "  u_D.t = t;  \n",
        "  r = - kcoeff*dot(grad(u), grad(v))*theta*dx - gamma*u*v*theta*dx + gamma*u_D*v*theta*dx\n",
        "  return r\n",
        "\n",
        "def single_step(theta, t, dt, u0, dUdt):\n",
        "  u = TrialFunction(V)\n",
        "  M = assemble(u*v*dx)\n",
        "  r = dUdt(theta, t, u) + dUdt(1-theta, t, u0)\n",
        "  A = 1./dt*M - assemble(lhs(r))\n",
        "  b = 1./dt*M*u0.vector() - assemble(rhs(r))\n",
        "  u_D.t = t;\n",
        "  bc.apply(A, b)\n",
        "  u = Function(V)\n",
        "  linsolver.solve(A, u.vector(), b)\n",
        "  return u\n",
        "\n",
        "u = Function(V)\n",
        "\n",
        "t = t0;\n",
        "tol = 1e-2;\n",
        "\n",
        "start_time = time.time()\n",
        "num_steps = 0;\n",
        "\n",
        "dt_array=[];\n",
        "while t<T:\n",
        "  u_low    = single_step(theta, t + dt,         dt,   u0, dUdt)\n",
        "  if 1==1:\n",
        "    u_mid  = single_step(theta, t + 0.5*dt,     dt/2, u0, dUdt)\n",
        "    u_high = single_step(theta, t + dt,         dt/2, u_mid, dUdt)\n",
        "    est = compute_est(theta, u_low, u_high)\n",
        "    dt_new = compute_new_dt(theta, est, tol, dt)\n",
        "    dt_new = min(dt_new, T-t)\n",
        "    num_steps +=1;\n",
        "    # print(est, dt_new, t)\n",
        "    if est > tol:\n",
        "        dt = min(dt_new, T-t)\n",
        "    else:\n",
        "        t += dt\n",
        "        dt_array.append(dt)\n",
        "        dt = min(dt_new, T-t)\n",
        "        u0.vector()[:] = u_high.vector()[:]\n",
        "  else:\n",
        "    num_steps +=1;\n",
        "    t += dt\n",
        "    dt_array.append(dt)\n",
        "    u0.vector()[:] = u_low.vector()[:]\n",
        "\n",
        "elapsed_time = time.time() - start_time  \n",
        "print('t=',t,', elapsed time=',elapsed_time)      \n",
        "u_D.t = t;\n",
        "ue = interpolate(u_D,V)\n",
        "est = compute_est(theta, ue, u0)\n",
        "print(\"|u-ue|: %e, |ue|: %e, mean(dt): %e, num_steps: %d\"%(est, ue.vector().norm('l2'), np.mean(dt_array), num_steps))\n",
        "\n",
        "plot(ue)\n",
        "plt.figure();\n",
        "plot(u0)\n",
        "plt.figure();\n",
        "plt.plot(dt_array)"
      ],
      "execution_count": 95,
      "outputs": [
        {
          "output_type": "stream",
          "text": [
            "t= 100.0 , elapsed time= 2.1087822914123535\n",
            "|u-ue|: 7.285021e-04, |ue|: 2.392808e+01, mean(dt): 3.330000e+00, num_steps: 32\n"
          ],
          "name": "stdout"
        },
        {
          "output_type": "execute_result",
          "data": {
            "text/plain": [
              "[<matplotlib.lines.Line2D at 0x7f7b14cc67f0>]"
            ]
          },
          "metadata": {
            "tags": []
          },
          "execution_count": 95
        },
        {
          "output_type": "stream",
          "text": [
            "DEBUG:matplotlib.axes._base:update_title_pos\n",
            "DEBUG:matplotlib.axes._base:update_title_pos\n",
            "DEBUG:matplotlib.axes._base:update_title_pos\n",
            "DEBUG:matplotlib.axes._base:update_title_pos\n"
          ],
          "name": "stderr"
        },
        {
          "output_type": "display_data",
          "data": {
            "image/png": "[encoded data removed]",
            "text/plain": [
              "<Figure size 432x288 with 1 Axes>"
            ]
          },
          "metadata": {
            "tags": []
          }
        },
        {
          "output_type": "stream",
          "text": [
            "DEBUG:matplotlib.axes._base:update_title_pos\n",
            "DEBUG:matplotlib.axes._base:update_title_pos\n",
            "DEBUG:matplotlib.axes._base:update_title_pos\n",
            "DEBUG:matplotlib.axes._base:update_title_pos\n"
          ],
          "name": "stderr"
        },
        {
          "output_type": "display_data",
          "data": {
            "image/png": "[encoded data removed]",
            "text/plain": [
              "<Figure size 432x288 with 1 Axes>"
            ]
          },
          "metadata": {
            "tags": []
          }
        },
        {
          "output_type": "stream",
          "text": [
            "DEBUG:matplotlib.axes._base:update_title_pos\n",
            "DEBUG:matplotlib.axes._base:update_title_pos\n",
            "DEBUG:matplotlib.axes._base:update_title_pos\n",
            "DEBUG:matplotlib.axes._base:update_title_pos\n"
          ],
          "name": "stderr"
        },
        {
          "output_type": "display_data",
          "data": {
            "image/png": "[encoded data removed]",
            "text/plain": [
              "<Figure size 432x288 with 1 Axes>"
            ]
          },
          "metadata": {
            "tags": []
          }
        }
      ]
    }
  ]
}