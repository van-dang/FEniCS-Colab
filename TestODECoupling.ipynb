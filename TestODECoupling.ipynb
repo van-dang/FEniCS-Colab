{
  "nbformat": 4,
  "nbformat_minor": 0,
  "metadata": {
    "colab": {
      "name": "TestODECoupling.ipynb",
      "version": "0.3.2",
      "provenance": [],
      "collapsed_sections": [],
      "include_colab_link": true
    },
    "kernelspec": {
      "name": "python3",
      "display_name": "Python 3"
    }
  },
  "cells": [
    {
      "cell_type": "markdown",
      "metadata": {
        "id": "view-in-github",
        "colab_type": "text"
      },
      "source": [
        "<a href=\"https://colab.research.google.com/github/van-dang/FEniCS-Colab/blob/master/TestODECoupling.ipynb\" target=\"_parent\"><img src=\"https://colab.research.google.com/assets/colab-badge.svg\" alt=\"Open In Colab\"/></a>"
      ]
    },
    {
      "cell_type": "code",
      "metadata": {
        "id": "Qb_4g0DJD6A7",
        "colab_type": "code",
        "colab": {
          "base_uri": "https://localhost:8080/",
          "height": 34
        },
        "outputId": "820e48e5-b85f-492e-dfcc-a14e1a6792b0"
      },
      "source": [
        "from google.colab import files\n",
        "\n",
        "import platform, sys\n",
        "python_version=platform.python_version()\n",
        "from distutils.version import LooseVersion, StrictVersion\n",
        "\n",
        "if ( LooseVersion(python_version) < LooseVersion(\"3.0.0\")):\n",
        "    print(\"Python3 is needed!\");\n",
        "    print(\"How to fix: Runtime/Change_runtime_type/Python 3\");\n",
        "    sys.exit()\n",
        "    \n",
        "try:\n",
        "    from dolfin import *; from mshr import *\n",
        "except ImportError as e:\n",
        "    !apt-get install -y -qq software-properties-common python-software-properties module-init-tools\n",
        "    !add-apt-repository -y ppa:fenics-packages/fenics\n",
        "    !apt-get update -qq\n",
        "    !apt install -y --no-install-recommends fenics\n",
        "    from dolfin import *; from mshr import *\n",
        "\n",
        "gmsh_dir=!which gmsh\n",
        "if len(gmsh_dir)==0:\n",
        "  !apt-get install gmsh\n",
        "    \n",
        "import matplotlib.pyplot as plt;\n",
        "from IPython.display import clear_output, display; import time; import dolfin.common.plotting as fenicsplot \n",
        "import time\n",
        "\n",
        "import os, sys, shutil\n",
        "\n",
        "clear_output()\n",
        "\n",
        "dolfin_version = dolfin.__version__\n",
        "print ('dolfin version:', dolfin_version)\n",
        "\n",
        "# Disable warnings\n",
        "import logging\n",
        "logging.basicConfig(level=logging.DEBUG)\n",
        "logger = logging.getLogger(\"rothemain.rothe_utils\")\n",
        "logging.getLogger('UFL').setLevel(logging.WARNING)\n",
        "logging.getLogger('FFC').setLevel(logging.WARNING)\n",
        "\n",
        "import warnings\n",
        "warnings.filterwarnings(\"ignore\")\n",
        "\n"
      ],
      "execution_count": 1,
      "outputs": [
        {
          "output_type": "stream",
          "text": [
            "dolfin version: 2019.1.0\n"
          ],
          "name": "stdout"
        }
      ]
    },
    {
      "cell_type": "code",
      "metadata": {
        "id": "kXvbHgJ0D9tc",
        "colab_type": "code",
        "colab": {
          "base_uri": "https://localhost:8080/",
          "height": 714
        },
        "outputId": "37a0af33-0e52-4900-d456-1e0799ee8ceb"
      },
      "source": [
        "\"\"\"\n",
        "FEniCS tutorial demo program: Diffusion of a Gaussian hill.\n",
        "\n",
        "  u'= Laplace(u) + f  in a square domain\n",
        "  u = u_D             on the boundary\n",
        "  u = u_0             at t = 0\n",
        "\n",
        "  u_D = f = 0\n",
        "\n",
        "The initial condition u_0 is chosen as a Gaussian hill.\n",
        "\"\"\"\n",
        "from scipy.integrate import ode\n",
        "\n",
        "from __future__ import print_function\n",
        "from fenics import *\n",
        "import time\n",
        "\n",
        "'''\n",
        "T = 1.0            # final time\n",
        "num_steps = 1     # number of time steps\n",
        "dt = T / num_steps # time step size\n",
        "\n",
        "# Create mesh and define function space\n",
        "nx = ny = 30\n",
        "mesh = RectangleMesh(Point(-2, -2), Point(2, 2), nx, ny)\n",
        "V = FunctionSpace(mesh, 'P', 1)\n",
        "\n",
        "# Define boundary condition\n",
        "def boundary(x, on_boundary):\n",
        "    return on_boundary\n",
        "\n",
        "bc = DirichletBC(V, Constant(0), boundary)\n",
        "\n",
        "# Define initial value\n",
        "u_0 = Expression('exp(-a*pow(x[0], 2) - a*pow(x[1], 2))',\n",
        "                 degree=2, a=5)\n",
        "u_n = interpolate(u_0, V)\n",
        "\n",
        "# Define variational problem\n",
        "u = TrialFunction(V)\n",
        "v = TestFunction(V)\n",
        "f = Constant(0)\n",
        "\n",
        "F = u*v*dx + dt*dot(grad(u), grad(v))*dx - u_n*v*dx\n",
        "\n",
        "K = assemble(dot(grad(u), grad(v))*dx)\n",
        "'''\n",
        "\n",
        "T = 2.0            # final time\n",
        "num_steps = 10     # number of time steps\n",
        "dt = T / num_steps # time step size\n",
        "alpha = 3          # parameter alpha\n",
        "beta = 1.2         # parameter beta\n",
        "\n",
        "# Create mesh and define function space\n",
        "nx = ny = 8\n",
        "mesh = UnitSquareMesh(nx, ny)\n",
        "V = FunctionSpace(mesh, 'P', 1)\n",
        "\n",
        "# Define boundary condition\n",
        "u_D = Expression('1 + x[0]*x[0] + alpha*x[1]*x[1] + beta*t',\n",
        "                 degree=2, alpha=alpha, beta=beta, t=0)\n",
        "\n",
        "def boundary(x, on_boundary):\n",
        "    return on_boundary\n",
        "\n",
        "bc = DirichletBC(V, u_D, boundary)\n",
        "\n",
        "# Define initial value\n",
        "u_n = interpolate(u_D, V)\n",
        "#u_n = project(u_D, V)\n",
        "\n",
        "# Define variational problem\n",
        "u = TrialFunction(V)\n",
        "v = TestFunction(V)\n",
        "f = Function(V)\n",
        "fc = beta - 2 - 2*alpha\n",
        "f.vector()[:] = fc\n",
        "\n",
        "K = assemble(dot(grad(u), grad(v))*dx)\n",
        "M = assemble(u*v*dx)\n",
        "\n",
        "def boundary(x, on_boundary):\n",
        "    return on_boundary\n",
        "\n",
        "bc = DirichletBC(V, Constant(beta), boundary)\n",
        "\n",
        "\n",
        "def dydt(t, u):\n",
        "    rhs = Function(V)\n",
        "    rhs.vector()[:] = (-1)*K*u + M*f.vector()\n",
        "    #ue = Function(V)\n",
        "    # bc.apply(rhs.vector())\n",
        "    #bc.apply(ue.vector())\n",
        "    #solve(M, ue.vector(), rhs.vector())\n",
        "    return (rhs.vector());\n",
        "\n",
        "def jac(t, u):\n",
        "    return (-1*K).array();\n",
        "\n",
        "t0 = 0  \n",
        "solver = ode(dydt, jac).set_integrator('vode', method='bdf', order=15, with_jacobian=True)\n",
        "solver.set_initial_value(u_n.vector(), t0)\n",
        "\n",
        "t_out=[]\n",
        "while solver.successful() and solver.t < T:\n",
        "    solver.integrate(solver.t+dt, step=True)\n",
        "    t_out.append(solver.t)\n",
        "    # print(\"%g\" % r.t); \n",
        "    # print(r.y)\n",
        "    # print(\"%g %g\" % (r.t, r.y))\n",
        "    \n",
        "print(t_out)    \n",
        "u=Function(V);    \n",
        "u.vector()[:]=solver.y[:];\n",
        "plot(u)\n",
        "\n",
        "u_D.t = T;\n",
        "ue = project(u_D, V);\n",
        "plt.figure();\n",
        "plot(ue)\n"
      ],
      "execution_count": 78,
      "outputs": [
        {
          "output_type": "stream",
          "text": [
            "[0.002282331125093801, 0.004564662250187602, 0.009620419043952212, 0.014676175837716823, 0.019731932631481434, 0.02835626637019461, 0.0463933698184414, 0.06443047326668819, 0.08246757671493499, 0.11070207556565316, 0.13893657441637133, 0.16717107326708952, 0.1954055721178077, 0.2236400709685259, 0.25187456981924405, 0.2801090686699622, 0.3083435675206804, 0.35699766876184846, 0.40565177000301655, 0.45430587124418464, 0.5029599724853527, 0.5975833138319654, 0.692206655178578, 0.7868299965251907, 0.8814533378718034, 0.976076679218416, 1.0707000205650286, 1.1653233619116412, 1.2599467032582539, 1.3545700446048665, 1.4491933859514792, 1.5438167272980918, 1.6384400686447045, 1.7330634099913171, 1.8940874236267151, 2.055111437262113]\n"
          ],
          "name": "stdout"
        },
        {
          "output_type": "execute_result",
          "data": {
            "text/plain": [
              "<matplotlib.tri.tricontour.TriContourSet at 0x7f999e077c88>"
            ]
          },
          "metadata": {
            "tags": []
          },
          "execution_count": 78
        },
        {
          "output_type": "stream",
          "text": [
            "DEBUG:matplotlib.axes._base:update_title_pos\n",
            "DEBUG:matplotlib.axes._base:update_title_pos\n",
            "DEBUG:matplotlib.axes._base:update_title_pos\n",
            "DEBUG:matplotlib.axes._base:update_title_pos\n"
          ],
          "name": "stderr"
        },
        {
          "output_type": "display_data",
          "data": {
            "image/png": "[encoded data removed]",
            "text/plain": [
              "<Figure size 432x288 with 1 Axes>"
            ]
          },
          "metadata": {
            "tags": []
          }
        },
        {
          "output_type": "stream",
          "text": [
            "DEBUG:matplotlib.axes._base:update_title_pos\n",
            "DEBUG:matplotlib.axes._base:update_title_pos\n",
            "DEBUG:matplotlib.axes._base:update_title_pos\n",
            "DEBUG:matplotlib.axes._base:update_title_pos\n"
          ],
          "name": "stderr"
        },
        {
          "output_type": "display_data",
          "data": {
            "image/png": "[encoded data removed]",
            "text/plain": [
              "<Figure size 432x288 with 1 Axes>"
            ]
          },
          "metadata": {
            "tags": []
          }
        }
      ]
    },
    {
      "cell_type": "markdown",
      "metadata": {
        "id": "LskCor2eYbOR",
        "colab_type": "text"
      },
      "source": [
        "References"
      ]
    },
    {
      "cell_type": "markdown",
      "metadata": {
        "id": "TUHS7keHYdPY",
        "colab_type": "text"
      },
      "source": [
        "https://stackoverflow.com/questions/12926393/using-adaptive-step-sizes-with-scipy-integrate-ode\n",
        "\n"
      ]
    }
  ]
}