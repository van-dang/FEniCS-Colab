{
  "nbformat": 4,
  "nbformat_minor": 0,
  "metadata": {
    "colab": {
      "name": "TestODECoupling.ipynb",
      "version": "0.3.2",
      "provenance": [],
      "collapsed_sections": [],
      "include_colab_link": true
    },
    "kernelspec": {
      "name": "python3",
      "display_name": "Python 3"
    }
  },
  "cells": [
    {
      "cell_type": "markdown",
      "metadata": {
        "id": "view-in-github",
        "colab_type": "text"
      },
      "source": [
        "<a href=\"https://colab.research.google.com/github/van-dang/FEniCS-Colab/blob/master/TestODECoupling.ipynb\" target=\"_parent\"><img src=\"https://colab.research.google.com/assets/colab-badge.svg\" alt=\"Open In Colab\"/></a>"
      ]
    },
    {
      "cell_type": "code",
      "metadata": {
        "id": "Qb_4g0DJD6A7",
        "colab_type": "code",
        "outputId": "f84beb9f-8015-4082-fe72-d72a298850cd",
        "colab": {
          "base_uri": "https://localhost:8080/",
          "height": 102
        }
      },
      "source": [
        "from google.colab import files\n",
        "\n",
        "import platform, sys\n",
        "python_version=platform.python_version()\n",
        "from distutils.version import LooseVersion, StrictVersion\n",
        "\n",
        "if ( LooseVersion(python_version) < LooseVersion(\"3.0.0\")):\n",
        "    print(\"Python3 is needed!\");\n",
        "    print(\"How to fix: Runtime/Change_runtime_type/Python 3\");\n",
        "    sys.exit()\n",
        "    \n",
        "try:\n",
        "    from dolfin import *; from mshr import *\n",
        "except ImportError as e:\n",
        "    !apt-get install -y -qq software-properties-common python-software-properties module-init-tools\n",
        "    !add-apt-repository -y ppa:fenics-packages/fenics\n",
        "    !apt-get update -qq\n",
        "    !apt install -y --no-install-recommends fenics\n",
        "    from dolfin import *; from mshr import *\n",
        "\n",
        "gmsh_dir=!which gmsh\n",
        "if len(gmsh_dir)==0:\n",
        "  !apt-get install gmsh\n",
        "    \n",
        "import matplotlib.pyplot as plt;\n",
        "from IPython.display import clear_output, display; import time; import dolfin.common.plotting as fenicsplot \n",
        "import time\n",
        "\n",
        "import os, sys, shutil\n",
        "\n",
        "clear_output()\n",
        "\n",
        "dolfin_version = dolfin.__version__\n",
        "print ('dolfin version:', dolfin_version)\n",
        "\n",
        "# Disable warnings\n",
        "import logging\n",
        "logging.basicConfig(level=logging.DEBUG)\n",
        "logger = logging.getLogger(\"rothemain.rothe_utils\")\n",
        "logging.getLogger('UFL').setLevel(logging.WARNING)\n",
        "logging.getLogger('FFC').setLevel(logging.WARNING)\n",
        "\n",
        "import warnings\n",
        "warnings.filterwarnings(\"ignore\")\n",
        "\n",
        "!apt autoremove"
      ],
      "execution_count": 29,
      "outputs": [
        {
          "output_type": "stream",
          "text": [
            "dolfin version: 2019.1.0\n",
            "Reading package lists... Done\n",
            "Building dependency tree       \n",
            "Reading state information... Done\n",
            "0 upgraded, 0 newly installed, 0 to remove and 30 not upgraded.\n"
          ],
          "name": "stdout"
        }
      ]
    },
    {
      "cell_type": "code",
      "metadata": {
        "id": "C9EeY0UbAMnN",
        "colab_type": "code",
        "colab": {
          "base_uri": "https://localhost:8080/",
          "height": 24198
        },
        "outputId": "c43239b5-2139-40a6-e765-a4b49c681af1"
      },
      "source": [
        "from dolfin import *\n",
        "import matplotlib.pyplot as plt\n",
        "\n",
        "\n",
        "def create_timestep_solver(get_data, dsN, theta, u_old, u_new):\n",
        "    \"\"\"Prepare timestep solver by theta-scheme for given\n",
        "    function get_data(t) returning data (f(t), g(t)), given\n",
        "    solution u_old at time t and unknown u_new at time t + dt.\n",
        "    Return a solve function taking (t, dt).\n",
        "    \"\"\"\n",
        "\n",
        "    # Initialize coefficients\n",
        "    f_n, g_n = get_data(0)\n",
        "    f_np1, g_np1 = get_data(0)\n",
        "    idt = Constant(0)\n",
        "\n",
        "    # Extract function space\n",
        "    V = u_new.function_space()\n",
        "\n",
        "    # Prepare weak formulation\n",
        "    u, v = TrialFunction(V), TestFunction(V)\n",
        "    theta = Constant(theta)\n",
        "    F = ( idt*(u - u_old)*v*dx\n",
        "        + inner(grad(theta*u + (1-theta)*u_old), grad(v))*dx\n",
        "        - (theta*f_np1 + (1-theta)*f_n)*v*dx\n",
        "        - (theta*g_np1 + (1-theta)*g_n)*v*dsN\n",
        "    )\n",
        "    a, L = lhs(F), rhs(F)\n",
        "\n",
        "    def solve_(t, dt):\n",
        "        \"\"\"Update problem data to interval (t, t+dt) and\n",
        "        run the solver\"\"\"\n",
        "\n",
        "        # Update coefficients to current t, dt\n",
        "        get_data(t, (f_n, g_n))\n",
        "        get_data(t+dt, (f_np1, g_np1))\n",
        "        idt.assign(1/dt)\n",
        "\n",
        "        # Push log level\n",
        "        old_level = get_log_level()\n",
        "        warning = LogLevel.WARNING if cpp.__version__ > '2017.2.0' else WARNING\n",
        "        set_log_level(warning)\n",
        "\n",
        "        # Run the solver\n",
        "        solve(a == L, u_new)\n",
        "\n",
        "        # Pop log level\n",
        "        set_log_level(old_level)\n",
        "\n",
        "    return solve_\n",
        "\n",
        "\n",
        "def timestepping(V, dsN, theta, T, dt, u_0, get_data):\n",
        "    \"\"\"Perform timestepping using theta-scheme with\n",
        "    final time T, timestep dt, initial datum u_0 and\n",
        "    function get_data(t) returning (f(t), g(t))\"\"\"\n",
        "\n",
        "    # Initialize solution function\n",
        "    u = Function(V)\n",
        "\n",
        "    # Prepare solver for computing time step\n",
        "    solver = create_timestep_solver(get_data, dsN, theta, u, u)\n",
        "\n",
        "    # Set initial condition\n",
        "    u.interpolate(u_0)\n",
        "\n",
        "    # Open plot window\n",
        "    fig = init_plot()\n",
        "\n",
        "    # Print table header\n",
        "    print(\"{:10s} | {:10s} | {:10s}\".format(\"t\", \"dt\", \"energy\"))\n",
        "\n",
        "    # Perform timestepping\n",
        "    t = 0\n",
        "    while t < T:\n",
        "\n",
        "        # Report some numbers\n",
        "        energy = assemble(u*dx)\n",
        "        print(\"{:10.4f} | {:10.4f} | {:#10.4g}\".format(t, dt, energy))\n",
        "\n",
        "        # Perform time step\n",
        "        solver(t, dt)\n",
        "        t += dt\n",
        "\n",
        "        # Update plot\n",
        "        update_plot(fig, u)\n",
        "\n",
        "\n",
        "def timestepping_adaptive(V, dsN, theta, T, tol, u_0, get_data):\n",
        "    \"\"\"Perform adaptive timestepping using theta-scheme with\n",
        "    final time T, tolerance tol, initial datum u_0 and\n",
        "    function get_data(t) returning (f(t), g(t))\"\"\"\n",
        "\n",
        "    # Initialize needed functions\n",
        "    u_n = Function(V)\n",
        "    u_np1_low = Function(V)\n",
        "    u_np1_high = Function(V)\n",
        "\n",
        "    # Prepare solvers for computing tentative time steps\n",
        "    solver_low = create_timestep_solver(get_data, dsN, theta, u_n, u_np1_low)\n",
        "    solver_high_1 = create_timestep_solver(get_data, dsN, theta, u_n, u_np1_high)\n",
        "    solver_high_2 = create_timestep_solver(get_data, dsN, theta, u_np1_high, u_np1_high)\n",
        "\n",
        "    # Initial time step; the value does not really matter\n",
        "    dt = T/2\n",
        "\n",
        "    # Set initial conditions\n",
        "    u_n.interpolate(u_0)\n",
        "\n",
        "    # Open plot window\n",
        "    fig = init_plot()\n",
        "\n",
        "    # Print table header\n",
        "    print(\"{:10s} | {:10s} | {:10s}\".format(\"t\", \"dt\", \"energy\"))\n",
        "\n",
        "    # Perform timestepping\n",
        "    t = 0\n",
        "    while t < T:\n",
        "\n",
        "        # Report some numbers\n",
        "        energy = assemble(u_n*dx)\n",
        "        print(\"{:10.4f} | {:10.4f} | {:#10.4g}\".format(t, dt, energy))\n",
        "\n",
        "        # Compute tentative time steps\n",
        "        solver_low(t, dt)\n",
        "        solver_high_1(t, dt/2)\n",
        "        solver_high_2(t+dt, dt/2)\n",
        "\n",
        "        # Compute error estimate and new timestep\n",
        "        est = compute_est(theta, u_np1_low, u_np1_high)\n",
        "        dt_new = compute_new_dt(theta, est, tol, dt)\n",
        "\n",
        "        if est > tol:\n",
        "            # Tolerance not met; repeat the step with new timestep\n",
        "            dt = dt_new\n",
        "            continue\n",
        "\n",
        "        # Move to next time step\n",
        "        u_n.vector()[:] = u_np1_high.vector()\n",
        "        t += dt\n",
        "        dt = dt_new\n",
        "\n",
        "        # Update plot\n",
        "        update_plot(fig, u_n)\n",
        "\n",
        "\n",
        "def compute_est(theta, u_L, u_H):\n",
        "    \"\"\"Return error estimate by Richardson extrapolation\"\"\"\n",
        "    p = 2 if theta == 0.5 else 1\n",
        "    est = sqrt(assemble((u_L - u_H)**2*dx)) / (2**p - 1)\n",
        "    return est\n",
        "\n",
        "\n",
        "def compute_new_dt(theta, est, tol, dt):\n",
        "    \"\"\"Return new time step\"\"\"\n",
        "    p = 2 if theta == 0.5 else 1\n",
        "    rho = 0.9\n",
        "    dt_new = dt * ( rho * tol / est )**(1/p)\n",
        "    return dt_new\n",
        "\n",
        "\n",
        "def init_plot():\n",
        "    \"\"\"Open plot window and return its figure object\"\"\"\n",
        "    fig = plt.figure()\n",
        "    fig.show()\n",
        "    return fig\n",
        "\n",
        "\n",
        "def update_plot(fig, u, zlims=(0, 2)):\n",
        "    \"\"\"Plot u in 3D warp mode with colorbar into figure fig;\n",
        "    use zlims as limits on z-axis\"\"\"\n",
        "    fig.clear()\n",
        "    p = plot(u, mode=\"warp\")\n",
        "    if p is None:\n",
        "        return\n",
        "    fig.colorbar(p)\n",
        "    fig.gca().set_zlim(zlims)\n",
        "    fig.canvas.draw()\n",
        "\n",
        "\n",
        "def create_function_space():\n",
        "    \"\"\"Return (arbitrary) H^1 conforming function space on\n",
        "    unit square domain\"\"\"\n",
        "    mesh = UnitSquareMesh(32, 32)\n",
        "    V = FunctionSpace(mesh, \"P\", 1)\n",
        "    return V\n",
        "\n",
        "\n",
        "def create_surface_measure_left(mesh):\n",
        "    \"\"\"Return surface measure on the left boundary of unit\n",
        "    square\"\"\"\n",
        "    class Left(SubDomain):\n",
        "        def inside(self, x, on_boundary):\n",
        "            return on_boundary and near(x[0], 0)\n",
        "    facets = MeshFunction('size_t', mesh, mesh.topology().dim()-1)\n",
        "    Left().mark(facets, 1)\n",
        "    ds_left = Measure(\"ds\", mesh, subdomain_data=facets, subdomain_id=1)\n",
        "    return ds_left\n",
        "\n",
        "\n",
        "def get_data_2(t, result=None):\n",
        "    \"\"\"Create or update data for Task 2\"\"\"\n",
        "    f, g = result or (Constant(0), Constant(0))\n",
        "    f.assign(0)\n",
        "    g.assign(0)\n",
        "    return f, g\n",
        "\n",
        "\n",
        "def get_data_3(t, result=None):\n",
        "    \"\"\"Create or update data for Task 3\"\"\"\n",
        "    f, g = result or (Constant(0), Constant(0))\n",
        "    f.assign(1)\n",
        "    g.assign(0)\n",
        "    return f, g\n",
        "\n",
        "\n",
        "def get_data_4(t, result=None):\n",
        "    \"\"\"Create or update data for Task 4\"\"\"\n",
        "    f, g = result or (Constant(0), Constant(0))\n",
        "    f.assign(2-t)\n",
        "    g.assign(t)\n",
        "    return f, g\n",
        "\n",
        "\n",
        "def get_data_5(t, result=None):\n",
        "    \"\"\"Create or update data for Task 5 and Task 6\"\"\"\n",
        "    f, g = result or (Constant(0), Constant(0))\n",
        "    f.assign(0)\n",
        "    g.assign(max(0, 1-t)/2)\n",
        "    return f, g\n",
        "\n",
        "\n",
        "if __name__ == '__main__':\n",
        "    # Common data\n",
        "    V = create_function_space()\n",
        "    ds_left = create_surface_measure_left(V.mesh())\n",
        "    T = 2\n",
        "    u_0 = Expression(\"x[0]\", degree=1)\n",
        "\n",
        "    # Run all problems\n",
        "    theta = 1\n",
        "    print(\"Task 2, theta =\", theta)\n",
        "    dt = 0.1\n",
        "    timestepping(V, ds_left, theta, T, dt, u_0, get_data_2)\n",
        "\n",
        "    theta = 1/2\n",
        "    print(\"Task 2, theta =\", theta)\n",
        "    dt = 0.1\n",
        "    timestepping(V, ds_left, theta, T, dt, u_0, get_data_2)\n",
        "\n",
        "    theta = 0\n",
        "    print(\"Task 2, theta =\", theta)\n",
        "    dt = 0.1\n",
        "    timestepping(V, ds_left, theta, T, dt, u_0, get_data_2)\n",
        "\n",
        "    theta = 1\n",
        "    print(\"Task 3, theta =\", theta)\n",
        "    dt = 0.1\n",
        "    timestepping(V, ds_left, theta, T, dt, u_0, get_data_3)\n",
        "\n",
        "    theta = 1\n",
        "    print(\"Task 4, theta =\", theta)\n",
        "    dt = 0.1\n",
        "    timestepping(V, ds_left, theta, T, dt, u_0, get_data_4)\n",
        "\n",
        "    theta = 1\n",
        "    print(\"Task 5, theta =\", theta)\n",
        "    dt = 0.1\n",
        "    timestepping(V, ds_left, theta, T, dt, u_0, get_data_5)\n",
        "\n",
        "    theta = 1\n",
        "    print(\"Task 6, theta =\", theta)\n",
        "    tol = 1e-3\n",
        "    timestepping_adaptive(V, ds_left, theta, T, tol, u_0, get_data_5)\n",
        "\n",
        "    theta = 1/2\n",
        "    print(\"Task 6, theta =\", theta)\n",
        "    tol = 1e-3\n",
        "    timestepping_adaptive(V, ds_left, theta, T, tol, u_0, get_data_5)\n",
        "\n",
        "    # Hold plots before quitting\n",
        "    plt.show()\n"
      ],
      "execution_count": 30,
      "outputs": [
        {
          "output_type": "stream",
          "text": [
            "Task 2, theta = 1\n",
            "t          | dt         | energy    \n",
            "    0.0000 |     0.1000 |     0.5000\n"
          ],
          "name": "stdout"
        },
        {
          "output_type": "stream",
          "text": [
            "DEBUG:matplotlib.colorbar:locator: <matplotlib.colorbar._ColorbarAutoLocator object at 0x7f9d34e3c780>\n",
            "DEBUG:matplotlib.colorbar:Using auto colorbar locator on colorbar\n",
            "DEBUG:matplotlib.colorbar:locator: <matplotlib.colorbar._ColorbarAutoLocator object at 0x7f9d34e3c780>\n",
            "DEBUG:matplotlib.colorbar:Setting pcolormesh\n",
            "DEBUG:matplotlib.axes._base:update_title_pos\n",
            "DEBUG:matplotlib.axes._base:update_title_pos\n",
            "DEBUG:matplotlib.colorbar:locator: <matplotlib.colorbar._ColorbarAutoLocator object at 0x7f9d34bb3b70>\n",
            "DEBUG:matplotlib.colorbar:Using auto colorbar locator on colorbar\n",
            "DEBUG:matplotlib.colorbar:locator: <matplotlib.colorbar._ColorbarAutoLocator object at 0x7f9d34bb3b70>\n",
            "DEBUG:matplotlib.colorbar:Setting pcolormesh\n"
          ],
          "name": "stderr"
        },
        {
          "output_type": "stream",
          "text": [
            "    0.1000 |     0.1000 |     0.5000\n"
          ],
          "name": "stdout"
        },
        {
          "output_type": "stream",
          "text": [
            "DEBUG:matplotlib.axes._base:update_title_pos\n",
            "DEBUG:matplotlib.axes._base:update_title_pos\n"
          ],
          "name": "stderr"
        },
        {
          "output_type": "stream",
          "text": [
            "    0.2000 |     0.1000 |     0.5000\n"
          ],
          "name": "stdout"
        },
        {
          "output_type": "stream",
          "text": [
            "DEBUG:matplotlib.colorbar:locator: <matplotlib.colorbar._ColorbarAutoLocator object at 0x7f9d34e83e10>\n",
            "DEBUG:matplotlib.colorbar:Using auto colorbar locator on colorbar\n",
            "DEBUG:matplotlib.colorbar:locator: <matplotlib.colorbar._ColorbarAutoLocator object at 0x7f9d34e83e10>\n",
            "DEBUG:matplotlib.colorbar:Setting pcolormesh\n",
            "DEBUG:matplotlib.axes._base:update_title_pos\n",
            "DEBUG:matplotlib.axes._base:update_title_pos\n",
            "DEBUG:matplotlib.colorbar:locator: <matplotlib.colorbar._ColorbarAutoLocator object at 0x7f9d39c579b0>\n",
            "DEBUG:matplotlib.colorbar:Using auto colorbar locator on colorbar\n",
            "DEBUG:matplotlib.colorbar:locator: <matplotlib.colorbar._ColorbarAutoLocator object at 0x7f9d39c579b0>\n",
            "DEBUG:matplotlib.colorbar:Setting pcolormesh\n"
          ],
          "name": "stderr"
        },
        {
          "output_type": "stream",
          "text": [
            "    0.3000 |     0.1000 |     0.5000\n"
          ],
          "name": "stdout"
        },
        {
          "output_type": "stream",
          "text": [
            "DEBUG:matplotlib.axes._base:update_title_pos\n",
            "DEBUG:matplotlib.axes._base:update_title_pos\n",
            "DEBUG:matplotlib.colorbar:locator: <matplotlib.colorbar._ColorbarAutoLocator object at 0x7f9d34de7da0>\n",
            "DEBUG:matplotlib.colorbar:Using auto colorbar locator on colorbar\n",
            "DEBUG:matplotlib.colorbar:locator: <matplotlib.colorbar._ColorbarAutoLocator object at 0x7f9d34de7da0>\n",
            "DEBUG:matplotlib.colorbar:Setting pcolormesh\n"
          ],
          "name": "stderr"
        },
        {
          "output_type": "stream",
          "text": [
            "    0.4000 |     0.1000 |     0.5000\n"
          ],
          "name": "stdout"
        },
        {
          "output_type": "stream",
          "text": [
            "DEBUG:matplotlib.axes._base:update_title_pos\n",
            "DEBUG:matplotlib.axes._base:update_title_pos\n",
            "DEBUG:matplotlib.colorbar:locator: <matplotlib.colorbar._ColorbarAutoLocator object at 0x7f9d34c319e8>\n",
            "DEBUG:matplotlib.colorbar:Using auto colorbar locator on colorbar\n",
            "DEBUG:matplotlib.colorbar:locator: <matplotlib.colorbar._ColorbarAutoLocator object at 0x7f9d34c319e8>\n",
            "DEBUG:matplotlib.colorbar:Setting pcolormesh\n"
          ],
          "name": "stderr"
        },
        {
          "output_type": "stream",
          "text": [
            "    0.5000 |     0.1000 |     0.5000\n"
          ],
          "name": "stdout"
        },
        {
          "output_type": "stream",
          "text": [
            "DEBUG:matplotlib.axes._base:update_title_pos\n",
            "DEBUG:matplotlib.axes._base:update_title_pos\n",
            "DEBUG:matplotlib.colorbar:locator: <matplotlib.colorbar._ColorbarAutoLocator object at 0x7f9d348f5630>\n",
            "DEBUG:matplotlib.colorbar:Using auto colorbar locator on colorbar\n",
            "DEBUG:matplotlib.colorbar:locator: <matplotlib.colorbar._ColorbarAutoLocator object at 0x7f9d348f5630>\n",
            "DEBUG:matplotlib.colorbar:Setting pcolormesh\n"
          ],
          "name": "stderr"
        },
        {
          "output_type": "stream",
          "text": [
            "    0.6000 |     0.1000 |     0.5000\n"
          ],
          "name": "stdout"
        },
        {
          "output_type": "stream",
          "text": [
            "DEBUG:matplotlib.axes._base:update_title_pos\n",
            "DEBUG:matplotlib.axes._base:update_title_pos\n",
            "DEBUG:matplotlib.colorbar:locator: <matplotlib.colorbar._ColorbarAutoLocator object at 0x7f9d346f72b0>\n",
            "DEBUG:matplotlib.colorbar:Using auto colorbar locator on colorbar\n",
            "DEBUG:matplotlib.colorbar:locator: <matplotlib.colorbar._ColorbarAutoLocator object at 0x7f9d346f72b0>\n",
            "DEBUG:matplotlib.colorbar:Setting pcolormesh\n"
          ],
          "name": "stderr"
        },
        {
          "output_type": "stream",
          "text": [
            "    0.7000 |     0.1000 |     0.5000\n"
          ],
          "name": "stdout"
        },
        {
          "output_type": "stream",
          "text": [
            "DEBUG:matplotlib.axes._base:update_title_pos\n",
            "DEBUG:matplotlib.axes._base:update_title_pos\n",
            "DEBUG:matplotlib.colorbar:locator: <matplotlib.colorbar._ColorbarAutoLocator object at 0x7f9d3fc37390>\n",
            "DEBUG:matplotlib.colorbar:Using auto colorbar locator on colorbar\n",
            "DEBUG:matplotlib.colorbar:locator: <matplotlib.colorbar._ColorbarAutoLocator object at 0x7f9d3fc37390>\n",
            "DEBUG:matplotlib.colorbar:Setting pcolormesh\n"
          ],
          "name": "stderr"
        },
        {
          "output_type": "stream",
          "text": [
            "    0.8000 |     0.1000 |     0.5000\n"
          ],
          "name": "stdout"
        },
        {
          "output_type": "stream",
          "text": [
            "DEBUG:matplotlib.axes._base:update_title_pos\n",
            "DEBUG:matplotlib.axes._base:update_title_pos\n",
            "DEBUG:matplotlib.colorbar:locator: <matplotlib.colorbar._ColorbarAutoLocator object at 0x7f9d34e3c208>\n",
            "DEBUG:matplotlib.colorbar:Using auto colorbar locator on colorbar\n",
            "DEBUG:matplotlib.colorbar:locator: <matplotlib.colorbar._ColorbarAutoLocator object at 0x7f9d34e3c208>\n",
            "DEBUG:matplotlib.colorbar:Setting pcolormesh\n"
          ],
          "name": "stderr"
        },
        {
          "output_type": "stream",
          "text": [
            "    0.9000 |     0.1000 |     0.5000\n"
          ],
          "name": "stdout"
        },
        {
          "output_type": "stream",
          "text": [
            "DEBUG:matplotlib.axes._base:update_title_pos\n",
            "DEBUG:matplotlib.axes._base:update_title_pos\n",
            "DEBUG:matplotlib.colorbar:locator: <matplotlib.colorbar._ColorbarAutoLocator object at 0x7f9d34d17400>\n",
            "DEBUG:matplotlib.colorbar:Using auto colorbar locator on colorbar\n",
            "DEBUG:matplotlib.colorbar:locator: <matplotlib.colorbar._ColorbarAutoLocator object at 0x7f9d34d17400>\n",
            "DEBUG:matplotlib.colorbar:Setting pcolormesh\n"
          ],
          "name": "stderr"
        },
        {
          "output_type": "stream",
          "text": [
            "    1.0000 |     0.1000 |     0.5000\n"
          ],
          "name": "stdout"
        },
        {
          "output_type": "stream",
          "text": [
            "DEBUG:matplotlib.axes._base:update_title_pos\n",
            "DEBUG:matplotlib.axes._base:update_title_pos\n",
            "DEBUG:matplotlib.colorbar:locator: <matplotlib.colorbar._ColorbarAutoLocator object at 0x7f9d34b33048>\n",
            "DEBUG:matplotlib.colorbar:Using auto colorbar locator on colorbar\n",
            "DEBUG:matplotlib.colorbar:locator: <matplotlib.colorbar._ColorbarAutoLocator object at 0x7f9d34b33048>\n",
            "DEBUG:matplotlib.colorbar:Setting pcolormesh\n"
          ],
          "name": "stderr"
        },
        {
          "output_type": "stream",
          "text": [
            "    1.1000 |     0.1000 |     0.5000\n"
          ],
          "name": "stdout"
        },
        {
          "output_type": "stream",
          "text": [
            "DEBUG:matplotlib.axes._base:update_title_pos\n",
            "DEBUG:matplotlib.axes._base:update_title_pos\n",
            "DEBUG:matplotlib.colorbar:locator: <matplotlib.colorbar._ColorbarAutoLocator object at 0x7f9d34ace908>\n",
            "DEBUG:matplotlib.colorbar:Using auto colorbar locator on colorbar\n",
            "DEBUG:matplotlib.colorbar:locator: <matplotlib.colorbar._ColorbarAutoLocator object at 0x7f9d34ace908>\n",
            "DEBUG:matplotlib.colorbar:Setting pcolormesh\n"
          ],
          "name": "stderr"
        },
        {
          "output_type": "stream",
          "text": [
            "    1.2000 |     0.1000 |     0.5000\n"
          ],
          "name": "stdout"
        },
        {
          "output_type": "stream",
          "text": [
            "DEBUG:matplotlib.axes._base:update_title_pos\n",
            "DEBUG:matplotlib.axes._base:update_title_pos\n"
          ],
          "name": "stderr"
        },
        {
          "output_type": "stream",
          "text": [
            "    1.3000 |     0.1000 |     0.5000\n"
          ],
          "name": "stdout"
        },
        {
          "output_type": "stream",
          "text": [
            "DEBUG:matplotlib.colorbar:locator: <matplotlib.colorbar._ColorbarAutoLocator object at 0x7f9d34ace198>\n",
            "DEBUG:matplotlib.colorbar:Using auto colorbar locator on colorbar\n",
            "DEBUG:matplotlib.colorbar:locator: <matplotlib.colorbar._ColorbarAutoLocator object at 0x7f9d34ace198>\n",
            "DEBUG:matplotlib.colorbar:Setting pcolormesh\n",
            "DEBUG:matplotlib.axes._base:update_title_pos\n",
            "DEBUG:matplotlib.axes._base:update_title_pos\n",
            "DEBUG:matplotlib.colorbar:locator: <matplotlib.colorbar._ColorbarAutoLocator object at 0x7f9d39c77400>\n",
            "DEBUG:matplotlib.colorbar:Using auto colorbar locator on colorbar\n",
            "DEBUG:matplotlib.colorbar:locator: <matplotlib.colorbar._ColorbarAutoLocator object at 0x7f9d39c77400>\n",
            "DEBUG:matplotlib.colorbar:Setting pcolormesh\n"
          ],
          "name": "stderr"
        },
        {
          "output_type": "stream",
          "text": [
            "    1.4000 |     0.1000 |     0.5000\n"
          ],
          "name": "stdout"
        },
        {
          "output_type": "stream",
          "text": [
            "DEBUG:matplotlib.axes._base:update_title_pos\n",
            "DEBUG:matplotlib.axes._base:update_title_pos\n",
            "DEBUG:matplotlib.colorbar:locator: <matplotlib.colorbar._ColorbarAutoLocator object at 0x7f9d39c7f080>\n",
            "DEBUG:matplotlib.colorbar:Using auto colorbar locator on colorbar\n",
            "DEBUG:matplotlib.colorbar:locator: <matplotlib.colorbar._ColorbarAutoLocator object at 0x7f9d39c7f080>\n",
            "DEBUG:matplotlib.colorbar:Setting pcolormesh\n"
          ],
          "name": "stderr"
        },
        {
          "output_type": "stream",
          "text": [
            "    1.5000 |     0.1000 |     0.5000\n"
          ],
          "name": "stdout"
        },
        {
          "output_type": "stream",
          "text": [
            "DEBUG:matplotlib.axes._base:update_title_pos\n",
            "DEBUG:matplotlib.axes._base:update_title_pos\n",
            "DEBUG:matplotlib.colorbar:locator: <matplotlib.colorbar._ColorbarAutoLocator object at 0x7f9d34e7b4a8>\n",
            "DEBUG:matplotlib.colorbar:Using auto colorbar locator on colorbar\n",
            "DEBUG:matplotlib.colorbar:locator: <matplotlib.colorbar._ColorbarAutoLocator object at 0x7f9d34e7b4a8>\n",
            "DEBUG:matplotlib.colorbar:Setting pcolormesh\n"
          ],
          "name": "stderr"
        },
        {
          "output_type": "stream",
          "text": [
            "    1.6000 |     0.1000 |     0.5000\n"
          ],
          "name": "stdout"
        },
        {
          "output_type": "stream",
          "text": [
            "DEBUG:matplotlib.axes._base:update_title_pos\n",
            "DEBUG:matplotlib.axes._base:update_title_pos\n",
            "DEBUG:matplotlib.colorbar:locator: <matplotlib.colorbar._ColorbarAutoLocator object at 0x7f9d34d9c080>\n",
            "DEBUG:matplotlib.colorbar:Using auto colorbar locator on colorbar\n",
            "DEBUG:matplotlib.colorbar:locator: <matplotlib.colorbar._ColorbarAutoLocator object at 0x7f9d34d9c080>\n",
            "DEBUG:matplotlib.colorbar:Setting pcolormesh\n"
          ],
          "name": "stderr"
        },
        {
          "output_type": "stream",
          "text": [
            "    1.7000 |     0.1000 |     0.5000\n"
          ],
          "name": "stdout"
        },
        {
          "output_type": "stream",
          "text": [
            "DEBUG:matplotlib.axes._base:update_title_pos\n",
            "DEBUG:matplotlib.axes._base:update_title_pos\n",
            "DEBUG:matplotlib.colorbar:locator: <matplotlib.colorbar._ColorbarAutoLocator object at 0x7f9d349dbbe0>\n",
            "DEBUG:matplotlib.colorbar:Using auto colorbar locator on colorbar\n",
            "DEBUG:matplotlib.colorbar:locator: <matplotlib.colorbar._ColorbarAutoLocator object at 0x7f9d349dbbe0>\n",
            "DEBUG:matplotlib.colorbar:Setting pcolormesh\n"
          ],
          "name": "stderr"
        },
        {
          "output_type": "stream",
          "text": [
            "    1.8000 |     0.1000 |     0.5000\n"
          ],
          "name": "stdout"
        },
        {
          "output_type": "stream",
          "text": [
            "DEBUG:matplotlib.axes._base:update_title_pos\n",
            "DEBUG:matplotlib.axes._base:update_title_pos\n",
            "DEBUG:matplotlib.colorbar:locator: <matplotlib.colorbar._ColorbarAutoLocator object at 0x7f9d344a0710>\n",
            "DEBUG:matplotlib.colorbar:Using auto colorbar locator on colorbar\n",
            "DEBUG:matplotlib.colorbar:locator: <matplotlib.colorbar._ColorbarAutoLocator object at 0x7f9d344a0710>\n",
            "DEBUG:matplotlib.colorbar:Setting pcolormesh\n"
          ],
          "name": "stderr"
        },
        {
          "output_type": "stream",
          "text": [
            "    1.9000 |     0.1000 |     0.5000\n"
          ],
          "name": "stdout"
        },
        {
          "output_type": "stream",
          "text": [
            "DEBUG:matplotlib.axes._base:update_title_pos\n",
            "DEBUG:matplotlib.axes._base:update_title_pos\n"
          ],
          "name": "stderr"
        },
        {
          "output_type": "stream",
          "text": [
            "Task 2, theta = 0.5\n",
            "t          | dt         | energy    \n",
            "    0.0000 |     0.1000 |     0.5000\n"
          ],
          "name": "stdout"
        },
        {
          "output_type": "stream",
          "text": [
            "DEBUG:matplotlib.colorbar:locator: <matplotlib.colorbar._ColorbarAutoLocator object at 0x7f9d38838b00>\n",
            "DEBUG:matplotlib.colorbar:Using auto colorbar locator on colorbar\n",
            "DEBUG:matplotlib.colorbar:locator: <matplotlib.colorbar._ColorbarAutoLocator object at 0x7f9d38838b00>\n",
            "DEBUG:matplotlib.colorbar:Setting pcolormesh\n",
            "DEBUG:matplotlib.axes._base:update_title_pos\n",
            "DEBUG:matplotlib.axes._base:update_title_pos\n",
            "DEBUG:matplotlib.colorbar:locator: <matplotlib.colorbar._ColorbarAutoLocator object at 0x7f9d388a3780>\n",
            "DEBUG:matplotlib.colorbar:Using auto colorbar locator on colorbar\n",
            "DEBUG:matplotlib.colorbar:locator: <matplotlib.colorbar._ColorbarAutoLocator object at 0x7f9d388a3780>\n",
            "DEBUG:matplotlib.colorbar:Setting pcolormesh\n"
          ],
          "name": "stderr"
        },
        {
          "output_type": "stream",
          "text": [
            "    0.1000 |     0.1000 |     0.5000\n"
          ],
          "name": "stdout"
        },
        {
          "output_type": "stream",
          "text": [
            "DEBUG:matplotlib.axes._base:update_title_pos\n",
            "DEBUG:matplotlib.axes._base:update_title_pos\n",
            "DEBUG:matplotlib.colorbar:locator: <matplotlib.colorbar._ColorbarAutoLocator object at 0x7f9d38fcbef0>\n",
            "DEBUG:matplotlib.colorbar:Using auto colorbar locator on colorbar\n",
            "DEBUG:matplotlib.colorbar:locator: <matplotlib.colorbar._ColorbarAutoLocator object at 0x7f9d38fcbef0>\n",
            "DEBUG:matplotlib.colorbar:Setting pcolormesh\n"
          ],
          "name": "stderr"
        },
        {
          "output_type": "stream",
          "text": [
            "    0.2000 |     0.1000 |     0.5000\n"
          ],
          "name": "stdout"
        },
        {
          "output_type": "stream",
          "text": [
            "DEBUG:matplotlib.axes._base:update_title_pos\n",
            "DEBUG:matplotlib.axes._base:update_title_pos\n",
            "DEBUG:matplotlib.colorbar:locator: <matplotlib.colorbar._ColorbarAutoLocator object at 0x7f9d34e287f0>\n",
            "DEBUG:matplotlib.colorbar:Using auto colorbar locator on colorbar\n",
            "DEBUG:matplotlib.colorbar:locator: <matplotlib.colorbar._ColorbarAutoLocator object at 0x7f9d34e287f0>\n",
            "DEBUG:matplotlib.colorbar:Setting pcolormesh\n"
          ],
          "name": "stderr"
        },
        {
          "output_type": "stream",
          "text": [
            "    0.3000 |     0.1000 |     0.5000\n"
          ],
          "name": "stdout"
        },
        {
          "output_type": "stream",
          "text": [
            "DEBUG:matplotlib.axes._base:update_title_pos\n",
            "DEBUG:matplotlib.axes._base:update_title_pos\n",
            "DEBUG:matplotlib.colorbar:locator: <matplotlib.colorbar._ColorbarAutoLocator object at 0x7f9d34b26588>\n",
            "DEBUG:matplotlib.colorbar:Using auto colorbar locator on colorbar\n",
            "DEBUG:matplotlib.colorbar:locator: <matplotlib.colorbar._ColorbarAutoLocator object at 0x7f9d34b26588>\n",
            "DEBUG:matplotlib.colorbar:Setting pcolormesh\n"
          ],
          "name": "stderr"
        },
        {
          "output_type": "stream",
          "text": [
            "    0.4000 |     0.1000 |     0.5000\n"
          ],
          "name": "stdout"
        },
        {
          "output_type": "stream",
          "text": [
            "DEBUG:matplotlib.axes._base:update_title_pos\n",
            "DEBUG:matplotlib.axes._base:update_title_pos\n",
            "DEBUG:matplotlib.colorbar:locator: <matplotlib.colorbar._ColorbarAutoLocator object at 0x7f9d346751d0>\n",
            "DEBUG:matplotlib.colorbar:Using auto colorbar locator on colorbar\n",
            "DEBUG:matplotlib.colorbar:locator: <matplotlib.colorbar._ColorbarAutoLocator object at 0x7f9d346751d0>\n",
            "DEBUG:matplotlib.colorbar:Setting pcolormesh\n"
          ],
          "name": "stderr"
        },
        {
          "output_type": "stream",
          "text": [
            "    0.5000 |     0.1000 |     0.5000\n"
          ],
          "name": "stdout"
        },
        {
          "output_type": "stream",
          "text": [
            "DEBUG:matplotlib.axes._base:update_title_pos\n",
            "DEBUG:matplotlib.axes._base:update_title_pos\n",
            "DEBUG:matplotlib.colorbar:locator: <matplotlib.colorbar._ColorbarAutoLocator object at 0x7f9d342b8dd8>\n",
            "DEBUG:matplotlib.colorbar:Using auto colorbar locator on colorbar\n",
            "DEBUG:matplotlib.colorbar:locator: <matplotlib.colorbar._ColorbarAutoLocator object at 0x7f9d342b8dd8>\n",
            "DEBUG:matplotlib.colorbar:Setting pcolormesh\n"
          ],
          "name": "stderr"
        },
        {
          "output_type": "stream",
          "text": [
            "    0.6000 |     0.1000 |     0.5000\n"
          ],
          "name": "stdout"
        },
        {
          "output_type": "stream",
          "text": [
            "DEBUG:matplotlib.axes._base:update_title_pos\n",
            "DEBUG:matplotlib.axes._base:update_title_pos\n"
          ],
          "name": "stderr"
        },
        {
          "output_type": "stream",
          "text": [
            "    0.7000 |     0.1000 |     0.5000\n"
          ],
          "name": "stdout"
        },
        {
          "output_type": "stream",
          "text": [
            "DEBUG:matplotlib.colorbar:locator: <matplotlib.colorbar._ColorbarAutoLocator object at 0x7f9d34294358>\n",
            "DEBUG:matplotlib.colorbar:Using auto colorbar locator on colorbar\n",
            "DEBUG:matplotlib.colorbar:locator: <matplotlib.colorbar._ColorbarAutoLocator object at 0x7f9d34294358>\n",
            "DEBUG:matplotlib.colorbar:Setting pcolormesh\n",
            "DEBUG:matplotlib.axes._base:update_title_pos\n",
            "DEBUG:matplotlib.axes._base:update_title_pos\n",
            "DEBUG:matplotlib.colorbar:locator: <matplotlib.colorbar._ColorbarAutoLocator object at 0x7f9d34bcc0b8>\n",
            "DEBUG:matplotlib.colorbar:Using auto colorbar locator on colorbar\n",
            "DEBUG:matplotlib.colorbar:locator: <matplotlib.colorbar._ColorbarAutoLocator object at 0x7f9d34bcc0b8>\n",
            "DEBUG:matplotlib.colorbar:Setting pcolormesh\n"
          ],
          "name": "stderr"
        },
        {
          "output_type": "stream",
          "text": [
            "    0.8000 |     0.1000 |     0.5000\n"
          ],
          "name": "stdout"
        },
        {
          "output_type": "stream",
          "text": [
            "DEBUG:matplotlib.axes._base:update_title_pos\n",
            "DEBUG:matplotlib.axes._base:update_title_pos\n",
            "DEBUG:matplotlib.colorbar:locator: <matplotlib.colorbar._ColorbarAutoLocator object at 0x7f9d3fc52ef0>\n",
            "DEBUG:matplotlib.colorbar:Using auto colorbar locator on colorbar\n",
            "DEBUG:matplotlib.colorbar:locator: <matplotlib.colorbar._ColorbarAutoLocator object at 0x7f9d3fc52ef0>\n",
            "DEBUG:matplotlib.colorbar:Setting pcolormesh\n"
          ],
          "name": "stderr"
        },
        {
          "output_type": "stream",
          "text": [
            "    0.9000 |     0.1000 |     0.5000\n"
          ],
          "name": "stdout"
        },
        {
          "output_type": "stream",
          "text": [
            "DEBUG:matplotlib.axes._base:update_title_pos\n",
            "DEBUG:matplotlib.axes._base:update_title_pos\n",
            "DEBUG:matplotlib.colorbar:locator: <matplotlib.colorbar._ColorbarAutoLocator object at 0x7f9d34a3c4a8>\n",
            "DEBUG:matplotlib.colorbar:Using auto colorbar locator on colorbar\n",
            "DEBUG:matplotlib.colorbar:locator: <matplotlib.colorbar._ColorbarAutoLocator object at 0x7f9d34a3c4a8>\n",
            "DEBUG:matplotlib.colorbar:Setting pcolormesh\n"
          ],
          "name": "stderr"
        },
        {
          "output_type": "stream",
          "text": [
            "    1.0000 |     0.1000 |     0.5000\n"
          ],
          "name": "stdout"
        },
        {
          "output_type": "stream",
          "text": [
            "DEBUG:matplotlib.axes._base:update_title_pos\n",
            "DEBUG:matplotlib.axes._base:update_title_pos\n",
            "DEBUG:matplotlib.colorbar:locator: <matplotlib.colorbar._ColorbarAutoLocator object at 0x7f9d38faddd8>\n",
            "DEBUG:matplotlib.colorbar:Using auto colorbar locator on colorbar\n",
            "DEBUG:matplotlib.colorbar:locator: <matplotlib.colorbar._ColorbarAutoLocator object at 0x7f9d38faddd8>\n",
            "DEBUG:matplotlib.colorbar:Setting pcolormesh\n"
          ],
          "name": "stderr"
        },
        {
          "output_type": "stream",
          "text": [
            "    1.1000 |     0.1000 |     0.5000\n"
          ],
          "name": "stdout"
        },
        {
          "output_type": "stream",
          "text": [
            "DEBUG:matplotlib.axes._base:update_title_pos\n",
            "DEBUG:matplotlib.axes._base:update_title_pos\n"
          ],
          "name": "stderr"
        },
        {
          "output_type": "stream",
          "text": [
            "    1.2000 |     0.1000 |     0.5000\n"
          ],
          "name": "stdout"
        },
        {
          "output_type": "stream",
          "text": [
            "DEBUG:matplotlib.colorbar:locator: <matplotlib.colorbar._ColorbarAutoLocator object at 0x7f9d34a893c8>\n",
            "DEBUG:matplotlib.colorbar:Using auto colorbar locator on colorbar\n",
            "DEBUG:matplotlib.colorbar:locator: <matplotlib.colorbar._ColorbarAutoLocator object at 0x7f9d34a893c8>\n",
            "DEBUG:matplotlib.colorbar:Setting pcolormesh\n",
            "DEBUG:matplotlib.axes._base:update_title_pos\n",
            "DEBUG:matplotlib.axes._base:update_title_pos\n",
            "DEBUG:matplotlib.colorbar:locator: <matplotlib.colorbar._ColorbarAutoLocator object at 0x7f9d3fbbc9b0>\n",
            "DEBUG:matplotlib.colorbar:Using auto colorbar locator on colorbar\n",
            "DEBUG:matplotlib.colorbar:locator: <matplotlib.colorbar._ColorbarAutoLocator object at 0x7f9d3fbbc9b0>\n",
            "DEBUG:matplotlib.colorbar:Setting pcolormesh\n"
          ],
          "name": "stderr"
        },
        {
          "output_type": "stream",
          "text": [
            "    1.3000 |     0.1000 |     0.5000\n"
          ],
          "name": "stdout"
        },
        {
          "output_type": "stream",
          "text": [
            "DEBUG:matplotlib.axes._base:update_title_pos\n",
            "DEBUG:matplotlib.axes._base:update_title_pos\n",
            "DEBUG:matplotlib.colorbar:locator: <matplotlib.colorbar._ColorbarAutoLocator object at 0x7f9d34c57710>\n",
            "DEBUG:matplotlib.colorbar:Using auto colorbar locator on colorbar\n",
            "DEBUG:matplotlib.colorbar:locator: <matplotlib.colorbar._ColorbarAutoLocator object at 0x7f9d34c57710>\n",
            "DEBUG:matplotlib.colorbar:Setting pcolormesh\n"
          ],
          "name": "stderr"
        },
        {
          "output_type": "stream",
          "text": [
            "    1.4000 |     0.1000 |     0.5000\n"
          ],
          "name": "stdout"
        },
        {
          "output_type": "stream",
          "text": [
            "DEBUG:matplotlib.axes._base:update_title_pos\n",
            "DEBUG:matplotlib.axes._base:update_title_pos\n",
            "DEBUG:matplotlib.colorbar:locator: <matplotlib.colorbar._ColorbarAutoLocator object at 0x7f9d34be1940>\n",
            "DEBUG:matplotlib.colorbar:Using auto colorbar locator on colorbar\n",
            "DEBUG:matplotlib.colorbar:locator: <matplotlib.colorbar._ColorbarAutoLocator object at 0x7f9d34be1940>\n",
            "DEBUG:matplotlib.colorbar:Setting pcolormesh\n"
          ],
          "name": "stderr"
        },
        {
          "output_type": "stream",
          "text": [
            "    1.5000 |     0.1000 |     0.5000\n"
          ],
          "name": "stdout"
        },
        {
          "output_type": "stream",
          "text": [
            "DEBUG:matplotlib.axes._base:update_title_pos\n",
            "DEBUG:matplotlib.axes._base:update_title_pos\n",
            "DEBUG:matplotlib.colorbar:locator: <matplotlib.colorbar._ColorbarAutoLocator object at 0x7f9d34889438>\n",
            "DEBUG:matplotlib.colorbar:Using auto colorbar locator on colorbar\n",
            "DEBUG:matplotlib.colorbar:locator: <matplotlib.colorbar._ColorbarAutoLocator object at 0x7f9d34889438>\n",
            "DEBUG:matplotlib.colorbar:Setting pcolormesh\n"
          ],
          "name": "stderr"
        },
        {
          "output_type": "stream",
          "text": [
            "    1.6000 |     0.1000 |     0.5000\n"
          ],
          "name": "stdout"
        },
        {
          "output_type": "stream",
          "text": [
            "DEBUG:matplotlib.axes._base:update_title_pos\n",
            "DEBUG:matplotlib.axes._base:update_title_pos\n"
          ],
          "name": "stderr"
        },
        {
          "output_type": "stream",
          "text": [
            "    1.7000 |     0.1000 |     0.5000\n"
          ],
          "name": "stdout"
        },
        {
          "output_type": "stream",
          "text": [
            "DEBUG:matplotlib.colorbar:locator: <matplotlib.colorbar._ColorbarAutoLocator object at 0x7f9d34ca83c8>\n",
            "DEBUG:matplotlib.colorbar:Using auto colorbar locator on colorbar\n",
            "DEBUG:matplotlib.colorbar:locator: <matplotlib.colorbar._ColorbarAutoLocator object at 0x7f9d34ca83c8>\n",
            "DEBUG:matplotlib.colorbar:Setting pcolormesh\n",
            "DEBUG:matplotlib.axes._base:update_title_pos\n",
            "DEBUG:matplotlib.axes._base:update_title_pos\n",
            "DEBUG:matplotlib.colorbar:locator: <matplotlib.colorbar._ColorbarAutoLocator object at 0x7f9d385cedd8>\n",
            "DEBUG:matplotlib.colorbar:Using auto colorbar locator on colorbar\n",
            "DEBUG:matplotlib.colorbar:locator: <matplotlib.colorbar._ColorbarAutoLocator object at 0x7f9d385cedd8>\n",
            "DEBUG:matplotlib.colorbar:Setting pcolormesh\n"
          ],
          "name": "stderr"
        },
        {
          "output_type": "stream",
          "text": [
            "    1.8000 |     0.1000 |     0.5000\n"
          ],
          "name": "stdout"
        },
        {
          "output_type": "stream",
          "text": [
            "DEBUG:matplotlib.axes._base:update_title_pos\n",
            "DEBUG:matplotlib.axes._base:update_title_pos\n",
            "DEBUG:matplotlib.colorbar:locator: <matplotlib.colorbar._ColorbarAutoLocator object at 0x7f9d34b6bc50>\n",
            "DEBUG:matplotlib.colorbar:Using auto colorbar locator on colorbar\n",
            "DEBUG:matplotlib.colorbar:locator: <matplotlib.colorbar._ColorbarAutoLocator object at 0x7f9d34b6bc50>\n",
            "DEBUG:matplotlib.colorbar:Setting pcolormesh\n"
          ],
          "name": "stderr"
        },
        {
          "output_type": "stream",
          "text": [
            "    1.9000 |     0.1000 |     0.5000\n"
          ],
          "name": "stdout"
        },
        {
          "output_type": "stream",
          "text": [
            "DEBUG:matplotlib.axes._base:update_title_pos\n",
            "DEBUG:matplotlib.axes._base:update_title_pos\n",
            "DEBUG:matplotlib.colorbar:locator: <matplotlib.colorbar._ColorbarAutoLocator object at 0x7f9d34dbf080>\n",
            "DEBUG:matplotlib.colorbar:Using auto colorbar locator on colorbar\n",
            "DEBUG:matplotlib.colorbar:locator: <matplotlib.colorbar._ColorbarAutoLocator object at 0x7f9d34dbf080>\n",
            "DEBUG:matplotlib.colorbar:Setting pcolormesh\n"
          ],
          "name": "stderr"
        },
        {
          "output_type": "stream",
          "text": [
            "Task 2, theta = 0\n",
            "t          | dt         | energy    \n",
            "    0.0000 |     0.1000 |     0.5000\n"
          ],
          "name": "stdout"
        },
        {
          "output_type": "stream",
          "text": [
            "DEBUG:matplotlib.axes._base:update_title_pos\n",
            "DEBUG:matplotlib.axes._base:update_title_pos\n",
            "DEBUG:matplotlib.colorbar:locator: <matplotlib.colorbar._ColorbarAutoLocator object at 0x7f9d347ecc50>\n",
            "DEBUG:matplotlib.colorbar:Using auto colorbar locator on colorbar\n",
            "DEBUG:matplotlib.colorbar:locator: <matplotlib.colorbar._ColorbarAutoLocator object at 0x7f9d347ecc50>\n",
            "DEBUG:matplotlib.colorbar:Setting pcolormesh\n"
          ],
          "name": "stderr"
        },
        {
          "output_type": "stream",
          "text": [
            "    0.1000 |     0.1000 |     0.5000\n"
          ],
          "name": "stdout"
        },
        {
          "output_type": "stream",
          "text": [
            "DEBUG:matplotlib.axes._base:update_title_pos\n",
            "DEBUG:matplotlib.axes._base:update_title_pos\n",
            "DEBUG:matplotlib.colorbar:locator: <matplotlib.colorbar._ColorbarAutoLocator object at 0x7f9d34bae668>\n",
            "DEBUG:matplotlib.colorbar:Using auto colorbar locator on colorbar\n",
            "DEBUG:matplotlib.colorbar:locator: <matplotlib.colorbar._ColorbarAutoLocator object at 0x7f9d34bae668>\n",
            "DEBUG:matplotlib.colorbar:Setting pcolormesh\n"
          ],
          "name": "stderr"
        },
        {
          "output_type": "stream",
          "text": [
            "    0.2000 |     0.1000 |     0.5000\n"
          ],
          "name": "stdout"
        },
        {
          "output_type": "stream",
          "text": [
            "DEBUG:matplotlib.axes._base:update_title_pos\n",
            "DEBUG:matplotlib.axes._base:update_title_pos\n",
            "DEBUG:matplotlib.colorbar:locator: <matplotlib.colorbar._ColorbarAutoLocator object at 0x7f9d3498a9e8>\n",
            "DEBUG:matplotlib.colorbar:Using auto colorbar locator on colorbar\n",
            "DEBUG:matplotlib.colorbar:locator: <matplotlib.colorbar._ColorbarAutoLocator object at 0x7f9d3498a9e8>\n",
            "DEBUG:matplotlib.colorbar:Setting pcolormesh\n"
          ],
          "name": "stderr"
        },
        {
          "output_type": "stream",
          "text": [
            "    0.3000 |     0.1000 |     0.5000\n"
          ],
          "name": "stdout"
        },
        {
          "output_type": "stream",
          "text": [
            "DEBUG:matplotlib.axes._base:update_title_pos\n",
            "DEBUG:matplotlib.axes._base:update_title_pos\n"
          ],
          "name": "stderr"
        },
        {
          "output_type": "stream",
          "text": [
            "    0.4000 |     0.1000 |     0.5000\n"
          ],
          "name": "stdout"
        },
        {
          "output_type": "stream",
          "text": [
            "DEBUG:matplotlib.colorbar:locator: <matplotlib.colorbar._ColorbarAutoLocator object at 0x7f9d3fc526d8>\n",
            "DEBUG:matplotlib.colorbar:Using auto colorbar locator on colorbar\n",
            "DEBUG:matplotlib.colorbar:locator: <matplotlib.colorbar._ColorbarAutoLocator object at 0x7f9d3fc526d8>\n",
            "DEBUG:matplotlib.colorbar:Setting pcolormesh\n",
            "DEBUG:matplotlib.axes._base:update_title_pos\n",
            "DEBUG:matplotlib.axes._base:update_title_pos\n",
            "DEBUG:matplotlib.colorbar:locator: <matplotlib.colorbar._ColorbarAutoLocator object at 0x7f9d3856fdd8>\n",
            "DEBUG:matplotlib.colorbar:Using auto colorbar locator on colorbar\n",
            "DEBUG:matplotlib.colorbar:locator: <matplotlib.colorbar._ColorbarAutoLocator object at 0x7f9d3856fdd8>\n",
            "DEBUG:matplotlib.colorbar:Setting pcolormesh\n"
          ],
          "name": "stderr"
        },
        {
          "output_type": "stream",
          "text": [
            "    0.5000 |     0.1000 |     0.5000\n"
          ],
          "name": "stdout"
        },
        {
          "output_type": "stream",
          "text": [
            "DEBUG:matplotlib.axes._base:update_title_pos\n",
            "DEBUG:matplotlib.axes._base:update_title_pos\n",
            "DEBUG:matplotlib.colorbar:locator: <matplotlib.colorbar._ColorbarAutoLocator object at 0x7f9d34088358>\n",
            "DEBUG:matplotlib.colorbar:Using auto colorbar locator on colorbar\n",
            "DEBUG:matplotlib.colorbar:locator: <matplotlib.colorbar._ColorbarAutoLocator object at 0x7f9d34088358>\n",
            "DEBUG:matplotlib.colorbar:Setting pcolormesh\n"
          ],
          "name": "stderr"
        },
        {
          "output_type": "stream",
          "text": [
            "    0.6000 |     0.1000 |     0.5293\n"
          ],
          "name": "stdout"
        },
        {
          "output_type": "stream",
          "text": [
            "DEBUG:matplotlib.axes._base:update_title_pos\n",
            "DEBUG:matplotlib.axes._base:update_title_pos\n",
            "DEBUG:matplotlib.colorbar:locator: <matplotlib.colorbar._ColorbarAutoLocator object at 0x7f9d38816908>\n",
            "DEBUG:matplotlib.colorbar:Using auto colorbar locator on colorbar\n",
            "DEBUG:matplotlib.colorbar:locator: <matplotlib.colorbar._ColorbarAutoLocator object at 0x7f9d38816908>\n",
            "DEBUG:matplotlib.colorbar:Setting pcolormesh\n"
          ],
          "name": "stderr"
        },
        {
          "output_type": "stream",
          "text": [
            "    0.7000 |     0.1000 |     -60.00\n"
          ],
          "name": "stdout"
        },
        {
          "output_type": "stream",
          "text": [
            "DEBUG:matplotlib.axes._base:update_title_pos\n",
            "DEBUG:matplotlib.axes._base:update_title_pos\n",
            "DEBUG:matplotlib.colorbar:locator: <matplotlib.colorbar._ColorbarAutoLocator object at 0x7f9d34d1e550>\n",
            "DEBUG:matplotlib.colorbar:Using auto colorbar locator on colorbar\n",
            "DEBUG:matplotlib.colorbar:locator: <matplotlib.colorbar._ColorbarAutoLocator object at 0x7f9d34d1e550>\n",
            "DEBUG:matplotlib.colorbar:Setting pcolormesh\n"
          ],
          "name": "stderr"
        },
        {
          "output_type": "stream",
          "text": [
            "    0.8000 |     0.1000 |  6.881e+05\n"
          ],
          "name": "stdout"
        },
        {
          "output_type": "stream",
          "text": [
            "DEBUG:matplotlib.axes._base:update_title_pos\n",
            "DEBUG:matplotlib.axes._base:update_title_pos\n",
            "DEBUG:matplotlib.colorbar:locator: <matplotlib.colorbar._ColorbarAutoLocator object at 0x7f9d34554160>\n",
            "DEBUG:matplotlib.colorbar:Using auto colorbar locator on colorbar\n",
            "DEBUG:matplotlib.colorbar:locator: <matplotlib.colorbar._ColorbarAutoLocator object at 0x7f9d34554160>\n",
            "DEBUG:matplotlib.colorbar:Setting pcolormesh\n"
          ],
          "name": "stderr"
        },
        {
          "output_type": "stream",
          "text": [
            "    0.9000 |     0.1000 |  9.899e+08\n"
          ],
          "name": "stdout"
        },
        {
          "output_type": "stream",
          "text": [
            "DEBUG:matplotlib.axes._base:update_title_pos\n",
            "DEBUG:matplotlib.axes._base:update_title_pos\n",
            "DEBUG:matplotlib.colorbar:locator: <matplotlib.colorbar._ColorbarAutoLocator object at 0x7f9d33fa3d30>\n",
            "DEBUG:matplotlib.colorbar:Using auto colorbar locator on colorbar\n",
            "DEBUG:matplotlib.colorbar:locator: <matplotlib.colorbar._ColorbarAutoLocator object at 0x7f9d33fa3d30>\n",
            "DEBUG:matplotlib.colorbar:Setting pcolormesh\n"
          ],
          "name": "stderr"
        },
        {
          "output_type": "stream",
          "text": [
            "    1.0000 |     0.1000 |  4.123e+11\n"
          ],
          "name": "stdout"
        },
        {
          "output_type": "stream",
          "text": [
            "DEBUG:matplotlib.axes._base:update_title_pos\n",
            "DEBUG:matplotlib.axes._base:update_title_pos\n"
          ],
          "name": "stderr"
        },
        {
          "output_type": "stream",
          "text": [
            "    1.1000 |     0.1000 | -1.407e+14\n"
          ],
          "name": "stdout"
        },
        {
          "output_type": "stream",
          "text": [
            "DEBUG:matplotlib.colorbar:locator: <matplotlib.colorbar._ColorbarAutoLocator object at 0x7f9d3452cb38>\n",
            "DEBUG:matplotlib.colorbar:Using auto colorbar locator on colorbar\n",
            "DEBUG:matplotlib.colorbar:locator: <matplotlib.colorbar._ColorbarAutoLocator object at 0x7f9d3452cb38>\n",
            "DEBUG:matplotlib.colorbar:Setting pcolormesh\n",
            "DEBUG:matplotlib.axes._base:update_title_pos\n",
            "DEBUG:matplotlib.axes._base:update_title_pos\n",
            "DEBUG:matplotlib.colorbar:locator: <matplotlib.colorbar._ColorbarAutoLocator object at 0x7f9d34dbf8d0>\n",
            "DEBUG:matplotlib.colorbar:Using auto colorbar locator on colorbar\n",
            "DEBUG:matplotlib.colorbar:locator: <matplotlib.colorbar._ColorbarAutoLocator object at 0x7f9d34dbf8d0>\n",
            "DEBUG:matplotlib.colorbar:Setting pcolormesh\n"
          ],
          "name": "stderr"
        },
        {
          "output_type": "stream",
          "text": [
            "    1.2000 |     0.1000 |  3.805e+19\n"
          ],
          "name": "stdout"
        },
        {
          "output_type": "stream",
          "text": [
            "DEBUG:matplotlib.axes._base:update_title_pos\n",
            "DEBUG:matplotlib.axes._base:update_title_pos\n",
            "DEBUG:matplotlib.colorbar:locator: <matplotlib.colorbar._ColorbarAutoLocator object at 0x7f9d38f8f588>\n",
            "DEBUG:matplotlib.colorbar:Using auto colorbar locator on colorbar\n",
            "DEBUG:matplotlib.colorbar:locator: <matplotlib.colorbar._ColorbarAutoLocator object at 0x7f9d38f8f588>\n",
            "DEBUG:matplotlib.colorbar:Setting pcolormesh\n"
          ],
          "name": "stderr"
        },
        {
          "output_type": "stream",
          "text": [
            "    1.3000 |     0.1000 |  1.659e+23\n"
          ],
          "name": "stdout"
        },
        {
          "output_type": "stream",
          "text": [
            "DEBUG:matplotlib.axes._base:update_title_pos\n",
            "DEBUG:matplotlib.axes._base:update_title_pos\n",
            "DEBUG:matplotlib.colorbar:locator: <matplotlib.colorbar._ColorbarAutoLocator object at 0x7f9d34e12780>\n",
            "DEBUG:matplotlib.colorbar:Using auto colorbar locator on colorbar\n",
            "DEBUG:matplotlib.colorbar:locator: <matplotlib.colorbar._ColorbarAutoLocator object at 0x7f9d34e12780>\n",
            "DEBUG:matplotlib.colorbar:Setting pcolormesh\n"
          ],
          "name": "stderr"
        },
        {
          "output_type": "stream",
          "text": [
            "    1.4000 |     0.1000 | -4.981e+26\n"
          ],
          "name": "stdout"
        },
        {
          "output_type": "stream",
          "text": [
            "DEBUG:matplotlib.axes._base:update_title_pos\n",
            "DEBUG:matplotlib.axes._base:update_title_pos\n",
            "DEBUG:matplotlib.colorbar:locator: <matplotlib.colorbar._ColorbarAutoLocator object at 0x7f9d340b6438>\n",
            "DEBUG:matplotlib.colorbar:Using auto colorbar locator on colorbar\n",
            "DEBUG:matplotlib.colorbar:locator: <matplotlib.colorbar._ColorbarAutoLocator object at 0x7f9d340b6438>\n",
            "DEBUG:matplotlib.colorbar:Setting pcolormesh\n"
          ],
          "name": "stderr"
        },
        {
          "output_type": "stream",
          "text": [
            "    1.5000 |     0.1000 |  1.486e+29\n"
          ],
          "name": "stdout"
        },
        {
          "output_type": "stream",
          "text": [
            "DEBUG:matplotlib.axes._base:update_title_pos\n",
            "DEBUG:matplotlib.axes._base:update_title_pos\n",
            "DEBUG:matplotlib.colorbar:locator: <matplotlib.colorbar._ColorbarAutoLocator object at 0x7f9d342b4ef0>\n",
            "DEBUG:matplotlib.colorbar:Using auto colorbar locator on colorbar\n",
            "DEBUG:matplotlib.colorbar:locator: <matplotlib.colorbar._ColorbarAutoLocator object at 0x7f9d342b4ef0>\n",
            "DEBUG:matplotlib.colorbar:Setting pcolormesh\n"
          ],
          "name": "stderr"
        },
        {
          "output_type": "stream",
          "text": [
            "    1.6000 |     0.1000 | -2.718e+33\n"
          ],
          "name": "stdout"
        },
        {
          "output_type": "stream",
          "text": [
            "DEBUG:matplotlib.axes._base:update_title_pos\n",
            "DEBUG:matplotlib.axes._base:update_title_pos\n",
            "DEBUG:matplotlib.colorbar:locator: <matplotlib.colorbar._ColorbarAutoLocator object at 0x7f9d34637c50>\n",
            "DEBUG:matplotlib.colorbar:Using auto colorbar locator on colorbar\n",
            "DEBUG:matplotlib.colorbar:locator: <matplotlib.colorbar._ColorbarAutoLocator object at 0x7f9d34637c50>\n",
            "DEBUG:matplotlib.colorbar:Setting pcolormesh\n"
          ],
          "name": "stderr"
        },
        {
          "output_type": "stream",
          "text": [
            "    1.7000 |     0.1000 |  3.074e+36\n"
          ],
          "name": "stdout"
        },
        {
          "output_type": "stream",
          "text": [
            "DEBUG:matplotlib.axes._base:update_title_pos\n",
            "DEBUG:matplotlib.axes._base:update_title_pos\n"
          ],
          "name": "stderr"
        },
        {
          "output_type": "stream",
          "text": [
            "    1.8000 |     0.1000 |  1.591e+40\n"
          ],
          "name": "stdout"
        },
        {
          "output_type": "stream",
          "text": [
            "DEBUG:matplotlib.colorbar:locator: <matplotlib.colorbar._ColorbarAutoLocator object at 0x7f9d347a0be0>\n",
            "DEBUG:matplotlib.colorbar:Using auto colorbar locator on colorbar\n",
            "DEBUG:matplotlib.colorbar:locator: <matplotlib.colorbar._ColorbarAutoLocator object at 0x7f9d347a0be0>\n",
            "DEBUG:matplotlib.colorbar:Setting pcolormesh\n",
            "DEBUG:matplotlib.axes._base:update_title_pos\n",
            "DEBUG:matplotlib.axes._base:update_title_pos\n",
            "DEBUG:matplotlib.colorbar:locator: <matplotlib.colorbar._ColorbarAutoLocator object at 0x7f9d3811b9e8>\n",
            "DEBUG:matplotlib.colorbar:Using auto colorbar locator on colorbar\n",
            "DEBUG:matplotlib.colorbar:locator: <matplotlib.colorbar._ColorbarAutoLocator object at 0x7f9d3811b9e8>\n",
            "DEBUG:matplotlib.colorbar:Setting pcolormesh\n"
          ],
          "name": "stderr"
        },
        {
          "output_type": "stream",
          "text": [
            "    1.9000 |     0.1000 |  5.610e+43\n"
          ],
          "name": "stdout"
        },
        {
          "output_type": "stream",
          "text": [
            "DEBUG:matplotlib.axes._base:update_title_pos\n",
            "DEBUG:matplotlib.axes._base:update_title_pos\n",
            "DEBUG:matplotlib.colorbar:locator: <matplotlib.colorbar._ColorbarAutoLocator object at 0x7f9d33f9deb8>\n",
            "DEBUG:matplotlib.colorbar:Using auto colorbar locator on colorbar\n",
            "DEBUG:matplotlib.colorbar:locator: <matplotlib.colorbar._ColorbarAutoLocator object at 0x7f9d33f9deb8>\n",
            "DEBUG:matplotlib.colorbar:Setting pcolormesh\n"
          ],
          "name": "stderr"
        },
        {
          "output_type": "stream",
          "text": [
            "Task 3, theta = 1\n",
            "t          | dt         | energy    \n",
            "    0.0000 |     0.1000 |     0.5000\n"
          ],
          "name": "stdout"
        },
        {
          "output_type": "stream",
          "text": [
            "DEBUG:matplotlib.axes._base:update_title_pos\n",
            "DEBUG:matplotlib.axes._base:update_title_pos\n",
            "DEBUG:matplotlib.colorbar:locator: <matplotlib.colorbar._ColorbarAutoLocator object at 0x7f9d34c40550>\n",
            "DEBUG:matplotlib.colorbar:Using auto colorbar locator on colorbar\n",
            "DEBUG:matplotlib.colorbar:locator: <matplotlib.colorbar._ColorbarAutoLocator object at 0x7f9d34c40550>\n",
            "DEBUG:matplotlib.colorbar:Setting pcolormesh\n"
          ],
          "name": "stderr"
        },
        {
          "output_type": "stream",
          "text": [
            "    0.1000 |     0.1000 |     0.6000\n"
          ],
          "name": "stdout"
        },
        {
          "output_type": "stream",
          "text": [
            "DEBUG:matplotlib.axes._base:update_title_pos\n",
            "DEBUG:matplotlib.axes._base:update_title_pos\n",
            "DEBUG:matplotlib.colorbar:locator: <matplotlib.colorbar._ColorbarAutoLocator object at 0x7f9d346612b0>\n",
            "DEBUG:matplotlib.colorbar:Using auto colorbar locator on colorbar\n",
            "DEBUG:matplotlib.colorbar:locator: <matplotlib.colorbar._ColorbarAutoLocator object at 0x7f9d346612b0>\n",
            "DEBUG:matplotlib.colorbar:Setting pcolormesh\n"
          ],
          "name": "stderr"
        },
        {
          "output_type": "stream",
          "text": [
            "    0.2000 |     0.1000 |     0.7000\n"
          ],
          "name": "stdout"
        },
        {
          "output_type": "stream",
          "text": [
            "DEBUG:matplotlib.axes._base:update_title_pos\n",
            "DEBUG:matplotlib.axes._base:update_title_pos\n",
            "DEBUG:matplotlib.colorbar:locator: <matplotlib.colorbar._ColorbarAutoLocator object at 0x7f9d34bb6048>\n",
            "DEBUG:matplotlib.colorbar:Using auto colorbar locator on colorbar\n",
            "DEBUG:matplotlib.colorbar:locator: <matplotlib.colorbar._ColorbarAutoLocator object at 0x7f9d34bb6048>\n",
            "DEBUG:matplotlib.colorbar:Setting pcolormesh\n"
          ],
          "name": "stderr"
        },
        {
          "output_type": "stream",
          "text": [
            "    0.3000 |     0.1000 |     0.8000\n"
          ],
          "name": "stdout"
        },
        {
          "output_type": "stream",
          "text": [
            "DEBUG:matplotlib.axes._base:update_title_pos\n",
            "DEBUG:matplotlib.axes._base:update_title_pos\n"
          ],
          "name": "stderr"
        },
        {
          "output_type": "stream",
          "text": [
            "    0.4000 |     0.1000 |     0.9000\n"
          ],
          "name": "stdout"
        },
        {
          "output_type": "stream",
          "text": [
            "DEBUG:matplotlib.colorbar:locator: <matplotlib.colorbar._ColorbarAutoLocator object at 0x7f9d341ff630>\n",
            "DEBUG:matplotlib.colorbar:Using auto colorbar locator on colorbar\n",
            "DEBUG:matplotlib.colorbar:locator: <matplotlib.colorbar._ColorbarAutoLocator object at 0x7f9d341ff630>\n",
            "DEBUG:matplotlib.colorbar:Setting pcolormesh\n",
            "DEBUG:matplotlib.axes._base:update_title_pos\n",
            "DEBUG:matplotlib.axes._base:update_title_pos\n",
            "DEBUG:matplotlib.colorbar:locator: <matplotlib.colorbar._ColorbarAutoLocator object at 0x7f9d349eb240>\n",
            "DEBUG:matplotlib.colorbar:Using auto colorbar locator on colorbar\n",
            "DEBUG:matplotlib.colorbar:locator: <matplotlib.colorbar._ColorbarAutoLocator object at 0x7f9d349eb240>\n",
            "DEBUG:matplotlib.colorbar:Setting pcolormesh\n"
          ],
          "name": "stderr"
        },
        {
          "output_type": "stream",
          "text": [
            "    0.5000 |     0.1000 |      1.000\n"
          ],
          "name": "stdout"
        },
        {
          "output_type": "stream",
          "text": [
            "DEBUG:matplotlib.axes._base:update_title_pos\n",
            "DEBUG:matplotlib.axes._base:update_title_pos\n",
            "DEBUG:matplotlib.colorbar:locator: <matplotlib.colorbar._ColorbarAutoLocator object at 0x7f9d341e50f0>\n",
            "DEBUG:matplotlib.colorbar:Using auto colorbar locator on colorbar\n",
            "DEBUG:matplotlib.colorbar:locator: <matplotlib.colorbar._ColorbarAutoLocator object at 0x7f9d341e50f0>\n",
            "DEBUG:matplotlib.colorbar:Setting pcolormesh\n"
          ],
          "name": "stderr"
        },
        {
          "output_type": "stream",
          "text": [
            "    0.6000 |     0.1000 |      1.100\n"
          ],
          "name": "stdout"
        },
        {
          "output_type": "stream",
          "text": [
            "DEBUG:matplotlib.axes._base:update_title_pos\n",
            "DEBUG:matplotlib.axes._base:update_title_pos\n",
            "DEBUG:matplotlib.colorbar:locator: <matplotlib.colorbar._ColorbarAutoLocator object at 0x7f9d342b8518>\n",
            "DEBUG:matplotlib.colorbar:Using auto colorbar locator on colorbar\n",
            "DEBUG:matplotlib.colorbar:locator: <matplotlib.colorbar._ColorbarAutoLocator object at 0x7f9d342b8518>\n",
            "DEBUG:matplotlib.colorbar:Setting pcolormesh\n"
          ],
          "name": "stderr"
        },
        {
          "output_type": "stream",
          "text": [
            "    0.7000 |     0.1000 |      1.200\n"
          ],
          "name": "stdout"
        },
        {
          "output_type": "stream",
          "text": [
            "DEBUG:matplotlib.axes._base:update_title_pos\n",
            "DEBUG:matplotlib.axes._base:update_title_pos\n",
            "DEBUG:matplotlib.colorbar:locator: <matplotlib.colorbar._ColorbarAutoLocator object at 0x7f9d3490c080>\n",
            "DEBUG:matplotlib.colorbar:Using auto colorbar locator on colorbar\n",
            "DEBUG:matplotlib.colorbar:locator: <matplotlib.colorbar._ColorbarAutoLocator object at 0x7f9d3490c080>\n",
            "DEBUG:matplotlib.colorbar:Setting pcolormesh\n"
          ],
          "name": "stderr"
        },
        {
          "output_type": "stream",
          "text": [
            "    0.8000 |     0.1000 |      1.300\n"
          ],
          "name": "stdout"
        },
        {
          "output_type": "stream",
          "text": [
            "DEBUG:matplotlib.axes._base:update_title_pos\n",
            "DEBUG:matplotlib.axes._base:update_title_pos\n",
            "DEBUG:matplotlib.colorbar:locator: <matplotlib.colorbar._ColorbarAutoLocator object at 0x7f9d34005048>\n",
            "DEBUG:matplotlib.colorbar:Using auto colorbar locator on colorbar\n",
            "DEBUG:matplotlib.colorbar:locator: <matplotlib.colorbar._ColorbarAutoLocator object at 0x7f9d34005048>\n",
            "DEBUG:matplotlib.colorbar:Setting pcolormesh\n"
          ],
          "name": "stderr"
        },
        {
          "output_type": "stream",
          "text": [
            "    0.9000 |     0.1000 |      1.400\n"
          ],
          "name": "stdout"
        },
        {
          "output_type": "stream",
          "text": [
            "DEBUG:matplotlib.axes._base:update_title_pos\n",
            "DEBUG:matplotlib.axes._base:update_title_pos\n",
            "DEBUG:matplotlib.colorbar:locator: <matplotlib.colorbar._ColorbarAutoLocator object at 0x7f9d33f63208>\n",
            "DEBUG:matplotlib.colorbar:Using auto colorbar locator on colorbar\n",
            "DEBUG:matplotlib.colorbar:locator: <matplotlib.colorbar._ColorbarAutoLocator object at 0x7f9d33f63208>\n",
            "DEBUG:matplotlib.colorbar:Setting pcolormesh\n"
          ],
          "name": "stderr"
        },
        {
          "output_type": "stream",
          "text": [
            "    1.0000 |     0.1000 |      1.500\n"
          ],
          "name": "stdout"
        },
        {
          "output_type": "stream",
          "text": [
            "DEBUG:matplotlib.axes._base:update_title_pos\n",
            "DEBUG:matplotlib.axes._base:update_title_pos\n",
            "DEBUG:matplotlib.colorbar:locator: <matplotlib.colorbar._ColorbarAutoLocator object at 0x7f9d33fe4da0>\n",
            "DEBUG:matplotlib.colorbar:Using auto colorbar locator on colorbar\n",
            "DEBUG:matplotlib.colorbar:locator: <matplotlib.colorbar._ColorbarAutoLocator object at 0x7f9d33fe4da0>\n",
            "DEBUG:matplotlib.colorbar:Setting pcolormesh\n"
          ],
          "name": "stderr"
        },
        {
          "output_type": "stream",
          "text": [
            "    1.1000 |     0.1000 |      1.600\n"
          ],
          "name": "stdout"
        },
        {
          "output_type": "stream",
          "text": [
            "DEBUG:matplotlib.axes._base:update_title_pos\n",
            "DEBUG:matplotlib.axes._base:update_title_pos\n",
            "DEBUG:matplotlib.colorbar:locator: <matplotlib.colorbar._ColorbarAutoLocator object at 0x7f9d3429ac18>\n",
            "DEBUG:matplotlib.colorbar:Using auto colorbar locator on colorbar\n",
            "DEBUG:matplotlib.colorbar:locator: <matplotlib.colorbar._ColorbarAutoLocator object at 0x7f9d3429ac18>\n",
            "DEBUG:matplotlib.colorbar:Setting pcolormesh\n"
          ],
          "name": "stderr"
        },
        {
          "output_type": "stream",
          "text": [
            "    1.2000 |     0.1000 |      1.700\n"
          ],
          "name": "stdout"
        },
        {
          "output_type": "stream",
          "text": [
            "DEBUG:matplotlib.axes._base:update_title_pos\n",
            "DEBUG:matplotlib.axes._base:update_title_pos\n",
            "DEBUG:matplotlib.colorbar:locator: <matplotlib.colorbar._ColorbarAutoLocator object at 0x7f9d3468d748>\n",
            "DEBUG:matplotlib.colorbar:Using auto colorbar locator on colorbar\n",
            "DEBUG:matplotlib.colorbar:locator: <matplotlib.colorbar._ColorbarAutoLocator object at 0x7f9d3468d748>\n",
            "DEBUG:matplotlib.colorbar:Setting pcolormesh\n"
          ],
          "name": "stderr"
        },
        {
          "output_type": "stream",
          "text": [
            "    1.3000 |     0.1000 |      1.800\n"
          ],
          "name": "stdout"
        },
        {
          "output_type": "stream",
          "text": [
            "DEBUG:matplotlib.axes._base:update_title_pos\n",
            "DEBUG:matplotlib.axes._base:update_title_pos\n",
            "DEBUG:matplotlib.colorbar:locator: <matplotlib.colorbar._ColorbarAutoLocator object at 0x7f9d341d9208>\n",
            "DEBUG:matplotlib.colorbar:Using auto colorbar locator on colorbar\n",
            "DEBUG:matplotlib.colorbar:locator: <matplotlib.colorbar._ColorbarAutoLocator object at 0x7f9d341d9208>\n",
            "DEBUG:matplotlib.colorbar:Setting pcolormesh\n"
          ],
          "name": "stderr"
        },
        {
          "output_type": "stream",
          "text": [
            "    1.4000 |     0.1000 |      1.900\n"
          ],
          "name": "stdout"
        },
        {
          "output_type": "stream",
          "text": [
            "DEBUG:matplotlib.axes._base:update_title_pos\n",
            "DEBUG:matplotlib.axes._base:update_title_pos\n",
            "DEBUG:matplotlib.colorbar:locator: <matplotlib.colorbar._ColorbarAutoLocator object at 0x7f9d33d5abe0>\n",
            "DEBUG:matplotlib.colorbar:Using auto colorbar locator on colorbar\n",
            "DEBUG:matplotlib.colorbar:locator: <matplotlib.colorbar._ColorbarAutoLocator object at 0x7f9d33d5abe0>\n",
            "DEBUG:matplotlib.colorbar:Setting pcolormesh\n"
          ],
          "name": "stderr"
        },
        {
          "output_type": "stream",
          "text": [
            "    1.5000 |     0.1000 |      2.000\n"
          ],
          "name": "stdout"
        },
        {
          "output_type": "stream",
          "text": [
            "DEBUG:matplotlib.axes._base:update_title_pos\n",
            "DEBUG:matplotlib.axes._base:update_title_pos\n",
            "DEBUG:matplotlib.colorbar:locator: <matplotlib.colorbar._ColorbarAutoLocator object at 0x7f9d33b5d710>\n",
            "DEBUG:matplotlib.colorbar:Using auto colorbar locator on colorbar\n",
            "DEBUG:matplotlib.colorbar:locator: <matplotlib.colorbar._ColorbarAutoLocator object at 0x7f9d33b5d710>\n",
            "DEBUG:matplotlib.colorbar:Setting pcolormesh\n"
          ],
          "name": "stderr"
        },
        {
          "output_type": "stream",
          "text": [
            "    1.6000 |     0.1000 |      2.100\n"
          ],
          "name": "stdout"
        },
        {
          "output_type": "stream",
          "text": [
            "DEBUG:matplotlib.axes._base:update_title_pos\n",
            "DEBUG:matplotlib.axes._base:update_title_pos\n"
          ],
          "name": "stderr"
        },
        {
          "output_type": "stream",
          "text": [
            "    1.7000 |     0.1000 |      2.200\n"
          ],
          "name": "stdout"
        },
        {
          "output_type": "stream",
          "text": [
            "DEBUG:matplotlib.colorbar:locator: <matplotlib.colorbar._ColorbarAutoLocator object at 0x7f9d33d64780>\n",
            "DEBUG:matplotlib.colorbar:Using auto colorbar locator on colorbar\n",
            "DEBUG:matplotlib.colorbar:locator: <matplotlib.colorbar._ColorbarAutoLocator object at 0x7f9d33d64780>\n",
            "DEBUG:matplotlib.colorbar:Setting pcolormesh\n",
            "DEBUG:matplotlib.axes._base:update_title_pos\n",
            "DEBUG:matplotlib.axes._base:update_title_pos\n",
            "DEBUG:matplotlib.colorbar:locator: <matplotlib.colorbar._ColorbarAutoLocator object at 0x7f9d33eb5ac8>\n",
            "DEBUG:matplotlib.colorbar:Using auto colorbar locator on colorbar\n",
            "DEBUG:matplotlib.colorbar:locator: <matplotlib.colorbar._ColorbarAutoLocator object at 0x7f9d33eb5ac8>\n",
            "DEBUG:matplotlib.colorbar:Setting pcolormesh\n"
          ],
          "name": "stderr"
        },
        {
          "output_type": "stream",
          "text": [
            "    1.8000 |     0.1000 |      2.300\n"
          ],
          "name": "stdout"
        },
        {
          "output_type": "stream",
          "text": [
            "DEBUG:matplotlib.axes._base:update_title_pos\n",
            "DEBUG:matplotlib.axes._base:update_title_pos\n",
            "DEBUG:matplotlib.colorbar:locator: <matplotlib.colorbar._ColorbarAutoLocator object at 0x7f9d33d4cbe0>\n",
            "DEBUG:matplotlib.colorbar:Using auto colorbar locator on colorbar\n",
            "DEBUG:matplotlib.colorbar:locator: <matplotlib.colorbar._ColorbarAutoLocator object at 0x7f9d33d4cbe0>\n",
            "DEBUG:matplotlib.colorbar:Setting pcolormesh\n"
          ],
          "name": "stderr"
        },
        {
          "output_type": "stream",
          "text": [
            "    1.9000 |     0.1000 |      2.400\n"
          ],
          "name": "stdout"
        },
        {
          "output_type": "stream",
          "text": [
            "DEBUG:matplotlib.axes._base:update_title_pos\n",
            "DEBUG:matplotlib.axes._base:update_title_pos\n",
            "DEBUG:matplotlib.colorbar:locator: <matplotlib.colorbar._ColorbarAutoLocator object at 0x7f9d34bf92b0>\n",
            "DEBUG:matplotlib.colorbar:Using auto colorbar locator on colorbar\n",
            "DEBUG:matplotlib.colorbar:locator: <matplotlib.colorbar._ColorbarAutoLocator object at 0x7f9d34bf92b0>\n",
            "DEBUG:matplotlib.colorbar:Setting pcolormesh\n"
          ],
          "name": "stderr"
        },
        {
          "output_type": "stream",
          "text": [
            "Task 4, theta = 1\n",
            "t          | dt         | energy    \n",
            "    0.0000 |     0.1000 |     0.5000\n"
          ],
          "name": "stdout"
        },
        {
          "output_type": "stream",
          "text": [
            "DEBUG:matplotlib.axes._base:update_title_pos\n",
            "DEBUG:matplotlib.axes._base:update_title_pos\n",
            "DEBUG:matplotlib.colorbar:locator: <matplotlib.colorbar._ColorbarAutoLocator object at 0x7f9d33a0b630>\n",
            "DEBUG:matplotlib.colorbar:Using auto colorbar locator on colorbar\n",
            "DEBUG:matplotlib.colorbar:locator: <matplotlib.colorbar._ColorbarAutoLocator object at 0x7f9d33a0b630>\n",
            "DEBUG:matplotlib.colorbar:Setting pcolormesh\n"
          ],
          "name": "stderr"
        },
        {
          "output_type": "stream",
          "text": [
            "    0.1000 |     0.1000 |     0.7000\n"
          ],
          "name": "stdout"
        },
        {
          "output_type": "stream",
          "text": [
            "DEBUG:matplotlib.axes._base:update_title_pos\n",
            "DEBUG:matplotlib.axes._base:update_title_pos\n",
            "DEBUG:matplotlib.colorbar:locator: <matplotlib.colorbar._ColorbarAutoLocator object at 0x7f9d346072b0>\n",
            "DEBUG:matplotlib.colorbar:Using auto colorbar locator on colorbar\n",
            "DEBUG:matplotlib.colorbar:locator: <matplotlib.colorbar._ColorbarAutoLocator object at 0x7f9d346072b0>\n",
            "DEBUG:matplotlib.colorbar:Setting pcolormesh\n"
          ],
          "name": "stderr"
        },
        {
          "output_type": "stream",
          "text": [
            "    0.2000 |     0.1000 |     0.9000\n"
          ],
          "name": "stdout"
        },
        {
          "output_type": "stream",
          "text": [
            "DEBUG:matplotlib.axes._base:update_title_pos\n",
            "DEBUG:matplotlib.axes._base:update_title_pos\n"
          ],
          "name": "stderr"
        },
        {
          "output_type": "stream",
          "text": [
            "    0.3000 |     0.1000 |      1.100\n"
          ],
          "name": "stdout"
        },
        {
          "output_type": "stream",
          "text": [
            "DEBUG:matplotlib.colorbar:locator: <matplotlib.colorbar._ColorbarAutoLocator object at 0x7f9d341258d0>\n",
            "DEBUG:matplotlib.colorbar:Using auto colorbar locator on colorbar\n",
            "DEBUG:matplotlib.colorbar:locator: <matplotlib.colorbar._ColorbarAutoLocator object at 0x7f9d341258d0>\n",
            "DEBUG:matplotlib.colorbar:Setting pcolormesh\n",
            "DEBUG:matplotlib.axes._base:update_title_pos\n",
            "DEBUG:matplotlib.axes._base:update_title_pos\n",
            "DEBUG:matplotlib.colorbar:locator: <matplotlib.colorbar._ColorbarAutoLocator object at 0x7f9d34a46cc0>\n",
            "DEBUG:matplotlib.colorbar:Using auto colorbar locator on colorbar\n",
            "DEBUG:matplotlib.colorbar:locator: <matplotlib.colorbar._ColorbarAutoLocator object at 0x7f9d34a46cc0>\n",
            "DEBUG:matplotlib.colorbar:Setting pcolormesh\n"
          ],
          "name": "stderr"
        },
        {
          "output_type": "stream",
          "text": [
            "    0.4000 |     0.1000 |      1.300\n"
          ],
          "name": "stdout"
        },
        {
          "output_type": "stream",
          "text": [
            "DEBUG:matplotlib.axes._base:update_title_pos\n",
            "DEBUG:matplotlib.axes._base:update_title_pos\n",
            "DEBUG:matplotlib.colorbar:locator: <matplotlib.colorbar._ColorbarAutoLocator object at 0x7f9d349085c0>\n",
            "DEBUG:matplotlib.colorbar:Using auto colorbar locator on colorbar\n",
            "DEBUG:matplotlib.colorbar:locator: <matplotlib.colorbar._ColorbarAutoLocator object at 0x7f9d349085c0>\n",
            "DEBUG:matplotlib.colorbar:Setting pcolormesh\n"
          ],
          "name": "stderr"
        },
        {
          "output_type": "stream",
          "text": [
            "    0.5000 |     0.1000 |      1.500\n"
          ],
          "name": "stdout"
        },
        {
          "output_type": "stream",
          "text": [
            "DEBUG:matplotlib.axes._base:update_title_pos\n",
            "DEBUG:matplotlib.axes._base:update_title_pos\n",
            "DEBUG:matplotlib.colorbar:locator: <matplotlib.colorbar._ColorbarAutoLocator object at 0x7f9d33bfd6d8>\n",
            "DEBUG:matplotlib.colorbar:Using auto colorbar locator on colorbar\n",
            "DEBUG:matplotlib.colorbar:locator: <matplotlib.colorbar._ColorbarAutoLocator object at 0x7f9d33bfd6d8>\n",
            "DEBUG:matplotlib.colorbar:Setting pcolormesh\n"
          ],
          "name": "stderr"
        },
        {
          "output_type": "stream",
          "text": [
            "    0.6000 |     0.1000 |      1.700\n"
          ],
          "name": "stdout"
        },
        {
          "output_type": "stream",
          "text": [
            "DEBUG:matplotlib.axes._base:update_title_pos\n",
            "DEBUG:matplotlib.axes._base:update_title_pos\n",
            "DEBUG:matplotlib.colorbar:locator: <matplotlib.colorbar._ColorbarAutoLocator object at 0x7f9d34948320>\n",
            "DEBUG:matplotlib.colorbar:Using auto colorbar locator on colorbar\n",
            "DEBUG:matplotlib.colorbar:locator: <matplotlib.colorbar._ColorbarAutoLocator object at 0x7f9d34948320>\n",
            "DEBUG:matplotlib.colorbar:Setting pcolormesh\n"
          ],
          "name": "stderr"
        },
        {
          "output_type": "stream",
          "text": [
            "    0.7000 |     0.1000 |      1.900\n"
          ],
          "name": "stdout"
        },
        {
          "output_type": "stream",
          "text": [
            "DEBUG:matplotlib.axes._base:update_title_pos\n",
            "DEBUG:matplotlib.axes._base:update_title_pos\n",
            "DEBUG:matplotlib.colorbar:locator: <matplotlib.colorbar._ColorbarAutoLocator object at 0x7f9d33e74f28>\n",
            "DEBUG:matplotlib.colorbar:Using auto colorbar locator on colorbar\n",
            "DEBUG:matplotlib.colorbar:locator: <matplotlib.colorbar._ColorbarAutoLocator object at 0x7f9d33e74f28>\n",
            "DEBUG:matplotlib.colorbar:Setting pcolormesh\n"
          ],
          "name": "stderr"
        },
        {
          "output_type": "stream",
          "text": [
            "    0.8000 |     0.1000 |      2.100\n"
          ],
          "name": "stdout"
        },
        {
          "output_type": "stream",
          "text": [
            "DEBUG:matplotlib.axes._base:update_title_pos\n",
            "DEBUG:matplotlib.axes._base:update_title_pos\n",
            "DEBUG:matplotlib.colorbar:locator: <matplotlib.colorbar._ColorbarAutoLocator object at 0x7f9d33cbab70>\n",
            "DEBUG:matplotlib.colorbar:Using auto colorbar locator on colorbar\n",
            "DEBUG:matplotlib.colorbar:locator: <matplotlib.colorbar._ColorbarAutoLocator object at 0x7f9d33cbab70>\n",
            "DEBUG:matplotlib.colorbar:Setting pcolormesh\n"
          ],
          "name": "stderr"
        },
        {
          "output_type": "stream",
          "text": [
            "    0.9000 |     0.1000 |      2.300\n"
          ],
          "name": "stdout"
        },
        {
          "output_type": "stream",
          "text": [
            "DEBUG:matplotlib.axes._base:update_title_pos\n",
            "DEBUG:matplotlib.axes._base:update_title_pos\n",
            "DEBUG:matplotlib.colorbar:locator: <matplotlib.colorbar._ColorbarAutoLocator object at 0x7f9d338ff7b8>\n",
            "DEBUG:matplotlib.colorbar:Using auto colorbar locator on colorbar\n",
            "DEBUG:matplotlib.colorbar:locator: <matplotlib.colorbar._ColorbarAutoLocator object at 0x7f9d338ff7b8>\n",
            "DEBUG:matplotlib.colorbar:Setting pcolormesh\n"
          ],
          "name": "stderr"
        },
        {
          "output_type": "stream",
          "text": [
            "    1.0000 |     0.1000 |      2.500\n"
          ],
          "name": "stdout"
        },
        {
          "output_type": "stream",
          "text": [
            "DEBUG:matplotlib.axes._base:update_title_pos\n",
            "DEBUG:matplotlib.axes._base:update_title_pos\n",
            "DEBUG:matplotlib.colorbar:locator: <matplotlib.colorbar._ColorbarAutoLocator object at 0x7f9d337052b0>\n",
            "DEBUG:matplotlib.colorbar:Using auto colorbar locator on colorbar\n",
            "DEBUG:matplotlib.colorbar:locator: <matplotlib.colorbar._ColorbarAutoLocator object at 0x7f9d337052b0>\n",
            "DEBUG:matplotlib.colorbar:Setting pcolormesh\n"
          ],
          "name": "stderr"
        },
        {
          "output_type": "stream",
          "text": [
            "    1.1000 |     0.1000 |      2.700\n"
          ],
          "name": "stdout"
        },
        {
          "output_type": "stream",
          "text": [
            "DEBUG:matplotlib.axes._base:update_title_pos\n",
            "DEBUG:matplotlib.axes._base:update_title_pos\n"
          ],
          "name": "stderr"
        },
        {
          "output_type": "stream",
          "text": [
            "    1.2000 |     0.1000 |      2.900\n"
          ],
          "name": "stdout"
        },
        {
          "output_type": "stream",
          "text": [
            "DEBUG:matplotlib.colorbar:locator: <matplotlib.colorbar._ColorbarAutoLocator object at 0x7f9d33726518>\n",
            "DEBUG:matplotlib.colorbar:Using auto colorbar locator on colorbar\n",
            "DEBUG:matplotlib.colorbar:locator: <matplotlib.colorbar._ColorbarAutoLocator object at 0x7f9d33726518>\n",
            "DEBUG:matplotlib.colorbar:Setting pcolormesh\n",
            "DEBUG:matplotlib.axes._base:update_title_pos\n",
            "DEBUG:matplotlib.axes._base:update_title_pos\n",
            "DEBUG:matplotlib.colorbar:locator: <matplotlib.colorbar._ColorbarAutoLocator object at 0x7f9d33ef6668>\n",
            "DEBUG:matplotlib.colorbar:Using auto colorbar locator on colorbar\n",
            "DEBUG:matplotlib.colorbar:locator: <matplotlib.colorbar._ColorbarAutoLocator object at 0x7f9d33ef6668>\n",
            "DEBUG:matplotlib.colorbar:Setting pcolormesh\n"
          ],
          "name": "stderr"
        },
        {
          "output_type": "stream",
          "text": [
            "    1.3000 |     0.1000 |      3.100\n"
          ],
          "name": "stdout"
        },
        {
          "output_type": "stream",
          "text": [
            "DEBUG:matplotlib.axes._base:update_title_pos\n",
            "DEBUG:matplotlib.axes._base:update_title_pos\n",
            "DEBUG:matplotlib.colorbar:locator: <matplotlib.colorbar._ColorbarAutoLocator object at 0x7f9d386da630>\n",
            "DEBUG:matplotlib.colorbar:Using auto colorbar locator on colorbar\n",
            "DEBUG:matplotlib.colorbar:locator: <matplotlib.colorbar._ColorbarAutoLocator object at 0x7f9d386da630>\n",
            "DEBUG:matplotlib.colorbar:Setting pcolormesh\n"
          ],
          "name": "stderr"
        },
        {
          "output_type": "stream",
          "text": [
            "    1.4000 |     0.1000 |      3.300\n"
          ],
          "name": "stdout"
        },
        {
          "output_type": "stream",
          "text": [
            "DEBUG:matplotlib.axes._base:update_title_pos\n",
            "DEBUG:matplotlib.axes._base:update_title_pos\n",
            "DEBUG:matplotlib.colorbar:locator: <matplotlib.colorbar._ColorbarAutoLocator object at 0x7f9d34178ba8>\n",
            "DEBUG:matplotlib.colorbar:Using auto colorbar locator on colorbar\n",
            "DEBUG:matplotlib.colorbar:locator: <matplotlib.colorbar._ColorbarAutoLocator object at 0x7f9d34178ba8>\n",
            "DEBUG:matplotlib.colorbar:Setting pcolormesh\n"
          ],
          "name": "stderr"
        },
        {
          "output_type": "stream",
          "text": [
            "    1.5000 |     0.1000 |      3.500\n"
          ],
          "name": "stdout"
        },
        {
          "output_type": "stream",
          "text": [
            "DEBUG:matplotlib.axes._base:update_title_pos\n",
            "DEBUG:matplotlib.axes._base:update_title_pos\n",
            "DEBUG:matplotlib.colorbar:locator: <matplotlib.colorbar._ColorbarAutoLocator object at 0x7f9d34a5d7f0>\n",
            "DEBUG:matplotlib.colorbar:Using auto colorbar locator on colorbar\n",
            "DEBUG:matplotlib.colorbar:locator: <matplotlib.colorbar._ColorbarAutoLocator object at 0x7f9d34a5d7f0>\n",
            "DEBUG:matplotlib.colorbar:Setting pcolormesh\n"
          ],
          "name": "stderr"
        },
        {
          "output_type": "stream",
          "text": [
            "    1.6000 |     0.1000 |      3.700\n"
          ],
          "name": "stdout"
        },
        {
          "output_type": "stream",
          "text": [
            "DEBUG:matplotlib.axes._base:update_title_pos\n",
            "DEBUG:matplotlib.axes._base:update_title_pos\n",
            "DEBUG:matplotlib.colorbar:locator: <matplotlib.colorbar._ColorbarAutoLocator object at 0x7f9d33ffc400>\n",
            "DEBUG:matplotlib.colorbar:Using auto colorbar locator on colorbar\n",
            "DEBUG:matplotlib.colorbar:locator: <matplotlib.colorbar._ColorbarAutoLocator object at 0x7f9d33ffc400>\n",
            "DEBUG:matplotlib.colorbar:Setting pcolormesh\n"
          ],
          "name": "stderr"
        },
        {
          "output_type": "stream",
          "text": [
            "    1.7000 |     0.1000 |      3.900\n"
          ],
          "name": "stdout"
        },
        {
          "output_type": "stream",
          "text": [
            "DEBUG:matplotlib.axes._base:update_title_pos\n",
            "DEBUG:matplotlib.axes._base:update_title_pos\n",
            "DEBUG:matplotlib.colorbar:locator: <matplotlib.colorbar._ColorbarAutoLocator object at 0x7f9d3414f048>\n",
            "DEBUG:matplotlib.colorbar:Using auto colorbar locator on colorbar\n",
            "DEBUG:matplotlib.colorbar:locator: <matplotlib.colorbar._ColorbarAutoLocator object at 0x7f9d3414f048>\n",
            "DEBUG:matplotlib.colorbar:Setting pcolormesh\n"
          ],
          "name": "stderr"
        },
        {
          "output_type": "stream",
          "text": [
            "    1.8000 |     0.1000 |      4.100\n"
          ],
          "name": "stdout"
        },
        {
          "output_type": "stream",
          "text": [
            "DEBUG:matplotlib.axes._base:update_title_pos\n",
            "DEBUG:matplotlib.axes._base:update_title_pos\n",
            "DEBUG:matplotlib.colorbar:locator: <matplotlib.colorbar._ColorbarAutoLocator object at 0x7f9d337f9c50>\n",
            "DEBUG:matplotlib.colorbar:Using auto colorbar locator on colorbar\n",
            "DEBUG:matplotlib.colorbar:locator: <matplotlib.colorbar._ColorbarAutoLocator object at 0x7f9d337f9c50>\n",
            "DEBUG:matplotlib.colorbar:Setting pcolormesh\n"
          ],
          "name": "stderr"
        },
        {
          "output_type": "stream",
          "text": [
            "    1.9000 |     0.1000 |      4.300\n"
          ],
          "name": "stdout"
        },
        {
          "output_type": "stream",
          "text": [
            "DEBUG:matplotlib.axes._base:update_title_pos\n",
            "DEBUG:matplotlib.axes._base:update_title_pos\n"
          ],
          "name": "stderr"
        },
        {
          "output_type": "stream",
          "text": [
            "Task 5, theta = 1\n",
            "t          | dt         | energy    \n",
            "    0.0000 |     0.1000 |     0.5000\n"
          ],
          "name": "stdout"
        },
        {
          "output_type": "stream",
          "text": [
            "DEBUG:matplotlib.colorbar:locator: <matplotlib.colorbar._ColorbarAutoLocator object at 0x7f9d33afd470>\n",
            "DEBUG:matplotlib.colorbar:Using auto colorbar locator on colorbar\n",
            "DEBUG:matplotlib.colorbar:locator: <matplotlib.colorbar._ColorbarAutoLocator object at 0x7f9d33afd470>\n",
            "DEBUG:matplotlib.colorbar:Setting pcolormesh\n",
            "DEBUG:matplotlib.axes._base:update_title_pos\n",
            "DEBUG:matplotlib.axes._base:update_title_pos\n",
            "DEBUG:matplotlib.colorbar:locator: <matplotlib.colorbar._ColorbarAutoLocator object at 0x7f9d38848da0>\n",
            "DEBUG:matplotlib.colorbar:Using auto colorbar locator on colorbar\n",
            "DEBUG:matplotlib.colorbar:locator: <matplotlib.colorbar._ColorbarAutoLocator object at 0x7f9d38848da0>\n",
            "DEBUG:matplotlib.colorbar:Setting pcolormesh\n"
          ],
          "name": "stderr"
        },
        {
          "output_type": "stream",
          "text": [
            "    0.1000 |     0.1000 |     0.5450\n"
          ],
          "name": "stdout"
        },
        {
          "output_type": "stream",
          "text": [
            "DEBUG:matplotlib.axes._base:update_title_pos\n",
            "DEBUG:matplotlib.axes._base:update_title_pos\n",
            "DEBUG:matplotlib.colorbar:locator: <matplotlib.colorbar._ColorbarAutoLocator object at 0x7f9d33b819e8>\n",
            "DEBUG:matplotlib.colorbar:Using auto colorbar locator on colorbar\n",
            "DEBUG:matplotlib.colorbar:locator: <matplotlib.colorbar._ColorbarAutoLocator object at 0x7f9d33b819e8>\n",
            "DEBUG:matplotlib.colorbar:Setting pcolormesh\n"
          ],
          "name": "stderr"
        },
        {
          "output_type": "stream",
          "text": [
            "    0.2000 |     0.1000 |     0.5850\n"
          ],
          "name": "stdout"
        },
        {
          "output_type": "stream",
          "text": [
            "DEBUG:matplotlib.axes._base:update_title_pos\n",
            "DEBUG:matplotlib.axes._base:update_title_pos\n",
            "DEBUG:matplotlib.colorbar:locator: <matplotlib.colorbar._ColorbarAutoLocator object at 0x7f9d34dfe6d8>\n",
            "DEBUG:matplotlib.colorbar:Using auto colorbar locator on colorbar\n",
            "DEBUG:matplotlib.colorbar:locator: <matplotlib.colorbar._ColorbarAutoLocator object at 0x7f9d34dfe6d8>\n",
            "DEBUG:matplotlib.colorbar:Setting pcolormesh\n"
          ],
          "name": "stderr"
        },
        {
          "output_type": "stream",
          "text": [
            "    0.3000 |     0.1000 |     0.6200\n"
          ],
          "name": "stdout"
        },
        {
          "output_type": "stream",
          "text": [
            "DEBUG:matplotlib.axes._base:update_title_pos\n",
            "DEBUG:matplotlib.axes._base:update_title_pos\n",
            "DEBUG:matplotlib.colorbar:locator: <matplotlib.colorbar._ColorbarAutoLocator object at 0x7f9d34ba8320>\n",
            "DEBUG:matplotlib.colorbar:Using auto colorbar locator on colorbar\n",
            "DEBUG:matplotlib.colorbar:locator: <matplotlib.colorbar._ColorbarAutoLocator object at 0x7f9d34ba8320>\n",
            "DEBUG:matplotlib.colorbar:Setting pcolormesh\n"
          ],
          "name": "stderr"
        },
        {
          "output_type": "stream",
          "text": [
            "    0.4000 |     0.1000 |     0.6500\n"
          ],
          "name": "stdout"
        },
        {
          "output_type": "stream",
          "text": [
            "DEBUG:matplotlib.axes._base:update_title_pos\n",
            "DEBUG:matplotlib.axes._base:update_title_pos\n",
            "DEBUG:matplotlib.colorbar:locator: <matplotlib.colorbar._ColorbarAutoLocator object at 0x7f9d34529f28>\n",
            "DEBUG:matplotlib.colorbar:Using auto colorbar locator on colorbar\n",
            "DEBUG:matplotlib.colorbar:locator: <matplotlib.colorbar._ColorbarAutoLocator object at 0x7f9d34529f28>\n",
            "DEBUG:matplotlib.colorbar:Setting pcolormesh\n"
          ],
          "name": "stderr"
        },
        {
          "output_type": "stream",
          "text": [
            "    0.5000 |     0.1000 |     0.6750\n"
          ],
          "name": "stdout"
        },
        {
          "output_type": "stream",
          "text": [
            "DEBUG:matplotlib.axes._base:update_title_pos\n",
            "DEBUG:matplotlib.axes._base:update_title_pos\n",
            "DEBUG:matplotlib.colorbar:locator: <matplotlib.colorbar._ColorbarAutoLocator object at 0x7f9d33e27b70>\n",
            "DEBUG:matplotlib.colorbar:Using auto colorbar locator on colorbar\n",
            "DEBUG:matplotlib.colorbar:locator: <matplotlib.colorbar._ColorbarAutoLocator object at 0x7f9d33e27b70>\n",
            "DEBUG:matplotlib.colorbar:Setting pcolormesh\n"
          ],
          "name": "stderr"
        },
        {
          "output_type": "stream",
          "text": [
            "    0.6000 |     0.1000 |     0.6950\n"
          ],
          "name": "stdout"
        },
        {
          "output_type": "stream",
          "text": [
            "DEBUG:matplotlib.axes._base:update_title_pos\n",
            "DEBUG:matplotlib.axes._base:update_title_pos\n",
            "DEBUG:matplotlib.colorbar:locator: <matplotlib.colorbar._ColorbarAutoLocator object at 0x7f9d33ab67b8>\n",
            "DEBUG:matplotlib.colorbar:Using auto colorbar locator on colorbar\n",
            "DEBUG:matplotlib.colorbar:locator: <matplotlib.colorbar._ColorbarAutoLocator object at 0x7f9d33ab67b8>\n",
            "DEBUG:matplotlib.colorbar:Setting pcolormesh\n"
          ],
          "name": "stderr"
        },
        {
          "output_type": "stream",
          "text": [
            "    0.7000 |     0.1000 |     0.7100\n"
          ],
          "name": "stdout"
        },
        {
          "output_type": "stream",
          "text": [
            "DEBUG:matplotlib.axes._base:update_title_pos\n",
            "DEBUG:matplotlib.axes._base:update_title_pos\n"
          ],
          "name": "stderr"
        },
        {
          "output_type": "stream",
          "text": [
            "    0.8000 |     0.1000 |     0.7200\n"
          ],
          "name": "stdout"
        },
        {
          "output_type": "stream",
          "text": [
            "DEBUG:matplotlib.colorbar:locator: <matplotlib.colorbar._ColorbarAutoLocator object at 0x7f9d33cfbef0>\n",
            "DEBUG:matplotlib.colorbar:Using auto colorbar locator on colorbar\n",
            "DEBUG:matplotlib.colorbar:locator: <matplotlib.colorbar._ColorbarAutoLocator object at 0x7f9d33cfbef0>\n",
            "DEBUG:matplotlib.colorbar:Setting pcolormesh\n",
            "DEBUG:matplotlib.axes._base:update_title_pos\n",
            "DEBUG:matplotlib.axes._base:update_title_pos\n",
            "DEBUG:matplotlib.colorbar:locator: <matplotlib.colorbar._ColorbarAutoLocator object at 0x7f9d3862d5c0>\n",
            "DEBUG:matplotlib.colorbar:Using auto colorbar locator on colorbar\n",
            "DEBUG:matplotlib.colorbar:locator: <matplotlib.colorbar._ColorbarAutoLocator object at 0x7f9d3862d5c0>\n",
            "DEBUG:matplotlib.colorbar:Setting pcolormesh\n"
          ],
          "name": "stderr"
        },
        {
          "output_type": "stream",
          "text": [
            "    0.9000 |     0.1000 |     0.7250\n"
          ],
          "name": "stdout"
        },
        {
          "output_type": "stream",
          "text": [
            "DEBUG:matplotlib.axes._base:update_title_pos\n",
            "DEBUG:matplotlib.axes._base:update_title_pos\n",
            "DEBUG:matplotlib.colorbar:locator: <matplotlib.colorbar._ColorbarAutoLocator object at 0x7f9d34dc77f0>\n",
            "DEBUG:matplotlib.colorbar:Using auto colorbar locator on colorbar\n",
            "DEBUG:matplotlib.colorbar:locator: <matplotlib.colorbar._ColorbarAutoLocator object at 0x7f9d34dc77f0>\n",
            "DEBUG:matplotlib.colorbar:Setting pcolormesh\n"
          ],
          "name": "stderr"
        },
        {
          "output_type": "stream",
          "text": [
            "    1.0000 |     0.1000 |     0.7250\n"
          ],
          "name": "stdout"
        },
        {
          "output_type": "stream",
          "text": [
            "DEBUG:matplotlib.axes._base:update_title_pos\n",
            "DEBUG:matplotlib.axes._base:update_title_pos\n",
            "DEBUG:matplotlib.colorbar:locator: <matplotlib.colorbar._ColorbarAutoLocator object at 0x7f9d34a34470>\n",
            "DEBUG:matplotlib.colorbar:Using auto colorbar locator on colorbar\n",
            "DEBUG:matplotlib.colorbar:locator: <matplotlib.colorbar._ColorbarAutoLocator object at 0x7f9d34a34470>\n",
            "DEBUG:matplotlib.colorbar:Setting pcolormesh\n"
          ],
          "name": "stderr"
        },
        {
          "output_type": "stream",
          "text": [
            "    1.1000 |     0.1000 |     0.7250\n"
          ],
          "name": "stdout"
        },
        {
          "output_type": "stream",
          "text": [
            "DEBUG:matplotlib.axes._base:update_title_pos\n",
            "DEBUG:matplotlib.axes._base:update_title_pos\n",
            "DEBUG:matplotlib.colorbar:locator: <matplotlib.colorbar._ColorbarAutoLocator object at 0x7f9d33b1a278>\n",
            "DEBUG:matplotlib.colorbar:Using auto colorbar locator on colorbar\n",
            "DEBUG:matplotlib.colorbar:locator: <matplotlib.colorbar._ColorbarAutoLocator object at 0x7f9d33b1a278>\n",
            "DEBUG:matplotlib.colorbar:Setting pcolormesh\n"
          ],
          "name": "stderr"
        },
        {
          "output_type": "stream",
          "text": [
            "    1.2000 |     0.1000 |     0.7250\n"
          ],
          "name": "stdout"
        },
        {
          "output_type": "stream",
          "text": [
            "DEBUG:matplotlib.axes._base:update_title_pos\n",
            "DEBUG:matplotlib.axes._base:update_title_pos\n",
            "DEBUG:matplotlib.colorbar:locator: <matplotlib.colorbar._ColorbarAutoLocator object at 0x7f9d33c0b160>\n",
            "DEBUG:matplotlib.colorbar:Using auto colorbar locator on colorbar\n",
            "DEBUG:matplotlib.colorbar:locator: <matplotlib.colorbar._ColorbarAutoLocator object at 0x7f9d33c0b160>\n",
            "DEBUG:matplotlib.colorbar:Setting pcolormesh\n"
          ],
          "name": "stderr"
        },
        {
          "output_type": "stream",
          "text": [
            "    1.3000 |     0.1000 |     0.7250\n"
          ],
          "name": "stdout"
        },
        {
          "output_type": "stream",
          "text": [
            "DEBUG:matplotlib.axes._base:update_title_pos\n",
            "DEBUG:matplotlib.axes._base:update_title_pos\n"
          ],
          "name": "stderr"
        },
        {
          "output_type": "stream",
          "text": [
            "    1.4000 |     0.1000 |     0.7250\n"
          ],
          "name": "stdout"
        },
        {
          "output_type": "stream",
          "text": [
            "DEBUG:matplotlib.colorbar:locator: <matplotlib.colorbar._ColorbarAutoLocator object at 0x7f9d338b2278>\n",
            "DEBUG:matplotlib.colorbar:Using auto colorbar locator on colorbar\n",
            "DEBUG:matplotlib.colorbar:locator: <matplotlib.colorbar._ColorbarAutoLocator object at 0x7f9d338b2278>\n",
            "DEBUG:matplotlib.colorbar:Setting pcolormesh\n",
            "DEBUG:matplotlib.axes._base:update_title_pos\n",
            "DEBUG:matplotlib.axes._base:update_title_pos\n",
            "DEBUG:matplotlib.colorbar:locator: <matplotlib.colorbar._ColorbarAutoLocator object at 0x7f9d391f66a0>\n",
            "DEBUG:matplotlib.colorbar:Using auto colorbar locator on colorbar\n",
            "DEBUG:matplotlib.colorbar:locator: <matplotlib.colorbar._ColorbarAutoLocator object at 0x7f9d391f66a0>\n",
            "DEBUG:matplotlib.colorbar:Setting pcolormesh\n"
          ],
          "name": "stderr"
        },
        {
          "output_type": "stream",
          "text": [
            "    1.5000 |     0.1000 |     0.7250\n"
          ],
          "name": "stdout"
        },
        {
          "output_type": "stream",
          "text": [
            "DEBUG:matplotlib.axes._base:update_title_pos\n",
            "DEBUG:matplotlib.axes._base:update_title_pos\n",
            "DEBUG:matplotlib.colorbar:locator: <matplotlib.colorbar._ColorbarAutoLocator object at 0x7f9d338e3ba8>\n",
            "DEBUG:matplotlib.colorbar:Using auto colorbar locator on colorbar\n",
            "DEBUG:matplotlib.colorbar:locator: <matplotlib.colorbar._ColorbarAutoLocator object at 0x7f9d338e3ba8>\n",
            "DEBUG:matplotlib.colorbar:Setting pcolormesh\n"
          ],
          "name": "stderr"
        },
        {
          "output_type": "stream",
          "text": [
            "    1.6000 |     0.1000 |     0.7250\n"
          ],
          "name": "stdout"
        },
        {
          "output_type": "stream",
          "text": [
            "DEBUG:matplotlib.axes._base:update_title_pos\n",
            "DEBUG:matplotlib.axes._base:update_title_pos\n",
            "DEBUG:matplotlib.colorbar:locator: <matplotlib.colorbar._ColorbarAutoLocator object at 0x7f9d3487d898>\n",
            "DEBUG:matplotlib.colorbar:Using auto colorbar locator on colorbar\n",
            "DEBUG:matplotlib.colorbar:locator: <matplotlib.colorbar._ColorbarAutoLocator object at 0x7f9d3487d898>\n",
            "DEBUG:matplotlib.colorbar:Setting pcolormesh\n"
          ],
          "name": "stderr"
        },
        {
          "output_type": "stream",
          "text": [
            "    1.7000 |     0.1000 |     0.7250\n"
          ],
          "name": "stdout"
        },
        {
          "output_type": "stream",
          "text": [
            "DEBUG:matplotlib.axes._base:update_title_pos\n",
            "DEBUG:matplotlib.axes._base:update_title_pos\n",
            "DEBUG:matplotlib.colorbar:locator: <matplotlib.colorbar._ColorbarAutoLocator object at 0x7f9d336a4e48>\n",
            "DEBUG:matplotlib.colorbar:Using auto colorbar locator on colorbar\n",
            "DEBUG:matplotlib.colorbar:locator: <matplotlib.colorbar._ColorbarAutoLocator object at 0x7f9d336a4e48>\n",
            "DEBUG:matplotlib.colorbar:Setting pcolormesh\n"
          ],
          "name": "stderr"
        },
        {
          "output_type": "stream",
          "text": [
            "    1.8000 |     0.1000 |     0.7250\n"
          ],
          "name": "stdout"
        },
        {
          "output_type": "stream",
          "text": [
            "DEBUG:matplotlib.axes._base:update_title_pos\n",
            "DEBUG:matplotlib.axes._base:update_title_pos\n",
            "DEBUG:matplotlib.colorbar:locator: <matplotlib.colorbar._ColorbarAutoLocator object at 0x7f9d340c3cf8>\n",
            "DEBUG:matplotlib.colorbar:Using auto colorbar locator on colorbar\n",
            "DEBUG:matplotlib.colorbar:locator: <matplotlib.colorbar._ColorbarAutoLocator object at 0x7f9d340c3cf8>\n",
            "DEBUG:matplotlib.colorbar:Setting pcolormesh\n"
          ],
          "name": "stderr"
        },
        {
          "output_type": "stream",
          "text": [
            "    1.9000 |     0.1000 |     0.7250\n"
          ],
          "name": "stdout"
        },
        {
          "output_type": "stream",
          "text": [
            "DEBUG:matplotlib.axes._base:update_title_pos\n",
            "DEBUG:matplotlib.axes._base:update_title_pos\n"
          ],
          "name": "stderr"
        },
        {
          "output_type": "stream",
          "text": [
            "Task 6, theta = 1\n",
            "t          | dt         | energy    \n",
            "    0.0000 |     1.0000 |     0.5000\n",
            "    0.0000 |     0.0071 |     0.5000\n",
            "    0.0000 |     0.0031 |     0.5000\n",
            "    0.0000 |     0.0025 |     0.5000\n"
          ],
          "name": "stdout"
        },
        {
          "output_type": "stream",
          "text": [
            "DEBUG:matplotlib.colorbar:locator: <matplotlib.colorbar._ColorbarAutoLocator object at 0x7f9d33fdbac8>\n",
            "DEBUG:matplotlib.colorbar:Using auto colorbar locator on colorbar\n",
            "DEBUG:matplotlib.colorbar:locator: <matplotlib.colorbar._ColorbarAutoLocator object at 0x7f9d33fdbac8>\n",
            "DEBUG:matplotlib.colorbar:Setting pcolormesh\n",
            "DEBUG:matplotlib.axes._base:update_title_pos\n",
            "DEBUG:matplotlib.axes._base:update_title_pos\n",
            "DEBUG:matplotlib.colorbar:locator: <matplotlib.colorbar._ColorbarAutoLocator object at 0x7f9d38558fd0>\n",
            "DEBUG:matplotlib.colorbar:Using auto colorbar locator on colorbar\n",
            "DEBUG:matplotlib.colorbar:locator: <matplotlib.colorbar._ColorbarAutoLocator object at 0x7f9d38558fd0>\n",
            "DEBUG:matplotlib.colorbar:Setting pcolormesh\n"
          ],
          "name": "stderr"
        },
        {
          "output_type": "stream",
          "text": [
            "    0.0025 |     0.0024 |     0.5012\n"
          ],
          "name": "stdout"
        },
        {
          "output_type": "stream",
          "text": [
            "DEBUG:matplotlib.axes._base:update_title_pos\n",
            "DEBUG:matplotlib.axes._base:update_title_pos\n",
            "DEBUG:matplotlib.colorbar:locator: <matplotlib.colorbar._ColorbarAutoLocator object at 0x7f9d347a04e0>\n",
            "DEBUG:matplotlib.colorbar:Using auto colorbar locator on colorbar\n",
            "DEBUG:matplotlib.colorbar:locator: <matplotlib.colorbar._ColorbarAutoLocator object at 0x7f9d347a04e0>\n",
            "DEBUG:matplotlib.colorbar:Setting pcolormesh\n"
          ],
          "name": "stderr"
        },
        {
          "output_type": "stream",
          "text": [
            "    0.0049 |     0.0050 |     0.5024\n"
          ],
          "name": "stdout"
        },
        {
          "output_type": "stream",
          "text": [
            "DEBUG:matplotlib.axes._base:update_title_pos\n",
            "DEBUG:matplotlib.axes._base:update_title_pos\n",
            "DEBUG:matplotlib.colorbar:locator: <matplotlib.colorbar._ColorbarAutoLocator object at 0x7f9d34a4f240>\n",
            "DEBUG:matplotlib.colorbar:Using auto colorbar locator on colorbar\n",
            "DEBUG:matplotlib.colorbar:locator: <matplotlib.colorbar._ColorbarAutoLocator object at 0x7f9d34a4f240>\n",
            "DEBUG:matplotlib.colorbar:Setting pcolormesh\n"
          ],
          "name": "stderr"
        },
        {
          "output_type": "stream",
          "text": [
            "    0.0099 |     0.0061 |     0.5049\n"
          ],
          "name": "stdout"
        },
        {
          "output_type": "stream",
          "text": [
            "DEBUG:matplotlib.axes._base:update_title_pos\n",
            "DEBUG:matplotlib.axes._base:update_title_pos\n"
          ],
          "name": "stderr"
        },
        {
          "output_type": "stream",
          "text": [
            "    0.0160 |     0.0090 |     0.5079\n"
          ],
          "name": "stdout"
        },
        {
          "output_type": "stream",
          "text": [
            "DEBUG:matplotlib.colorbar:locator: <matplotlib.colorbar._ColorbarAutoLocator object at 0x7f9d338b94a8>\n",
            "DEBUG:matplotlib.colorbar:Using auto colorbar locator on colorbar\n",
            "DEBUG:matplotlib.colorbar:locator: <matplotlib.colorbar._ColorbarAutoLocator object at 0x7f9d338b94a8>\n",
            "DEBUG:matplotlib.colorbar:Setting pcolormesh\n",
            "DEBUG:matplotlib.axes._base:update_title_pos\n",
            "DEBUG:matplotlib.axes._base:update_title_pos\n"
          ],
          "name": "stderr"
        },
        {
          "output_type": "stream",
          "text": [
            "    0.0250 |     0.0113 |     0.5123\n"
          ],
          "name": "stdout"
        },
        {
          "output_type": "stream",
          "text": [
            "DEBUG:matplotlib.colorbar:locator: <matplotlib.colorbar._ColorbarAutoLocator object at 0x7f9d33c64710>\n",
            "DEBUG:matplotlib.colorbar:Using auto colorbar locator on colorbar\n",
            "DEBUG:matplotlib.colorbar:locator: <matplotlib.colorbar._ColorbarAutoLocator object at 0x7f9d33c64710>\n",
            "DEBUG:matplotlib.colorbar:Setting pcolormesh\n",
            "DEBUG:matplotlib.axes._base:update_title_pos\n",
            "DEBUG:matplotlib.axes._base:update_title_pos\n",
            "DEBUG:matplotlib.colorbar:locator: <matplotlib.colorbar._ColorbarAutoLocator object at 0x7f9d33cb1828>\n",
            "DEBUG:matplotlib.colorbar:Using auto colorbar locator on colorbar\n",
            "DEBUG:matplotlib.colorbar:locator: <matplotlib.colorbar._ColorbarAutoLocator object at 0x7f9d33cb1828>\n",
            "DEBUG:matplotlib.colorbar:Setting pcolormesh\n"
          ],
          "name": "stderr"
        },
        {
          "output_type": "stream",
          "text": [
            "    0.0362 |     0.0132 |     0.5177\n"
          ],
          "name": "stdout"
        },
        {
          "output_type": "stream",
          "text": [
            "DEBUG:matplotlib.axes._base:update_title_pos\n",
            "DEBUG:matplotlib.axes._base:update_title_pos\n",
            "DEBUG:matplotlib.colorbar:locator: <matplotlib.colorbar._ColorbarAutoLocator object at 0x7f9d33236a90>\n",
            "DEBUG:matplotlib.colorbar:Using auto colorbar locator on colorbar\n",
            "DEBUG:matplotlib.colorbar:locator: <matplotlib.colorbar._ColorbarAutoLocator object at 0x7f9d33236a90>\n",
            "DEBUG:matplotlib.colorbar:Setting pcolormesh\n"
          ],
          "name": "stderr"
        },
        {
          "output_type": "stream",
          "text": [
            "    0.0494 |     0.0141 |     0.5240\n"
          ],
          "name": "stdout"
        },
        {
          "output_type": "stream",
          "text": [
            "DEBUG:matplotlib.axes._base:update_title_pos\n",
            "DEBUG:matplotlib.axes._base:update_title_pos\n"
          ],
          "name": "stderr"
        },
        {
          "output_type": "stream",
          "text": [
            "    0.0635 |     0.0156 |     0.5306\n"
          ],
          "name": "stdout"
        },
        {
          "output_type": "stream",
          "text": [
            "DEBUG:matplotlib.colorbar:locator: <matplotlib.colorbar._ColorbarAutoLocator object at 0x7f9d3382d470>\n",
            "DEBUG:matplotlib.colorbar:Using auto colorbar locator on colorbar\n",
            "DEBUG:matplotlib.colorbar:locator: <matplotlib.colorbar._ColorbarAutoLocator object at 0x7f9d3382d470>\n",
            "DEBUG:matplotlib.colorbar:Setting pcolormesh\n",
            "DEBUG:matplotlib.axes._base:update_title_pos\n",
            "DEBUG:matplotlib.axes._base:update_title_pos\n"
          ],
          "name": "stderr"
        },
        {
          "output_type": "stream",
          "text": [
            "    0.0791 |     0.0167 |     0.5378\n"
          ],
          "name": "stdout"
        },
        {
          "output_type": "stream",
          "text": [
            "DEBUG:matplotlib.colorbar:locator: <matplotlib.colorbar._ColorbarAutoLocator object at 0x7f9d34bddcc0>\n",
            "DEBUG:matplotlib.colorbar:Using auto colorbar locator on colorbar\n",
            "DEBUG:matplotlib.colorbar:locator: <matplotlib.colorbar._ColorbarAutoLocator object at 0x7f9d34bddcc0>\n",
            "DEBUG:matplotlib.colorbar:Setting pcolormesh\n",
            "DEBUG:matplotlib.axes._base:update_title_pos\n",
            "DEBUG:matplotlib.axes._base:update_title_pos\n",
            "DEBUG:matplotlib.colorbar:locator: <matplotlib.colorbar._ColorbarAutoLocator object at 0x7f9d38fd8b00>\n",
            "DEBUG:matplotlib.colorbar:Using auto colorbar locator on colorbar\n",
            "DEBUG:matplotlib.colorbar:locator: <matplotlib.colorbar._ColorbarAutoLocator object at 0x7f9d38fd8b00>\n",
            "DEBUG:matplotlib.colorbar:Setting pcolormesh\n"
          ],
          "name": "stderr"
        },
        {
          "output_type": "stream",
          "text": [
            "    0.0958 |     0.0186 |     0.5453\n"
          ],
          "name": "stdout"
        },
        {
          "output_type": "stream",
          "text": [
            "DEBUG:matplotlib.axes._base:update_title_pos\n",
            "DEBUG:matplotlib.axes._base:update_title_pos\n",
            "DEBUG:matplotlib.colorbar:locator: <matplotlib.colorbar._ColorbarAutoLocator object at 0x7f9d33caf240>\n",
            "DEBUG:matplotlib.colorbar:Using auto colorbar locator on colorbar\n",
            "DEBUG:matplotlib.colorbar:locator: <matplotlib.colorbar._ColorbarAutoLocator object at 0x7f9d33caf240>\n",
            "DEBUG:matplotlib.colorbar:Setting pcolormesh\n"
          ],
          "name": "stderr"
        },
        {
          "output_type": "stream",
          "text": [
            "    0.1144 |     0.0205 |     0.5536\n"
          ],
          "name": "stdout"
        },
        {
          "output_type": "stream",
          "text": [
            "DEBUG:matplotlib.axes._base:update_title_pos\n",
            "DEBUG:matplotlib.axes._base:update_title_pos\n",
            "DEBUG:matplotlib.colorbar:locator: <matplotlib.colorbar._ColorbarAutoLocator object at 0x7f9d348606d8>\n",
            "DEBUG:matplotlib.colorbar:Using auto colorbar locator on colorbar\n",
            "DEBUG:matplotlib.colorbar:locator: <matplotlib.colorbar._ColorbarAutoLocator object at 0x7f9d348606d8>\n",
            "DEBUG:matplotlib.colorbar:Setting pcolormesh\n"
          ],
          "name": "stderr"
        },
        {
          "output_type": "stream",
          "text": [
            "    0.1349 |     0.0232 |     0.5624\n"
          ],
          "name": "stdout"
        },
        {
          "output_type": "stream",
          "text": [
            "DEBUG:matplotlib.axes._base:update_title_pos\n",
            "DEBUG:matplotlib.axes._base:update_title_pos\n",
            "DEBUG:matplotlib.colorbar:locator: <matplotlib.colorbar._ColorbarAutoLocator object at 0x7f9d347ac940>\n",
            "DEBUG:matplotlib.colorbar:Using auto colorbar locator on colorbar\n",
            "DEBUG:matplotlib.colorbar:locator: <matplotlib.colorbar._ColorbarAutoLocator object at 0x7f9d347ac940>\n",
            "DEBUG:matplotlib.colorbar:Setting pcolormesh\n"
          ],
          "name": "stderr"
        },
        {
          "output_type": "stream",
          "text": [
            "    0.1581 |     0.0265 |     0.5722\n"
          ],
          "name": "stdout"
        },
        {
          "output_type": "stream",
          "text": [
            "DEBUG:matplotlib.axes._base:update_title_pos\n",
            "DEBUG:matplotlib.axes._base:update_title_pos\n",
            "DEBUG:matplotlib.colorbar:locator: <matplotlib.colorbar._ColorbarAutoLocator object at 0x7f9d33a29be0>\n",
            "DEBUG:matplotlib.colorbar:Using auto colorbar locator on colorbar\n",
            "DEBUG:matplotlib.colorbar:locator: <matplotlib.colorbar._ColorbarAutoLocator object at 0x7f9d33a29be0>\n",
            "DEBUG:matplotlib.colorbar:Setting pcolormesh\n"
          ],
          "name": "stderr"
        },
        {
          "output_type": "stream",
          "text": [
            "    0.1846 |     0.0313 |     0.5830\n"
          ],
          "name": "stdout"
        },
        {
          "output_type": "stream",
          "text": [
            "DEBUG:matplotlib.axes._base:update_title_pos\n",
            "DEBUG:matplotlib.axes._base:update_title_pos\n"
          ],
          "name": "stderr"
        },
        {
          "output_type": "stream",
          "text": [
            "    0.2159 |     0.0383 |     0.5953\n"
          ],
          "name": "stdout"
        },
        {
          "output_type": "stream",
          "text": [
            "DEBUG:matplotlib.colorbar:locator: <matplotlib.colorbar._ColorbarAutoLocator object at 0x7f9d33fbb828>\n",
            "DEBUG:matplotlib.colorbar:Using auto colorbar locator on colorbar\n",
            "DEBUG:matplotlib.colorbar:locator: <matplotlib.colorbar._ColorbarAutoLocator object at 0x7f9d33fbb828>\n",
            "DEBUG:matplotlib.colorbar:Setting pcolormesh\n",
            "DEBUG:matplotlib.axes._base:update_title_pos\n",
            "DEBUG:matplotlib.axes._base:update_title_pos\n",
            "DEBUG:matplotlib.colorbar:locator: <matplotlib.colorbar._ColorbarAutoLocator object at 0x7f9d33b81e48>\n",
            "DEBUG:matplotlib.colorbar:Using auto colorbar locator on colorbar\n",
            "DEBUG:matplotlib.colorbar:locator: <matplotlib.colorbar._ColorbarAutoLocator object at 0x7f9d33b81e48>\n",
            "DEBUG:matplotlib.colorbar:Setting pcolormesh\n"
          ],
          "name": "stderr"
        },
        {
          "output_type": "stream",
          "text": [
            "    0.2542 |     0.0501 |     0.6095\n"
          ],
          "name": "stdout"
        },
        {
          "output_type": "stream",
          "text": [
            "DEBUG:matplotlib.axes._base:update_title_pos\n",
            "DEBUG:matplotlib.axes._base:update_title_pos\n",
            "DEBUG:matplotlib.colorbar:locator: <matplotlib.colorbar._ColorbarAutoLocator object at 0x7f9d33bd2048>\n",
            "DEBUG:matplotlib.colorbar:Using auto colorbar locator on colorbar\n",
            "DEBUG:matplotlib.colorbar:locator: <matplotlib.colorbar._ColorbarAutoLocator object at 0x7f9d33bd2048>\n"
          ],
          "name": "stderr"
        },
        {
          "output_type": "stream",
          "text": [
            "    0.3042 |     0.0741 |     0.6269\n"
          ],
          "name": "stdout"
        },
        {
          "output_type": "stream",
          "text": [
            "DEBUG:matplotlib.colorbar:Setting pcolormesh\n",
            "DEBUG:matplotlib.axes._base:update_title_pos\n",
            "DEBUG:matplotlib.axes._base:update_title_pos\n",
            "DEBUG:matplotlib.colorbar:locator: <matplotlib.colorbar._ColorbarAutoLocator object at 0x7f9d38f1deb8>\n",
            "DEBUG:matplotlib.colorbar:Using auto colorbar locator on colorbar\n"
          ],
          "name": "stderr"
        },
        {
          "output_type": "stream",
          "text": [
            "    0.3783 |     0.1287 |     0.6500\n",
            "    0.3783 |     0.0854 |     0.6500\n"
          ],
          "name": "stdout"
        },
        {
          "output_type": "stream",
          "text": [
            "DEBUG:matplotlib.colorbar:locator: <matplotlib.colorbar._ColorbarAutoLocator object at 0x7f9d38f1deb8>\n",
            "DEBUG:matplotlib.colorbar:Setting pcolormesh\n",
            "DEBUG:matplotlib.axes._base:update_title_pos\n",
            "DEBUG:matplotlib.axes._base:update_title_pos\n",
            "DEBUG:matplotlib.colorbar:locator: <matplotlib.colorbar._ColorbarAutoLocator object at 0x7f9d34004a58>\n",
            "DEBUG:matplotlib.colorbar:Using auto colorbar locator on colorbar\n",
            "DEBUG:matplotlib.colorbar:locator: <matplotlib.colorbar._ColorbarAutoLocator object at 0x7f9d34004a58>\n",
            "DEBUG:matplotlib.colorbar:Setting pcolormesh\n"
          ],
          "name": "stderr"
        },
        {
          "output_type": "stream",
          "text": [
            "    0.4638 |     0.1210 |     0.6729\n",
            "    0.4638 |     0.0745 |     0.6729\n"
          ],
          "name": "stdout"
        },
        {
          "output_type": "stream",
          "text": [
            "DEBUG:matplotlib.axes._base:update_title_pos\n",
            "DEBUG:matplotlib.axes._base:update_title_pos\n",
            "DEBUG:matplotlib.colorbar:locator: <matplotlib.colorbar._ColorbarAutoLocator object at 0x7f9d346756a0>\n",
            "DEBUG:matplotlib.colorbar:Using auto colorbar locator on colorbar\n",
            "DEBUG:matplotlib.colorbar:locator: <matplotlib.colorbar._ColorbarAutoLocator object at 0x7f9d346756a0>\n",
            "DEBUG:matplotlib.colorbar:Setting pcolormesh\n"
          ],
          "name": "stderr"
        },
        {
          "output_type": "stream",
          "text": [
            "    0.5382 |     0.1091 |     0.6901\n",
            "    0.5382 |     0.0729 |     0.6901\n"
          ],
          "name": "stdout"
        },
        {
          "output_type": "stream",
          "text": [
            "DEBUG:matplotlib.axes._base:update_title_pos\n",
            "DEBUG:matplotlib.axes._base:update_title_pos\n",
            "DEBUG:matplotlib.colorbar:locator: <matplotlib.colorbar._ColorbarAutoLocator object at 0x7f9d33cce2e8>\n",
            "DEBUG:matplotlib.colorbar:Using auto colorbar locator on colorbar\n",
            "DEBUG:matplotlib.colorbar:locator: <matplotlib.colorbar._ColorbarAutoLocator object at 0x7f9d33cce2e8>\n",
            "DEBUG:matplotlib.colorbar:Setting pcolormesh\n"
          ],
          "name": "stderr"
        },
        {
          "output_type": "stream",
          "text": [
            "    0.6112 |     0.0977 |     0.7043\n",
            "    0.6112 |     0.0746 |     0.7043\n"
          ],
          "name": "stdout"
        },
        {
          "output_type": "stream",
          "text": [
            "DEBUG:matplotlib.axes._base:update_title_pos\n",
            "DEBUG:matplotlib.axes._base:update_title_pos\n",
            "DEBUG:matplotlib.colorbar:locator: <matplotlib.colorbar._ColorbarAutoLocator object at 0x7f9d33827ef0>\n",
            "DEBUG:matplotlib.colorbar:Using auto colorbar locator on colorbar\n",
            "DEBUG:matplotlib.colorbar:locator: <matplotlib.colorbar._ColorbarAutoLocator object at 0x7f9d33827ef0>\n",
            "DEBUG:matplotlib.colorbar:Setting pcolormesh\n"
          ],
          "name": "stderr"
        },
        {
          "output_type": "stream",
          "text": [
            "    0.6858 |     0.0900 |     0.7160\n",
            "    0.6858 |     0.0766 |     0.7160\n"
          ],
          "name": "stdout"
        },
        {
          "output_type": "stream",
          "text": [
            "DEBUG:matplotlib.axes._base:update_title_pos\n",
            "DEBUG:matplotlib.axes._base:update_title_pos\n"
          ],
          "name": "stderr"
        },
        {
          "output_type": "stream",
          "text": [
            "    0.7624 |     0.0856 |     0.7251\n"
          ],
          "name": "stdout"
        },
        {
          "output_type": "stream",
          "text": [
            "DEBUG:matplotlib.colorbar:locator: <matplotlib.colorbar._ColorbarAutoLocator object at 0x7f9d3381d518>\n",
            "DEBUG:matplotlib.colorbar:Using auto colorbar locator on colorbar\n",
            "DEBUG:matplotlib.colorbar:locator: <matplotlib.colorbar._ColorbarAutoLocator object at 0x7f9d3381d518>\n",
            "DEBUG:matplotlib.colorbar:Setting pcolormesh\n",
            "DEBUG:matplotlib.axes._base:update_title_pos\n",
            "DEBUG:matplotlib.axes._base:update_title_pos\n",
            "DEBUG:matplotlib.colorbar:locator: <matplotlib.colorbar._ColorbarAutoLocator object at 0x7f9d349d65f8>\n",
            "DEBUG:matplotlib.colorbar:Using auto colorbar locator on colorbar\n",
            "DEBUG:matplotlib.colorbar:locator: <matplotlib.colorbar._ColorbarAutoLocator object at 0x7f9d349d65f8>\n",
            "DEBUG:matplotlib.colorbar:Setting pcolormesh\n"
          ],
          "name": "stderr"
        },
        {
          "output_type": "stream",
          "text": [
            "    0.8480 |     0.0781 |     0.7316\n"
          ],
          "name": "stdout"
        },
        {
          "output_type": "stream",
          "text": [
            "DEBUG:matplotlib.axes._base:update_title_pos\n",
            "DEBUG:matplotlib.axes._base:update_title_pos\n",
            "DEBUG:matplotlib.colorbar:locator: <matplotlib.colorbar._ColorbarAutoLocator object at 0x7f9d34cb8e48>\n",
            "DEBUG:matplotlib.colorbar:Using auto colorbar locator on colorbar\n"
          ],
          "name": "stderr"
        },
        {
          "output_type": "stream",
          "text": [
            "    0.9261 |     0.0831 |     0.7345\n"
          ],
          "name": "stdout"
        },
        {
          "output_type": "stream",
          "text": [
            "DEBUG:matplotlib.colorbar:locator: <matplotlib.colorbar._ColorbarAutoLocator object at 0x7f9d34cb8e48>\n",
            "DEBUG:matplotlib.colorbar:Setting pcolormesh\n",
            "DEBUG:matplotlib.axes._base:update_title_pos\n",
            "DEBUG:matplotlib.axes._base:update_title_pos\n",
            "DEBUG:matplotlib.colorbar:locator: <matplotlib.colorbar._ColorbarAutoLocator object at 0x7f9d3394a5f8>\n",
            "DEBUG:matplotlib.colorbar:Using auto colorbar locator on colorbar\n",
            "DEBUG:matplotlib.colorbar:locator: <matplotlib.colorbar._ColorbarAutoLocator object at 0x7f9d3394a5f8>\n",
            "DEBUG:matplotlib.colorbar:Setting pcolormesh\n"
          ],
          "name": "stderr"
        },
        {
          "output_type": "stream",
          "text": [
            "    1.0092 |     0.1111 |     0.7351\n"
          ],
          "name": "stdout"
        },
        {
          "output_type": "stream",
          "text": [
            "DEBUG:matplotlib.axes._base:update_title_pos\n",
            "DEBUG:matplotlib.axes._base:update_title_pos\n",
            "DEBUG:matplotlib.colorbar:locator: <matplotlib.colorbar._ColorbarAutoLocator object at 0x7f9d349c76d8>\n",
            "DEBUG:matplotlib.colorbar:Using auto colorbar locator on colorbar\n",
            "DEBUG:matplotlib.colorbar:locator: <matplotlib.colorbar._ColorbarAutoLocator object at 0x7f9d349c76d8>\n",
            "DEBUG:matplotlib.colorbar:Setting pcolormesh\n"
          ],
          "name": "stderr"
        },
        {
          "output_type": "stream",
          "text": [
            "    1.1203 |     0.2825 |     0.7351\n"
          ],
          "name": "stdout"
        },
        {
          "output_type": "stream",
          "text": [
            "DEBUG:matplotlib.axes._base:update_title_pos\n",
            "DEBUG:matplotlib.axes._base:update_title_pos\n",
            "DEBUG:matplotlib.colorbar:locator: <matplotlib.colorbar._ColorbarAutoLocator object at 0x7f9d3423e940>\n",
            "DEBUG:matplotlib.colorbar:Using auto colorbar locator on colorbar\n",
            "DEBUG:matplotlib.colorbar:locator: <matplotlib.colorbar._ColorbarAutoLocator object at 0x7f9d3423e940>\n",
            "DEBUG:matplotlib.colorbar:Setting pcolormesh\n"
          ],
          "name": "stderr"
        },
        {
          "output_type": "stream",
          "text": [
            "    1.4028 |     1.1558 |     0.7351\n"
          ],
          "name": "stdout"
        },
        {
          "output_type": "stream",
          "text": [
            "DEBUG:matplotlib.axes._base:update_title_pos\n",
            "DEBUG:matplotlib.axes._base:update_title_pos\n"
          ],
          "name": "stderr"
        },
        {
          "output_type": "stream",
          "text": [
            "Task 6, theta = 0.5\n",
            "t          | dt         | energy    \n",
            "    0.0000 |     1.0000 |     0.5000\n",
            "    0.0000 |     0.0876 |     0.5000\n",
            "    0.0000 |     0.0228 |     0.5000\n",
            "    0.0000 |     0.0097 |     0.5000\n",
            "    0.0000 |     0.0057 |     0.5000\n",
            "    0.0000 |     0.0040 |     0.5000\n",
            "    0.0000 |     0.0032 |     0.5000\n",
            "    0.0000 |     0.0028 |     0.5000\n",
            "    0.0000 |     0.0025 |     0.5000\n"
          ],
          "name": "stdout"
        },
        {
          "output_type": "stream",
          "text": [
            "DEBUG:matplotlib.colorbar:locator: <matplotlib.colorbar._ColorbarAutoLocator object at 0x7f9d34c59208>\n",
            "DEBUG:matplotlib.colorbar:Using auto colorbar locator on colorbar\n",
            "DEBUG:matplotlib.colorbar:locator: <matplotlib.colorbar._ColorbarAutoLocator object at 0x7f9d34c59208>\n",
            "DEBUG:matplotlib.colorbar:Setting pcolormesh\n"
          ],
          "name": "stderr"
        },
        {
          "output_type": "stream",
          "text": [
            "    0.0000 |     0.0024 |     0.5000\n"
          ],
          "name": "stdout"
        },
        {
          "output_type": "stream",
          "text": [
            "DEBUG:matplotlib.axes._base:update_title_pos\n",
            "DEBUG:matplotlib.axes._base:update_title_pos\n",
            "DEBUG:matplotlib.colorbar:locator: <matplotlib.colorbar._ColorbarAutoLocator object at 0x7f9d330bc160>\n",
            "DEBUG:matplotlib.colorbar:Using auto colorbar locator on colorbar\n",
            "DEBUG:matplotlib.colorbar:locator: <matplotlib.colorbar._ColorbarAutoLocator object at 0x7f9d330bc160>\n",
            "DEBUG:matplotlib.colorbar:Setting pcolormesh\n"
          ],
          "name": "stderr"
        },
        {
          "output_type": "stream",
          "text": [
            "    0.0024 |     0.0023 |     0.5012\n"
          ],
          "name": "stdout"
        },
        {
          "output_type": "stream",
          "text": [
            "DEBUG:matplotlib.axes._base:update_title_pos\n",
            "DEBUG:matplotlib.axes._base:update_title_pos\n",
            "DEBUG:matplotlib.colorbar:locator: <matplotlib.colorbar._ColorbarAutoLocator object at 0x7f9d34530940>\n",
            "DEBUG:matplotlib.colorbar:Using auto colorbar locator on colorbar\n",
            "DEBUG:matplotlib.colorbar:locator: <matplotlib.colorbar._ColorbarAutoLocator object at 0x7f9d34530940>\n",
            "DEBUG:matplotlib.colorbar:Setting pcolormesh\n"
          ],
          "name": "stderr"
        },
        {
          "output_type": "stream",
          "text": [
            "    0.0047 |     0.0039 |     0.5024\n"
          ],
          "name": "stdout"
        },
        {
          "output_type": "stream",
          "text": [
            "DEBUG:matplotlib.axes._base:update_title_pos\n",
            "DEBUG:matplotlib.axes._base:update_title_pos\n",
            "DEBUG:matplotlib.colorbar:locator: <matplotlib.colorbar._ColorbarAutoLocator object at 0x7f9d345fbcc0>\n",
            "DEBUG:matplotlib.colorbar:Using auto colorbar locator on colorbar\n",
            "DEBUG:matplotlib.colorbar:locator: <matplotlib.colorbar._ColorbarAutoLocator object at 0x7f9d345fbcc0>\n",
            "DEBUG:matplotlib.colorbar:Setting pcolormesh\n"
          ],
          "name": "stderr"
        },
        {
          "output_type": "stream",
          "text": [
            "    0.0086 |     0.0085 |     0.5043\n"
          ],
          "name": "stdout"
        },
        {
          "output_type": "stream",
          "text": [
            "DEBUG:matplotlib.axes._base:update_title_pos\n",
            "DEBUG:matplotlib.axes._base:update_title_pos\n"
          ],
          "name": "stderr"
        },
        {
          "output_type": "stream",
          "text": [
            "    0.0171 |     0.0190 |     0.5085\n"
          ],
          "name": "stdout"
        },
        {
          "output_type": "stream",
          "text": [
            "DEBUG:matplotlib.colorbar:locator: <matplotlib.colorbar._ColorbarAutoLocator object at 0x7f9d349ebd30>\n",
            "DEBUG:matplotlib.colorbar:Using auto colorbar locator on colorbar\n",
            "DEBUG:matplotlib.colorbar:locator: <matplotlib.colorbar._ColorbarAutoLocator object at 0x7f9d349ebd30>\n",
            "DEBUG:matplotlib.colorbar:Setting pcolormesh\n",
            "DEBUG:matplotlib.axes._base:update_title_pos\n",
            "DEBUG:matplotlib.axes._base:update_title_pos\n",
            "DEBUG:matplotlib.colorbar:locator: <matplotlib.colorbar._ColorbarAutoLocator object at 0x7f9d34dbc4e0>\n",
            "DEBUG:matplotlib.colorbar:Using auto colorbar locator on colorbar\n",
            "DEBUG:matplotlib.colorbar:locator: <matplotlib.colorbar._ColorbarAutoLocator object at 0x7f9d34dbc4e0>\n",
            "DEBUG:matplotlib.colorbar:Setting pcolormesh\n"
          ],
          "name": "stderr"
        },
        {
          "output_type": "stream",
          "text": [
            "    0.0361 |     0.0332 |     0.5177\n"
          ],
          "name": "stdout"
        },
        {
          "output_type": "stream",
          "text": [
            "DEBUG:matplotlib.axes._base:update_title_pos\n",
            "DEBUG:matplotlib.axes._base:update_title_pos\n"
          ],
          "name": "stderr"
        },
        {
          "output_type": "stream",
          "text": [
            "    0.0693 |     0.0566 |     0.5333\n"
          ],
          "name": "stdout"
        },
        {
          "output_type": "stream",
          "text": [
            "DEBUG:matplotlib.colorbar:locator: <matplotlib.colorbar._ColorbarAutoLocator object at 0x7f9d338b02e8>\n",
            "DEBUG:matplotlib.colorbar:Using auto colorbar locator on colorbar\n",
            "DEBUG:matplotlib.colorbar:locator: <matplotlib.colorbar._ColorbarAutoLocator object at 0x7f9d338b02e8>\n",
            "DEBUG:matplotlib.colorbar:Setting pcolormesh\n",
            "DEBUG:matplotlib.axes._base:update_title_pos\n",
            "DEBUG:matplotlib.axes._base:update_title_pos\n"
          ],
          "name": "stderr"
        },
        {
          "output_type": "stream",
          "text": [
            "    0.1260 |     0.0665 |     0.5584\n"
          ],
          "name": "stdout"
        },
        {
          "output_type": "stream",
          "text": [
            "DEBUG:matplotlib.colorbar:locator: <matplotlib.colorbar._ColorbarAutoLocator object at 0x7f9d33c70d68>\n",
            "DEBUG:matplotlib.colorbar:Using auto colorbar locator on colorbar\n",
            "DEBUG:matplotlib.colorbar:locator: <matplotlib.colorbar._ColorbarAutoLocator object at 0x7f9d33c70d68>\n",
            "DEBUG:matplotlib.colorbar:Setting pcolormesh\n",
            "DEBUG:matplotlib.axes._base:update_title_pos\n",
            "DEBUG:matplotlib.axes._base:update_title_pos\n",
            "DEBUG:matplotlib.colorbar:locator: <matplotlib.colorbar._ColorbarAutoLocator object at 0x7f9d32f59e10>\n",
            "DEBUG:matplotlib.colorbar:Using auto colorbar locator on colorbar\n",
            "DEBUG:matplotlib.colorbar:locator: <matplotlib.colorbar._ColorbarAutoLocator object at 0x7f9d32f59e10>\n",
            "DEBUG:matplotlib.colorbar:Setting pcolormesh\n"
          ],
          "name": "stderr"
        },
        {
          "output_type": "stream",
          "text": [
            "    0.1925 |     0.0751 |     0.5858\n"
          ],
          "name": "stdout"
        },
        {
          "output_type": "stream",
          "text": [
            "DEBUG:matplotlib.axes._base:update_title_pos\n",
            "DEBUG:matplotlib.axes._base:update_title_pos\n",
            "DEBUG:matplotlib.colorbar:locator: <matplotlib.colorbar._ColorbarAutoLocator object at 0x7f9d33ea9860>\n",
            "DEBUG:matplotlib.colorbar:Using auto colorbar locator on colorbar\n",
            "DEBUG:matplotlib.colorbar:locator: <matplotlib.colorbar._ColorbarAutoLocator object at 0x7f9d33ea9860>\n",
            "DEBUG:matplotlib.colorbar:Setting pcolormesh\n"
          ],
          "name": "stderr"
        },
        {
          "output_type": "stream",
          "text": [
            "    0.2676 |     0.0825 |     0.6140\n"
          ],
          "name": "stdout"
        },
        {
          "output_type": "stream",
          "text": [
            "DEBUG:matplotlib.axes._base:update_title_pos\n",
            "DEBUG:matplotlib.axes._base:update_title_pos\n"
          ],
          "name": "stderr"
        },
        {
          "output_type": "stream",
          "text": [
            "    0.3500 |     0.0870 |     0.6417\n"
          ],
          "name": "stdout"
        },
        {
          "output_type": "stream",
          "text": [
            "DEBUG:matplotlib.colorbar:locator: <matplotlib.colorbar._ColorbarAutoLocator object at 0x7f9d38848908>\n",
            "DEBUG:matplotlib.colorbar:Using auto colorbar locator on colorbar\n",
            "DEBUG:matplotlib.colorbar:locator: <matplotlib.colorbar._ColorbarAutoLocator object at 0x7f9d38848908>\n",
            "DEBUG:matplotlib.colorbar:Setting pcolormesh\n",
            "DEBUG:matplotlib.axes._base:update_title_pos\n",
            "DEBUG:matplotlib.axes._base:update_title_pos\n",
            "DEBUG:matplotlib.colorbar:locator: <matplotlib.colorbar._ColorbarAutoLocator object at 0x7f9d33e58e48>\n",
            "DEBUG:matplotlib.colorbar:Using auto colorbar locator on colorbar\n",
            "DEBUG:matplotlib.colorbar:locator: <matplotlib.colorbar._ColorbarAutoLocator object at 0x7f9d33e58e48>\n",
            "DEBUG:matplotlib.colorbar:Setting pcolormesh\n"
          ],
          "name": "stderr"
        },
        {
          "output_type": "stream",
          "text": [
            "    0.4370 |     0.0884 |     0.6671\n"
          ],
          "name": "stdout"
        },
        {
          "output_type": "stream",
          "text": [
            "DEBUG:matplotlib.axes._base:update_title_pos\n",
            "DEBUG:matplotlib.axes._base:update_title_pos\n",
            "DEBUG:matplotlib.colorbar:locator: <matplotlib.colorbar._ColorbarAutoLocator object at 0x7f9d3394aa58>\n",
            "DEBUG:matplotlib.colorbar:Using auto colorbar locator on colorbar\n",
            "DEBUG:matplotlib.colorbar:locator: <matplotlib.colorbar._ColorbarAutoLocator object at 0x7f9d3394aa58>\n",
            "DEBUG:matplotlib.colorbar:Setting pcolormesh\n"
          ],
          "name": "stderr"
        },
        {
          "output_type": "stream",
          "text": [
            "    0.5254 |     0.0875 |     0.6891\n"
          ],
          "name": "stdout"
        },
        {
          "output_type": "stream",
          "text": [
            "DEBUG:matplotlib.axes._base:update_title_pos\n",
            "DEBUG:matplotlib.axes._base:update_title_pos\n"
          ],
          "name": "stderr"
        },
        {
          "output_type": "stream",
          "text": [
            "    0.6129 |     0.0855 |     0.7070\n"
          ],
          "name": "stdout"
        },
        {
          "output_type": "stream",
          "text": [
            "DEBUG:matplotlib.colorbar:locator: <matplotlib.colorbar._ColorbarAutoLocator object at 0x7f9d34bc2518>\n",
            "DEBUG:matplotlib.colorbar:Using auto colorbar locator on colorbar\n",
            "DEBUG:matplotlib.colorbar:locator: <matplotlib.colorbar._ColorbarAutoLocator object at 0x7f9d34bc2518>\n",
            "DEBUG:matplotlib.colorbar:Setting pcolormesh\n",
            "DEBUG:matplotlib.axes._base:update_title_pos\n",
            "DEBUG:matplotlib.axes._base:update_title_pos\n"
          ],
          "name": "stderr"
        },
        {
          "output_type": "stream",
          "text": [
            "    0.6984 |     0.0833 |     0.7208\n"
          ],
          "name": "stdout"
        },
        {
          "output_type": "stream",
          "text": [
            "DEBUG:matplotlib.colorbar:locator: <matplotlib.colorbar._ColorbarAutoLocator object at 0x7f9d335da6a0>\n",
            "DEBUG:matplotlib.colorbar:Using auto colorbar locator on colorbar\n",
            "DEBUG:matplotlib.colorbar:locator: <matplotlib.colorbar._ColorbarAutoLocator object at 0x7f9d335da6a0>\n",
            "DEBUG:matplotlib.colorbar:Setting pcolormesh\n",
            "DEBUG:matplotlib.axes._base:update_title_pos\n",
            "DEBUG:matplotlib.axes._base:update_title_pos\n"
          ],
          "name": "stderr"
        },
        {
          "output_type": "stream",
          "text": [
            "    0.7817 |     0.0812 |     0.7307\n"
          ],
          "name": "stdout"
        },
        {
          "output_type": "stream",
          "text": [
            "DEBUG:matplotlib.colorbar:locator: <matplotlib.colorbar._ColorbarAutoLocator object at 0x7f9d33061128>\n",
            "DEBUG:matplotlib.colorbar:Using auto colorbar locator on colorbar\n",
            "DEBUG:matplotlib.colorbar:locator: <matplotlib.colorbar._ColorbarAutoLocator object at 0x7f9d33061128>\n",
            "DEBUG:matplotlib.colorbar:Setting pcolormesh\n",
            "DEBUG:matplotlib.axes._base:update_title_pos\n",
            "DEBUG:matplotlib.axes._base:update_title_pos\n"
          ],
          "name": "stderr"
        },
        {
          "output_type": "stream",
          "text": [
            "    0.8629 |     0.0795 |     0.7371\n"
          ],
          "name": "stdout"
        },
        {
          "output_type": "stream",
          "text": [
            "DEBUG:matplotlib.colorbar:locator: <matplotlib.colorbar._ColorbarAutoLocator object at 0x7f9d3305c940>\n",
            "DEBUG:matplotlib.colorbar:Using auto colorbar locator on colorbar\n",
            "DEBUG:matplotlib.colorbar:locator: <matplotlib.colorbar._ColorbarAutoLocator object at 0x7f9d3305c940>\n",
            "DEBUG:matplotlib.colorbar:Setting pcolormesh\n",
            "DEBUG:matplotlib.axes._base:update_title_pos\n",
            "DEBUG:matplotlib.axes._base:update_title_pos\n",
            "DEBUG:matplotlib.colorbar:locator: <matplotlib.colorbar._ColorbarAutoLocator object at 0x7f9d38fc8978>\n",
            "DEBUG:matplotlib.colorbar:Using auto colorbar locator on colorbar\n",
            "DEBUG:matplotlib.colorbar:locator: <matplotlib.colorbar._ColorbarAutoLocator object at 0x7f9d38fc8978>\n",
            "DEBUG:matplotlib.colorbar:Setting pcolormesh\n"
          ],
          "name": "stderr"
        },
        {
          "output_type": "stream",
          "text": [
            "    0.9424 |     0.0780 |     0.7402\n"
          ],
          "name": "stdout"
        },
        {
          "output_type": "stream",
          "text": [
            "DEBUG:matplotlib.axes._base:update_title_pos\n",
            "DEBUG:matplotlib.axes._base:update_title_pos\n",
            "DEBUG:matplotlib.colorbar:locator: <matplotlib.colorbar._ColorbarAutoLocator object at 0x7f9d340bb240>\n",
            "DEBUG:matplotlib.colorbar:Using auto colorbar locator on colorbar\n",
            "DEBUG:matplotlib.colorbar:locator: <matplotlib.colorbar._ColorbarAutoLocator object at 0x7f9d340bb240>\n",
            "DEBUG:matplotlib.colorbar:Setting pcolormesh\n"
          ],
          "name": "stderr"
        },
        {
          "output_type": "stream",
          "text": [
            "    1.0204 |     0.0860 |     0.7409\n"
          ],
          "name": "stdout"
        },
        {
          "output_type": "stream",
          "text": [
            "DEBUG:matplotlib.axes._base:update_title_pos\n",
            "DEBUG:matplotlib.axes._base:update_title_pos\n",
            "DEBUG:matplotlib.colorbar:locator: <matplotlib.colorbar._ColorbarAutoLocator object at 0x7f9d34e0d278>\n",
            "DEBUG:matplotlib.colorbar:Using auto colorbar locator on colorbar\n",
            "DEBUG:matplotlib.colorbar:locator: <matplotlib.colorbar._ColorbarAutoLocator object at 0x7f9d34e0d278>\n",
            "DEBUG:matplotlib.colorbar:Setting pcolormesh\n"
          ],
          "name": "stderr"
        },
        {
          "output_type": "stream",
          "text": [
            "    1.1064 |     0.1060 |     0.7409\n"
          ],
          "name": "stdout"
        },
        {
          "output_type": "stream",
          "text": [
            "DEBUG:matplotlib.axes._base:update_title_pos\n",
            "DEBUG:matplotlib.axes._base:update_title_pos\n",
            "DEBUG:matplotlib.colorbar:locator: <matplotlib.colorbar._ColorbarAutoLocator object at 0x7f9d33ea8c88>\n",
            "DEBUG:matplotlib.colorbar:Using auto colorbar locator on colorbar\n",
            "DEBUG:matplotlib.colorbar:locator: <matplotlib.colorbar._ColorbarAutoLocator object at 0x7f9d33ea8c88>\n",
            "DEBUG:matplotlib.colorbar:Setting pcolormesh\n"
          ],
          "name": "stderr"
        },
        {
          "output_type": "stream",
          "text": [
            "    1.2124 |     0.1382 |     0.7409\n"
          ],
          "name": "stdout"
        },
        {
          "output_type": "stream",
          "text": [
            "DEBUG:matplotlib.axes._base:update_title_pos\n",
            "DEBUG:matplotlib.axes._base:update_title_pos\n"
          ],
          "name": "stderr"
        },
        {
          "output_type": "stream",
          "text": [
            "    1.3506 |     0.1866 |     0.7409\n"
          ],
          "name": "stdout"
        },
        {
          "output_type": "stream",
          "text": [
            "DEBUG:matplotlib.colorbar:locator: <matplotlib.colorbar._ColorbarAutoLocator object at 0x7f9d33fbfdd8>\n",
            "DEBUG:matplotlib.colorbar:Using auto colorbar locator on colorbar\n",
            "DEBUG:matplotlib.colorbar:locator: <matplotlib.colorbar._ColorbarAutoLocator object at 0x7f9d33fbfdd8>\n",
            "DEBUG:matplotlib.colorbar:Setting pcolormesh\n",
            "DEBUG:matplotlib.axes._base:update_title_pos\n",
            "DEBUG:matplotlib.axes._base:update_title_pos\n"
          ],
          "name": "stderr"
        },
        {
          "output_type": "stream",
          "text": [
            "    1.5373 |     0.2579 |     0.7409\n"
          ],
          "name": "stdout"
        },
        {
          "output_type": "stream",
          "text": [
            "DEBUG:matplotlib.colorbar:locator: <matplotlib.colorbar._ColorbarAutoLocator object at 0x7f9d3329d898>\n",
            "DEBUG:matplotlib.colorbar:Using auto colorbar locator on colorbar\n",
            "DEBUG:matplotlib.colorbar:locator: <matplotlib.colorbar._ColorbarAutoLocator object at 0x7f9d3329d898>\n",
            "DEBUG:matplotlib.colorbar:Setting pcolormesh\n",
            "DEBUG:matplotlib.axes._base:update_title_pos\n",
            "DEBUG:matplotlib.axes._base:update_title_pos\n"
          ],
          "name": "stderr"
        },
        {
          "output_type": "stream",
          "text": [
            "    1.7952 |     0.3619 |     0.7409\n"
          ],
          "name": "stdout"
        },
        {
          "output_type": "stream",
          "text": [
            "DEBUG:matplotlib.colorbar:locator: <matplotlib.colorbar._ColorbarAutoLocator object at 0x7f9d32fac7f0>\n",
            "DEBUG:matplotlib.colorbar:Using auto colorbar locator on colorbar\n",
            "DEBUG:matplotlib.colorbar:locator: <matplotlib.colorbar._ColorbarAutoLocator object at 0x7f9d32fac7f0>\n",
            "DEBUG:matplotlib.colorbar:Setting pcolormesh\n",
            "DEBUG:matplotlib.axes._base:update_title_pos\n",
            "DEBUG:matplotlib.axes._base:update_title_pos\n",
            "DEBUG:matplotlib.axes._base:update_title_pos\n",
            "DEBUG:matplotlib.axes._base:update_title_pos\n",
            "DEBUG:matplotlib.axes._base:update_title_pos\n",
            "DEBUG:matplotlib.axes._base:update_title_pos\n",
            "DEBUG:matplotlib.axes._base:update_title_pos\n",
            "DEBUG:matplotlib.axes._base:update_title_pos\n",
            "DEBUG:matplotlib.axes._base:update_title_pos\n",
            "DEBUG:matplotlib.axes._base:update_title_pos\n"
          ],
          "name": "stderr"
        },
        {
          "output_type": "display_data",
          "data": {
            "image/png": "[encoded data removed]",
            "text/plain": [
              "<Figure size 432x288 with 2 Axes>"
            ]
          },
          "metadata": {
            "tags": []
          }
        },
        {
          "output_type": "stream",
          "text": [
            "DEBUG:matplotlib.axes._base:update_title_pos\n",
            "DEBUG:matplotlib.axes._base:update_title_pos\n",
            "DEBUG:matplotlib.axes._base:update_title_pos\n",
            "DEBUG:matplotlib.axes._base:update_title_pos\n",
            "DEBUG:matplotlib.axes._base:update_title_pos\n",
            "DEBUG:matplotlib.axes._base:update_title_pos\n",
            "DEBUG:matplotlib.axes._base:update_title_pos\n",
            "DEBUG:matplotlib.axes._base:update_title_pos\n"
          ],
          "name": "stderr"
        },
        {
          "output_type": "display_data",
          "data": {
            "image/png": "[encoded data removed]",
            "text/plain": [
              "<Figure size 432x288 with 2 Axes>"
            ]
          },
          "metadata": {
            "tags": []
          }
        },
        {
          "output_type": "stream",
          "text": [
            "DEBUG:matplotlib.axes._base:update_title_pos\n",
            "DEBUG:matplotlib.axes._base:update_title_pos\n",
            "DEBUG:matplotlib.axes._base:update_title_pos\n",
            "DEBUG:matplotlib.axes._base:update_title_pos\n",
            "DEBUG:matplotlib.axes._base:update_title_pos\n",
            "DEBUG:matplotlib.axes._base:update_title_pos\n",
            "DEBUG:matplotlib.axes._base:update_title_pos\n",
            "DEBUG:matplotlib.axes._base:update_title_pos\n"
          ],
          "name": "stderr"
        },
        {
          "output_type": "display_data",
          "data": {
            "image/png": "[encoded data removed]",
            "text/plain": [
              "<Figure size 432x288 with 2 Axes>"
            ]
          },
          "metadata": {
            "tags": []
          }
        },
        {
          "output_type": "stream",
          "text": [
            "DEBUG:matplotlib.axes._base:update_title_pos\n",
            "DEBUG:matplotlib.axes._base:update_title_pos\n",
            "DEBUG:matplotlib.axes._base:update_title_pos\n",
            "DEBUG:matplotlib.axes._base:update_title_pos\n",
            "DEBUG:matplotlib.axes._base:update_title_pos\n",
            "DEBUG:matplotlib.axes._base:update_title_pos\n",
            "DEBUG:matplotlib.axes._base:update_title_pos\n",
            "DEBUG:matplotlib.axes._base:update_title_pos\n"
          ],
          "name": "stderr"
        },
        {
          "output_type": "display_data",
          "data": {
            "image/png": "[encoded data removed]",
            "text/plain": [
              "<Figure size 432x288 with 2 Axes>"
            ]
          },
          "metadata": {
            "tags": []
          }
        },
        {
          "output_type": "stream",
          "text": [
            "DEBUG:matplotlib.axes._base:update_title_pos\n",
            "DEBUG:matplotlib.axes._base:update_title_pos\n",
            "DEBUG:matplotlib.axes._base:update_title_pos\n",
            "DEBUG:matplotlib.axes._base:update_title_pos\n",
            "DEBUG:matplotlib.axes._base:update_title_pos\n",
            "DEBUG:matplotlib.axes._base:update_title_pos\n",
            "DEBUG:matplotlib.axes._base:update_title_pos\n",
            "DEBUG:matplotlib.axes._base:update_title_pos\n"
          ],
          "name": "stderr"
        },
        {
          "output_type": "display_data",
          "data": {
            "image/png": "[encoded data removed]",
            "text/plain": [
              "<Figure size 432x288 with 2 Axes>"
            ]
          },
          "metadata": {
            "tags": []
          }
        },
        {
          "output_type": "stream",
          "text": [
            "DEBUG:matplotlib.axes._base:update_title_pos\n",
            "DEBUG:matplotlib.axes._base:update_title_pos\n",
            "DEBUG:matplotlib.axes._base:update_title_pos\n",
            "DEBUG:matplotlib.axes._base:update_title_pos\n",
            "DEBUG:matplotlib.axes._base:update_title_pos\n",
            "DEBUG:matplotlib.axes._base:update_title_pos\n",
            "DEBUG:matplotlib.axes._base:update_title_pos\n",
            "DEBUG:matplotlib.axes._base:update_title_pos\n"
          ],
          "name": "stderr"
        },
        {
          "output_type": "display_data",
          "data": {
            "image/png": "[encoded data removed]",
            "text/plain": [
              "<Figure size 432x288 with 2 Axes>"
            ]
          },
          "metadata": {
            "tags": []
          }
        },
        {
          "output_type": "stream",
          "text": [
            "DEBUG:matplotlib.axes._base:update_title_pos\n",
            "DEBUG:matplotlib.axes._base:update_title_pos\n",
            "DEBUG:matplotlib.axes._base:update_title_pos\n",
            "DEBUG:matplotlib.axes._base:update_title_pos\n",
            "DEBUG:matplotlib.axes._base:update_title_pos\n",
            "DEBUG:matplotlib.axes._base:update_title_pos\n",
            "DEBUG:matplotlib.axes._base:update_title_pos\n",
            "DEBUG:matplotlib.axes._base:update_title_pos\n"
          ],
          "name": "stderr"
        },
        {
          "output_type": "display_data",
          "data": {
            "image/png": "[encoded data removed]",
            "text/plain": [
              "<Figure size 432x288 with 2 Axes>"
            ]
          },
          "metadata": {
            "tags": []
          }
        },
        {
          "output_type": "stream",
          "text": [
            "DEBUG:matplotlib.axes._base:update_title_pos\n",
            "DEBUG:matplotlib.axes._base:update_title_pos\n",
            "DEBUG:matplotlib.axes._base:update_title_pos\n",
            "DEBUG:matplotlib.axes._base:update_title_pos\n",
            "DEBUG:matplotlib.axes._base:update_title_pos\n",
            "DEBUG:matplotlib.axes._base:update_title_pos\n",
            "DEBUG:matplotlib.axes._base:update_title_pos\n",
            "DEBUG:matplotlib.axes._base:update_title_pos\n"
          ],
          "name": "stderr"
        },
        {
          "output_type": "display_data",
          "data": {
            "image/png": "[encoded data removed]",
            "text/plain": [
              "<Figure size 432x288 with 2 Axes>"
            ]
          },
          "metadata": {
            "tags": []
          }
        }
      ]
    }
  ]
}