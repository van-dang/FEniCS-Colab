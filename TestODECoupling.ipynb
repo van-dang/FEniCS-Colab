{
  "nbformat": 4,
  "nbformat_minor": 0,
  "metadata": {
    "colab": {
      "name": "TestODECoupling.ipynb",
      "version": "0.3.2",
      "provenance": [],
      "collapsed_sections": [],
      "include_colab_link": true
    },
    "kernelspec": {
      "name": "python3",
      "display_name": "Python 3"
    }
  },
  "cells": [
    {
      "cell_type": "markdown",
      "metadata": {
        "id": "view-in-github",
        "colab_type": "text"
      },
      "source": [
        "<a href=\"https://colab.research.google.com/github/van-dang/FEniCS-Colab/blob/master/TestODECoupling.ipynb\" target=\"_parent\"><img src=\"https://colab.research.google.com/assets/colab-badge.svg\" alt=\"Open In Colab\"/></a>"
      ]
    },
    {
      "cell_type": "code",
      "metadata": {
        "id": "Qb_4g0DJD6A7",
        "colab_type": "code",
        "colab": {
          "base_uri": "https://localhost:8080/",
          "height": 34
        },
        "outputId": "820e48e5-b85f-492e-dfcc-a14e1a6792b0"
      },
      "source": [
        "from google.colab import files\n",
        "\n",
        "import platform, sys\n",
        "python_version=platform.python_version()\n",
        "from distutils.version import LooseVersion, StrictVersion\n",
        "\n",
        "if ( LooseVersion(python_version) < LooseVersion(\"3.0.0\")):\n",
        "    print(\"Python3 is needed!\");\n",
        "    print(\"How to fix: Runtime/Change_runtime_type/Python 3\");\n",
        "    sys.exit()\n",
        "    \n",
        "try:\n",
        "    from dolfin import *; from mshr import *\n",
        "except ImportError as e:\n",
        "    !apt-get install -y -qq software-properties-common python-software-properties module-init-tools\n",
        "    !add-apt-repository -y ppa:fenics-packages/fenics\n",
        "    !apt-get update -qq\n",
        "    !apt install -y --no-install-recommends fenics\n",
        "    from dolfin import *; from mshr import *\n",
        "\n",
        "gmsh_dir=!which gmsh\n",
        "if len(gmsh_dir)==0:\n",
        "  !apt-get install gmsh\n",
        "    \n",
        "import matplotlib.pyplot as plt;\n",
        "from IPython.display import clear_output, display; import time; import dolfin.common.plotting as fenicsplot \n",
        "import time\n",
        "\n",
        "import os, sys, shutil\n",
        "\n",
        "clear_output()\n",
        "\n",
        "dolfin_version = dolfin.__version__\n",
        "print ('dolfin version:', dolfin_version)\n",
        "\n",
        "# Disable warnings\n",
        "import logging\n",
        "logging.basicConfig(level=logging.DEBUG)\n",
        "logger = logging.getLogger(\"rothemain.rothe_utils\")\n",
        "logging.getLogger('UFL').setLevel(logging.WARNING)\n",
        "logging.getLogger('FFC').setLevel(logging.WARNING)\n",
        "\n",
        "import warnings\n",
        "warnings.filterwarnings(\"ignore\")\n",
        "\n"
      ],
      "execution_count": 1,
      "outputs": [
        {
          "output_type": "stream",
          "text": [
            "dolfin version: 2019.1.0\n"
          ],
          "name": "stdout"
        }
      ]
    },
    {
      "cell_type": "code",
      "metadata": {
        "id": "kXvbHgJ0D9tc",
        "colab_type": "code",
        "colab": {
          "base_uri": "https://localhost:8080/",
          "height": 374
        },
        "outputId": "fe2cc091-e9c9-494a-d6f9-2db8f21c943e"
      },
      "source": [
        "\"\"\"\n",
        "FEniCS tutorial demo program: Diffusion of a Gaussian hill.\n",
        "\n",
        "  u'= Laplace(u) + f  in a square domain\n",
        "  u = u_D             on the boundary\n",
        "  u = u_0             at t = 0\n",
        "\n",
        "  u_D = f = 0\n",
        "\n",
        "The initial condition u_0 is chosen as a Gaussian hill.\n",
        "\"\"\"\n",
        "from scipy.integrate import ode\n",
        "\n",
        "from __future__ import print_function\n",
        "from fenics import *\n",
        "import time\n",
        "\n",
        "T = 5.0            # final time\n",
        "num_steps = 1     # number of time steps\n",
        "dt = T / num_steps # time step size\n",
        "\n",
        "# Create mesh and define function space\n",
        "nx = ny = 30\n",
        "mesh = RectangleMesh(Point(-2, -2), Point(2, 2), nx, ny)\n",
        "V = FunctionSpace(mesh, 'P', 1)\n",
        "\n",
        "# Define boundary condition\n",
        "def boundary(x, on_boundary):\n",
        "    return on_boundary\n",
        "\n",
        "bc = DirichletBC(V, Constant(0), boundary)\n",
        "\n",
        "# Define initial value\n",
        "u_0 = Expression('exp(-a*pow(x[0], 2) - a*pow(x[1], 2))',\n",
        "                 degree=2, a=5)\n",
        "u_n = interpolate(u_0, V)\n",
        "\n",
        "# Define variational problem\n",
        "u = TrialFunction(V)\n",
        "v = TestFunction(V)\n",
        "f = Constant(0)\n",
        "\n",
        "F = u*v*dx + dt*dot(grad(u), grad(v))*dx - u_n*v*dx\n",
        "\n",
        "K = assemble(dot(grad(u), grad(v))*dx)\n",
        "\n",
        "def dydt(t, u):\n",
        "    return (K*u);\n",
        "\n",
        "def jac(t, u):\n",
        "    return K.array();\n",
        "\n",
        "t0 = 0  \n",
        "solver = ode(dydt, jac).set_integrator('vode', method='bdf', order=15, with_jacobian=True)\n",
        "solver.set_initial_value(u_n.vector(), t0)\n",
        "\n",
        "t_out=[]\n",
        "while solver.successful() and solver.t < T:\n",
        "    solver.integrate(solver.t+dt, step=True)\n",
        "    t_out.append(solver.t)\n",
        "    # print(\"%g\" % r.t); \n",
        "    # print(r.y)\n",
        "    # print(\"%g %g\" % (r.t, r.y))\n",
        "    \n",
        "print(t_out)    \n",
        "u=Function(V);    \n",
        "u.vector()[:]=solver.y[:];\n",
        "plot(u)"
      ],
      "execution_count": 45,
      "outputs": [
        {
          "output_type": "stream",
          "text": [
            "[0.0002927175988685218, 0.0005854351977370436, 0.0013852275394080219, 0.0021850198810790004, 0.002984812222749979, 0.0037846045644209575, 0.0054272383477181035, 0.008655359187198078, 0.014202815661459586, 0.019750272135721093, 0.0252977286099826, 0.03084518508424411, 0.03639264155850562, 0.04340012337250098, 0.05040760518649634, 0.0574150870004917, 0.06442256881448706, 0.07744647297227587, 0.09047037713006469, 0.11281699679782758, 0.1351636164655905, 0.1575102361333534, 0.17985685580111632, 0.20220347546887923, 0.22455009513664215, 0.24689671480440506, 0.28053158787737204, 0.314166460950339, 0.347801334023306, 0.38143620709627296, 0.41507108016923994, 0.4487059532422069, 0.4823408263151739, 0.5159756993881408, 0.5496105724611078, 0.5832454455340748, 0.6168803186070417, 0.6382209547801282, 0.6595615909532146, 0.6809022271263011, 0.7022428632993876, 0.723583499472474, 0.7449241356455605, 0.7662647718186469, 0.7876054079917334, 0.8089460441648199, 0.844463449806458, 0.8799808554480961, 0.9039774654971129, 0.9279740755461297, 0.9519706855951464, 0.9759672956441632, 0.9999639056931799, 1.0239605157421967, 1.0479571257912135, 1.0719537358402302, 1.095950345889247, 1.1199469559382638, 1.1439435659872805, 1.1679401760362973, 1.191936786085314, 1.2159333961343308, 1.2399300061833476, 1.2639266162323644, 1.2879232262813811, 1.3119198363303979, 1.3359164463794146, 1.3599130564284314, 1.3839096664774482, 1.407906276526465, 1.4319028865754817, 1.4558994966244985, 1.4798961066735152, 1.503892716722532, 1.5278893267715488, 1.5518859368205655, 1.5758825468695823, 1.599879156918599, 1.6238757669676158, 1.6478723770166326, 1.6718689870656493, 1.6958655971146661, 1.7198622071636829, 1.7438588172126996, 1.7678554272617164, 1.7918520373107332, 1.81584864735975, 1.8398452574087667, 1.8638418674577835, 1.8878384775068002, 1.911835087555817, 1.9358316976048338, 1.9598283076538505, 1.9838249177028673, 2.0078215277518843, 2.0318181378009013, 2.0558147478499182, 2.0798113578989352, 2.103807967947952, 2.127804577996969, 2.151801188045986, 2.175797798095003, 2.19979440814402, 2.223791018193037, 2.247787628242054, 2.271784238291071, 2.295780848340088, 2.319777458389105, 2.343774068438122, 2.367770678487139, 2.391767288536156, 2.415763898585173, 2.43976050863419, 2.463757118683207, 2.487753728732224, 2.511750338781241, 2.535746948830258, 2.553001296038882, 2.570255643247506, 2.58750999045613, 2.604764337664754, 2.6220186848733777, 2.6392730320820017, 2.6565273792906257, 2.6737817264992496, 2.6910360737078736, 2.7082904209164975, 2.7255447681251215, 2.7427991153337454, 2.7600534625423694, 2.7773078097509933, 2.7945621569596173, 2.8118165041682412, 2.829070851376865, 2.846325198585489, 2.863579545794113, 2.880833893002737, 2.898088240211361, 2.915342587419985, 2.932596934628609, 2.949851281837233, 2.967105629045857, 2.984359976254481, 3.0016143234631047, 3.0188686706717287, 3.0361230178803527, 3.0533773650889766, 3.0706317122976006, 3.0878860595062245, 3.1051404067148485, 3.1177604577953564, 3.1303805088758643, 3.143000559956372, 3.15562061103688, 3.168240662117388, 3.180860713197896, 3.1934807642784038, 3.2061008153589117, 3.2187208664394196, 3.2313409175199275, 3.2439609686004354, 3.2565810196809433, 3.269201070761451, 3.281821121841959, 3.291007416539042, 3.300193711236125, 3.3093800059332077, 3.3244481662106034, 3.33397276445427, 3.3434973626979363, 3.3530219609416028, 3.3691837597945726, 3.3853455586475425, 3.4015073575005124, 3.4176691563534822, 3.433830955206452, 3.449992754059422, 3.466154552912392, 3.4823163517653617, 3.4984781506183316, 3.5146399494713014, 3.5308017483242713, 3.546963547177241, 3.563125346030211, 3.579287144883181, 3.5954489437361508, 3.6116107425891206, 3.6277725414420905, 3.6439343402950604, 3.6600961391480302, 3.676257938001, 3.69241973685397, 3.70858153570694, 3.7247433345599097, 3.7409051334128796, 3.7570669322658494, 3.76872382771217, 3.7803807231584905, 3.792037618604811, 3.809725299930347, 3.827412981255883, 3.845100662581419, 3.862788343906955, 3.880476025232491, 3.898163706558027, 3.915851387883563, 3.9277775867614, 3.9397037856392374, 3.9516299845170746, 3.963556183394912, 3.975482382272749, 3.987408581150586, 3.9993347800284234, 4.011260978906261, 4.023187177784099, 4.035113376661936, 4.047039575539774, 4.0589657744176115, 4.070891973295449, 4.082818172173287, 4.094744371051124, 4.106670569928962, 4.1185967688068, 4.130522967684637, 4.142449166562475, 4.1499313927535955, 4.157413618944716, 4.172021107834187, 4.180966850609414, 4.189912593384641, 4.1988583361598675, 4.207804078935094, 4.216749821710321, 4.225695564485548, 4.234641307260775, 4.243587050036002, 4.252532792811229, 4.257957247139103, 4.263381701466978, 4.273230205998443, 4.283448262491812, 4.293666318985181, 4.3038843754785505, 4.31410243197192, 4.324320488465289, 4.334538544958658, 4.344756601452027, 4.354974657945396, 4.365192714438765, 4.375410770932135, 4.385628827425504, 4.395846883918873, 4.406064940412242, 4.416282996905611, 4.42650105339898, 4.4367191098923495, 4.446937166385719, 4.457155222879088, 4.467373279372457, 4.477591335865826, 4.487809392359195, 4.4980274488525644, 4.508245505345934, 4.518463561839303, 4.524264294013365, 4.530065026187428, 4.539586296217929, 4.548546818859954, 4.557507341501979, 4.563794774568027, 4.5700822076340755, 4.580909593918746, 4.592465102495173, 4.599519927166241, 4.606574751837308, 4.613629576508376, 4.620684401179443, 4.627739225850511, 4.634794050521578, 4.641848875192646, 4.648903699863713, 4.655958524534781, 4.6630133492058485, 4.670068173876916, 4.677122998547984, 4.684177823219051, 4.691232647890119, 4.698287472561186, 4.705342297232254, 4.712397121903321, 4.719451946574389, 4.731086634128704, 4.742721321683018, 4.751319499149375, 4.759917676615731, 4.768515854082088, 4.7862705728417865, 4.798053270951186, 4.806590304788058, 4.815127338624929, 4.823664372461801, 4.8322014062986725, 4.840738440135544, 4.8492754739724155, 4.855072414093538, 4.86086935421466, 4.872405298548493, 4.883941242882326, 4.892076908952376, 4.900212575022426, 4.908348241092476, 4.916483907162526, 4.924619573232576, 4.932755239302626, 4.940890905372676, 4.949026571442726, 4.957162237512776, 4.965297903582826, 4.973433569652876, 4.981569235722926, 4.989704901792976, 4.997840567863026, 5.005976233933076]\n"
          ],
          "name": "stdout"
        },
        {
          "output_type": "execute_result",
          "data": {
            "text/plain": [
              "<matplotlib.tri.tricontour.TriContourSet at 0x7f999f4a8400>"
            ]
          },
          "metadata": {
            "tags": []
          },
          "execution_count": 45
        },
        {
          "output_type": "stream",
          "text": [
            "DEBUG:matplotlib.axes._base:update_title_pos\n",
            "DEBUG:matplotlib.axes._base:update_title_pos\n",
            "DEBUG:matplotlib.axes._base:update_title_pos\n",
            "DEBUG:matplotlib.axes._base:update_title_pos\n"
          ],
          "name": "stderr"
        },
        {
          "output_type": "display_data",
          "data": {
            "image/png": "[encoded data removed]",
            "text/plain": [
              "<Figure size 432x288 with 1 Axes>"
            ]
          },
          "metadata": {
            "tags": []
          }
        }
      ]
    },
    {
      "cell_type": "markdown",
      "metadata": {
        "id": "LskCor2eYbOR",
        "colab_type": "text"
      },
      "source": [
        "References"
      ]
    },
    {
      "cell_type": "markdown",
      "metadata": {
        "id": "TUHS7keHYdPY",
        "colab_type": "text"
      },
      "source": [
        "https://stackoverflow.com/questions/12926393/using-adaptive-step-sizes-with-scipy-integrate-ode\n",
        "\n"
      ]
    }
  ]
}