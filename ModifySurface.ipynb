{
  "nbformat": 4,
  "nbformat_minor": 0,
  "metadata": {
    "colab": {
      "name": "ModifySurface.ipynb",
      "version": "0.3.2",
      "provenance": [],
      "include_colab_link": true
    },
    "kernelspec": {
      "name": "python3",
      "display_name": "Python 3"
    }
  },
  "cells": [
    {
      "cell_type": "markdown",
      "metadata": {
        "id": "view-in-github",
        "colab_type": "text"
      },
      "source": [
        "<a href=\"https://colab.research.google.com/github/van-dang/FEniCS-Colab/blob/master/ModifySurface.ipynb\" target=\"_parent\"><img src=\"https://colab.research.google.com/assets/colab-badge.svg\" alt=\"Open In Colab\"/></a>"
      ]
    },
    {
      "cell_type": "code",
      "metadata": {
        "id": "XFUvCtn9d1-m",
        "colab_type": "code",
        "colab": {}
      },
      "source": [
        "# !pip install numpy-stl\n",
        "\n",
        "import numpy, math\n",
        "from stl import mesh\n",
        "\n",
        "# Using an existing stl file:\n",
        "your_mesh = mesh.Mesh.from_file('27o_spindle19aFI.stl')\n",
        "\n",
        "scale = 2\n",
        "\n",
        "your_mesh.x *= scale\n",
        "\n",
        "your_mesh.y *= scale\n",
        "\n",
        "your_mesh.z *= scale\n",
        "\n",
        "your_mesh.save('27o_spindle19aFI_scaled.stl')"
      ],
      "execution_count": 0,
      "outputs": []
    }
  ]
}