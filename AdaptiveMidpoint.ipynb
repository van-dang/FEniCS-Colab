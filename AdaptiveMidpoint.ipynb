{
  "nbformat": 4,
  "nbformat_minor": 0,
  "metadata": {
    "colab": {
      "name": "AdaptiveMidpoint.ipynb",
      "version": "0.3.2",
      "provenance": [],
      "collapsed_sections": [
        "vS_YdSbqFOln",
        "9SJXe6I5JUwF",
        "6l4kvMZQb3z6",
        "r6GW2fwLE042"
      ],
      "toc_visible": true,
      "include_colab_link": true
    },
    "kernelspec": {
      "name": "python3",
      "display_name": "Python 3"
    },
    "accelerator": "GPU"
  },
  "cells": [
    {
      "cell_type": "markdown",
      "metadata": {
        "id": "view-in-github",
        "colab_type": "text"
      },
      "source": [
        "<a href=\"https://colab.research.google.com/github/van-dang/FEniCS-Colab/blob/master/AdaptiveMidpoint.ipynb\" target=\"_parent\"><img src=\"https://colab.research.google.com/assets/colab-badge.svg\" alt=\"Open In Colab\"/></a>"
      ]
    },
    {
      "cell_type": "markdown",
      "metadata": {
        "id": "vS_YdSbqFOln",
        "colab_type": "text"
      },
      "source": [
        "# About the code"
      ]
    },
    {
      "cell_type": "code",
      "metadata": {
        "id": "CiQ9r51xKgWh",
        "colab_type": "code",
        "colab": {}
      },
      "source": [
        "# This program solves the Bloch-Torrey equation applied to computational diffusion MRI using \n",
        "# the finite element method coupled with the theta-method for the spatial discretization.\n",
        "\n",
        "# The scope of usage: \n",
        "# (1) Single domains, Multilayered structures, manifolds\n",
        "# (2) Membrane permeability for internal interfaces\n",
        "#     Artificial permeability at the external interfaces\n",
        "# (3) pure homogeneous Neumann BCs, (4) pseudo-periodic BCs\n",
        "\n",
        "# Copyright (C) 2019 Van-Dang Nguyen (vdnguyen@kth.se)\n",
        "\n",
        "# This file is part of DOLFIN.\n",
        "\n",
        "# DOLFIN is free software: you can redistribute it and/or modify\n",
        "# it under the terms of the GNU Lesser General Public License as published by\n",
        "# the Free Software Foundation, either version 3 of the License, or\n",
        "# (at your option) any later version.\n",
        "\n",
        "# DOLFIN is distributed in the hope that it will be useful,\n",
        "# but WITHOUT ANY WARRANTY; without even the implied warranty of\n",
        "# MERCHANTABILITY or FITNESS FOR A PARTICULAR PURPOSE. See the\n",
        "# GNU Lesser General Public License for more details.\n",
        "\n",
        "# You should have received a copy of the GNU Lesser General Public License\n",
        "# along with DOLFIN. If not, see <http://www.gnu.org/licenses/>.\n",
        "\n",
        "# First added:  2017-10-10\n",
        "# Last changed: 2019-04-25\n",
        "\n",
        "# This demo is maintained by Van-Dang Nguyen\n",
        "# Please report possible problems to vdnguyen@kth.se"
      ],
      "execution_count": 0,
      "outputs": []
    },
    {
      "cell_type": "markdown",
      "metadata": {
        "id": "9SJXe6I5JUwF",
        "colab_type": "text"
      },
      "source": [
        "# Setting a working environment with FEniCS"
      ]
    },
    {
      "cell_type": "code",
      "metadata": {
        "id": "4jWzVxURFVLj",
        "colab_type": "code",
        "outputId": "640f208a-ba4e-4485-87d6-a463de77ffa1",
        "colab": {
          "base_uri": "https://localhost:8080/",
          "height": 34
        }
      },
      "source": [
        "from google.colab import files\n",
        "\n",
        "import platform, sys\n",
        "python_version=platform.python_version()\n",
        "from distutils.version import LooseVersion, StrictVersion\n",
        "\n",
        "if ( LooseVersion(python_version) < LooseVersion(\"3.0.0\")):\n",
        "    print(\"Python3 is needed!\");\n",
        "    print(\"How to fix: Runtime/Change_runtime_type/Python 3\");\n",
        "    sys.exit()\n",
        "    \n",
        "try:\n",
        "    from dolfin import *; from mshr import *\n",
        "except ImportError as e:\n",
        "    !apt-get install -y -qq software-properties-common python-software-properties module-init-tools\n",
        "    !add-apt-repository -y ppa:fenics-packages/fenics\n",
        "    !apt-get update -qq\n",
        "    !apt install -y --no-install-recommends fenics\n",
        "    from dolfin import *; from mshr import *\n",
        "\n",
        "gmsh_dir=!which gmsh\n",
        "if len(gmsh_dir)==0:\n",
        "  !apt-get install gmsh\n",
        "    \n",
        "import matplotlib.pyplot as plt;\n",
        "from IPython.display import clear_output, display; import time; import dolfin.common.plotting as fenicsplot \n",
        "import time\n",
        "\n",
        "import os, sys, shutil\n",
        "\n",
        "import sympy as sp\n",
        "\n",
        "\n",
        "clear_output()\n",
        "\n",
        "dolfin_version = dolfin.__version__\n",
        "print ('dolfin version:', dolfin_version)\n",
        "\n",
        "# Disable warnings\n",
        "import logging\n",
        "logging.basicConfig(level=logging.DEBUG)\n",
        "logger = logging.getLogger(\"rothemain.rothe_utils\")\n",
        "logging.getLogger('UFL').setLevel(logging.WARNING)\n",
        "logging.getLogger('FFC').setLevel(logging.WARNING)\n",
        "\n",
        "import warnings\n",
        "warnings.filterwarnings(\"ignore\")\n"
      ],
      "execution_count": 1,
      "outputs": [
        {
          "output_type": "stream",
          "text": [
            "dolfin version: 2019.1.0\n"
          ],
          "name": "stdout"
        }
      ]
    },
    {
      "cell_type": "markdown",
      "metadata": {
        "id": "6l4kvMZQb3z6",
        "colab_type": "text"
      },
      "source": [
        "#Load pre-defined functions"
      ]
    },
    {
      "cell_type": "code",
      "metadata": {
        "id": "x3L26nGPb7kZ",
        "colab_type": "code",
        "outputId": "1e53e413-0941-42d1-b834-926bf4d39276",
        "colab": {
          "base_uri": "https://localhost:8080/",
          "height": 34
        }
      },
      "source": [
        "import sympy as sp  \n",
        "exists = os.path.isfile('DmriFemBuitInFunc.py')\n",
        "isupdate = False\n",
        "if (exists==False or isupdate==True):\n",
        "    if isupdate==True:\n",
        "        !rm DmriFemBuitInFunc.py\n",
        "    print(\"Load pre-defined functions from GitHub\")\n",
        "    !wget --quiet https://raw.githubusercontent.com/van-dang/MRI-Cloud/master/DmriFemBuitInFunc.py\n",
        "from DmriFemBuitInFunc import *"
      ],
      "execution_count": 2,
      "outputs": [
        {
          "output_type": "stream",
          "text": [
            "Load pre-defined functions from GitHub\n"
          ],
          "name": "stdout"
        }
      ]
    },
    {
      "cell_type": "markdown",
      "metadata": {
        "id": "r6GW2fwLE042",
        "colab_type": "text"
      },
      "source": [
        "# Working on the mesh"
      ]
    },
    {
      "cell_type": "code",
      "metadata": {
        "id": "ksCOgH6e6d8e",
        "colab_type": "code",
        "outputId": "085a3dd1-f095-446f-d9d9-419b03f84f03",
        "colab": {
          "base_uri": "https://localhost:8080/",
          "height": 354
        }
      },
      "source": [
        "'''\n",
        "geo_choice = 1\n",
        "if geo_choice == 1:\n",
        "    mesh_file = \"fru_M_100383_1D.xml\"\n",
        "else:    \n",
        "    mesh_file = \"fru_M_100383_3D.xml\"\n",
        "mesh_file_exists = os.path.isfile(mesh_file)\n",
        "if (mesh_file_exists==False):\n",
        "    !wget https://github.com/van-dang/MRI-Cloud/raw/mesh/$mesh_file''.zip  \n",
        "    !unzip -q $mesh_file''.zip\n",
        "mymesh = Mesh(mesh_file);\n",
        "'''\n",
        "\n",
        "domain = Circle(Point(0,0), 10)\n",
        "r = 50   # Resolution of mesh\n",
        "mymesh = generate_mesh(domain, r)\n",
        "plot(mymesh)\n"
      ],
      "execution_count": 14,
      "outputs": [
        {
          "output_type": "execute_result",
          "data": {
            "text/plain": [
              "[<matplotlib.lines.Line2D at 0x7f468f97d518>,\n",
              " <matplotlib.lines.Line2D at 0x7f468f97d9b0>]"
            ]
          },
          "metadata": {
            "tags": []
          },
          "execution_count": 14
        },
        {
          "output_type": "stream",
          "text": [
            "DEBUG:matplotlib.axes._base:update_title_pos\n",
            "DEBUG:matplotlib.axes._base:update_title_pos\n",
            "DEBUG:matplotlib.axes._base:update_title_pos\n",
            "DEBUG:matplotlib.axes._base:update_title_pos\n"
          ],
          "name": "stderr"
        },
        {
          "output_type": "display_data",
          "data": {
            "image/png": "[encoded data removed]",
            "text/plain": [
              "<Figure size 432x288 with 1 Axes>"
            ]
          },
          "metadata": {
            "tags": []
          }
        }
      ]
    },
    {
      "cell_type": "markdown",
      "metadata": {
        "id": "aFEvif9PF2yH",
        "colab_type": "text"
      },
      "source": [
        "# Solve the Bloch-Torrey equation"
      ]
    },
    {
      "cell_type": "code",
      "metadata": {
        "id": "DYZ5SWlw69tQ",
        "colab_type": "code",
        "outputId": "8f978e70-21ad-456b-91a5-e6c4e9a2bf74",
        "colab": {
          "base_uri": "https://localhost:8080/",
          "height": 68
        }
      },
      "source": [
        "from scipy.integrate import ode\n",
        "\n",
        "mri_simu = MRI_simulation()\n",
        "mri_para = MRI_parameters()\n",
        "\n",
        "bvalues = [10000]\n",
        "signal_array=[];\n",
        "voi_array=[];\n",
        "whole_vol_array = [];\n",
        "\n",
        "def compute_est(theta, u_L, u_H):\n",
        "    \"\"\"Return error estimate by Richardson extrapolation\"\"\"\n",
        "    p = 2 if theta == 0.5 else 1\n",
        "    est = sqrt(assemble((u_L - u_H)**2*dx)) / (2**p - 1)\n",
        "    return est\n",
        "\n",
        "def compute_new_dt(theta, est, tol, dt):\n",
        "    \"\"\"Return new time step\"\"\"\n",
        "    p = 2 if theta == 0.5 else 1\n",
        "    rho = 0.9\n",
        "    dt_new = dt * ( rho * tol / est )**(1/p)\n",
        "    return dt_new\n",
        "\n",
        "def ThetaMethodF1(ft, ift, mri_para, mri_simu, w, v, mydomain):\n",
        "    if (mydomain.IsDomainMultiple==True):\n",
        "      if (mydomain.IsDomainPeriodic==True) and sum(mydomain.PeriodicDir)>0:\n",
        "          F = ThetaMethodF_sBC2c(ft, ift, mri_para, w, v, mri_simu, mydomain)\n",
        "      else:\n",
        "          F = ThetaMethodF_wBC2c(ft, ift, mri_para, w, v, mri_simu, mydomain)\n",
        "    else:\n",
        "      if (mydomain.IsDomainPeriodic==True) and sum(mydomain.PeriodicDir)>0:\n",
        "          F = ThetaMethodF_sBC1c(ft, ift, mri_para, w, v, mri_simu, mydomain)\n",
        "      else:\n",
        "          F = ThetaMethodF_wBC1c(ft, ift, mri_para, w, v, mri_simu, mydomain)\n",
        "    return F  \n",
        "\n",
        "def mid_point_single_step(tp, t, dt, w0):\n",
        "    ft_prev = mri_para.time_profile(tp);\n",
        "    ift_prev = mri_para.itime_profile(tp);\n",
        "    ft = mri_para.time_profile(t);\n",
        "    ift = mri_para.itime_profile(t);\n",
        "    A = 1/dt*M + assemble(ThetaMethodF1(ft, ift, mri_para, mri_simu, w, v, mydomain))\n",
        "    b = 1/dt*M*w0.vector() - assemble(ThetaMethodF1(ft_prev, ift_prev, mri_para, mri_simu, w0, v, mydomain))\n",
        "    w1 =  Function(mydomain.W);\n",
        "    linsolver.solve(A, w1.vector(),b);\n",
        "    return w1\n",
        "\n",
        "  \n",
        "for bvalue in bvalues:\n",
        "    #################################################################################\n",
        "    #########################  Pre-defined parameters ###############################\n",
        "    mri_para.stype='PGSE'                                # sequence type\n",
        "    mri_para.bvalue = bvalue;                              # bvalue\n",
        "    mri_para.delta, mri_para.Delta = 10000, 10000        # time sequence\n",
        "    mri_para.set_gradient_dir(mymesh, 1, 0, 0)           # gradient direction\n",
        "\n",
        "    mri_para.T = mri_para.Delta+mri_para.delta\n",
        "    mri_para.fs_sym = sp.Piecewise(\n",
        "                    (  1., mri_para.s < mri_para.delta ),\n",
        "                    (  0., mri_para.s < mri_para.Delta ),\n",
        "                    ( -1., mri_para.s < mri_para.T ),\n",
        "                    (  0., True )  \n",
        "                ) \n",
        "\n",
        "\n",
        "    mri_para.Apply()\n",
        "    mri_simu.k = 5;                                    # time-step size\n",
        "    mri_simu.nskip = 100;                                  # frequency to print ouputs\n",
        "    mydomain = MyDomain(mymesh, mri_para)\n",
        "    mydomain.phase = None\n",
        "    mydomain.PeriodicDir = [0, 0, 0];             # Direction of the periodicity\n",
        "    mydomain.IsDomainPeriodic = False             # Confirm if the mesh if periodic\n",
        "    mydomain.IsDomainMultiple = False             # Confirm if the mesh is multiple\n",
        "    ################################################################################\n",
        "    mydomain.Apply()   # Call Apply before setting the diffusion tensor\n",
        "    ################################################################################\n",
        "    # Impose the diffusion coefficient\n",
        "    mydomain.D0 = 3e-3\n",
        "    mydomain.D = mydomain.D0;\n",
        "    #################################################################################\n",
        "\n",
        "    # linsolver = PETScLUSolver(\"mumps\")\n",
        "    linsolver = KrylovSolver(\"bicgstab\")\n",
        "\n",
        "    # mri_simu.solve(mydomain, mri_para, linsolver)\n",
        "\n",
        "    mri_simu.Dirac_Delta, w0 = mri_simu.InitialCondition(mydomain, None)\n",
        "\n",
        "    stepcounter = 0;\n",
        "\n",
        "    M = MassMatrix(mydomain);\n",
        "    \n",
        "    mri_simu.t = 0;\n",
        "    tp = 0;\n",
        "    #ft_prev  =  mri_para.time_profile(mri_simu.t);\n",
        "    #ift_prev = mri_para.itime_profile(mri_simu.t);\n",
        "\n",
        "    v = TestFunction(mydomain.W); w = TrialFunction(mydomain.W);\n",
        "\n",
        "    ###### \n",
        "    import numpy as np\n",
        "    mass_form = (w[0]*v[0]+w[1]*v[1])*dx\n",
        "\n",
        "    mass_action_form = action(mass_form, Constant((1,1)))\n",
        "\n",
        "    M_lumped = assemble(mass_form)\n",
        "    M_lumped.zero()\n",
        "\n",
        "    b=assemble(mass_action_form)\n",
        "    b_inv = Vector(b)\n",
        "    b_inv[:] = np.divide(1,b[:])\n",
        "\n",
        "    M_lumped.set_diagonal(b_inv)\n",
        "\n",
        "    ######\n",
        "    \n",
        "    start_time = time.time()\n",
        "  \n",
        "    def f(t, u0, Minv):\n",
        "        w0 = Function(mydomain.W)\n",
        "        w0.vector()[:] = u0\n",
        "        ft = mri_para.time_profile(t);\n",
        "        ift = mri_para.itime_profile(t);\n",
        "        rhs = -2*assemble(ThetaMethodF1(ft, ift, mri_para, mri_simu, w0, v, mydomain))  \n",
        "        #b = Vector()\n",
        "        #linsolver.solve(M, b, rhs)\n",
        "        b = np.dot(Minv, rhs)\n",
        "        return b\n",
        "    def jac(t, u0, Minv):\n",
        "        ft = mri_para.time_profile(t);\n",
        "        ift = mri_para.itime_profile(t);\n",
        "        w = TrialFunction(mydomain.W)\n",
        "        J = -2*assemble(ThetaMethodF1(ft, ift, mri_para, mri_simu, w, v, mydomain)) \n",
        "        J = np.multiply(Minv, J.array())\n",
        "        return J\n",
        "    \n",
        "    t0 = 0\n",
        "    \n",
        "    # backend = 'dopri5'\n",
        "    #backend = 'dop853'\n",
        "\n",
        "    # ode15s = ode(f, jac).set_integrator('vode', method='bdf', order=15)\n",
        "    \n",
        "    #print(w0.vector()[:])\n",
        "    #from scipy.integrate import solve_ivp\n",
        "    #from scipy.integrate import odeint\n",
        "    #tarry = np.linspace(t0, mri_para.T, 10)\n",
        "    #sol = odeint(f, w0.vector()[:], tarry, Dfun=jac, rtol=1e-3, atol=1e-3)\n",
        "    #print(tarry)\n",
        "    #sol = odeint(f, w0.vector()[:], tarry, Dfun=jac)\n",
        "    #print(sol.y)\n",
        "    \n",
        "    ode15s = ode(f, jac).set_integrator('vode', rtol=1e-6, atol=1e-6, method='bdf', with_jacobian=True, order=15)\n",
        "    ode15s.set_initial_value(w0.vector(), t0).set_f_params(M_lumped.array()).set_jac_params(M_lumped.array())\n",
        "\n",
        "    start_time = time.time()\n",
        "    # tarray=[t0];\n",
        "    \n",
        "    if 1==1:\n",
        "        num_steps = 0;\n",
        "        tp = 0;\n",
        "        while ode15s.successful() and ode15s.t <= mri_para.T :\n",
        "            ode15s.integrate(mri_para.T, step=True) \n",
        "            print(ode15s.t-tp)\n",
        "            tp = ode15s.t\n",
        "        w0.vector()[:] = ode15s.y\n",
        "    else:\n",
        "        while mri_simu.t < mri_para.T + mri_simu.k: # Time-stepping loop\n",
        "            if stepcounter % mri_simu.nskip == 0:\n",
        "                print('t: %6.2f '%mri_simu.t, 'T: %6.2f'%mri_para.T, 'dt: %.1f'%mri_simu.k,'qvalue: %e'%mri_para.qvalue,'Completed %3.2f%%'%(float(mri_simu.t)/float(mri_para.T+mri_simu.k)*100.0));\n",
        "            if 1==2:\n",
        "                u_low  = mid_point_single_step(tp, mri_simu.t, mri_simu.k,     w0);\n",
        "                u_mid  = mid_point_single_step(tp, tp + 0.5*(mri_simu.t-tp), mri_simu.k/2, w0);\n",
        "                u_high = mid_point_single_step( tp + 0.5*(mri_simu.t-tp), mri_simu.t, mri_simu.k/2,   u_mid);\n",
        "\n",
        "                theta = 0.5\n",
        "                tol = 1e-5\n",
        "                est = compute_est(theta, u_low, u_high)\n",
        "                dt_new = compute_new_dt(theta, est, tol, mri_simu.k)\n",
        "                mri_simu.k = min(dt_new, mri_para.T - mri_simu.t)\n",
        "                if est > tol:\n",
        "                    mri_simu.k = min(dt_new, mri_para.T - mri_simu.t)\n",
        "                    continue\n",
        "                else: \n",
        "                  tp = mri_simu.t\n",
        "                  w0.vector()[:] = u_high.vector()[:]\n",
        "                  mri_simu.t += mri_simu.k;\n",
        "            else: # midpoint\n",
        "                u_low  = mid_point_single_step(tp, mri_simu.t, mri_simu.k,     w0);\n",
        "                w0.vector()[:] = u_low.vector()[:]\n",
        "                tp = mri_simu.t\n",
        "                mri_simu.t += mri_simu.k;\n",
        "                stepcounter += 1;\n",
        "    \n",
        "    \n",
        "    mri_simu.elapsed_time = time.time() - start_time\n",
        "    print(\"Successfully Completed! Elapsed time: %f seconds\"%mri_simu.elapsed_time)   \n",
        "    \n",
        "    # Post-processing\n",
        "    one = Function(mydomain.V)\n",
        "    one.vector()[:] = 1\n",
        "    whole_vol = assemble(one*dx)\n",
        "    voi = assemble(mri_simu.Dirac_Delta*dx)\n",
        "    if mydomain.IsDomainMultiple == True:\n",
        "        u0r_0, u0i_0, u1r_0, u1i_0 = split(w0)\n",
        "        initial0 = assemble((1-mydomain.phase)*mri_simu.Dirac_Delta*dx);\n",
        "        signal0 = assemble(((1-mydomain.phase)*u0r_0)*dx);\n",
        "        initial1 = assemble(mydomain.phase*mri_simu.Dirac_Delta*dx)\n",
        "        signal1 = assemble((mydomain.phase*u1r_0)*dx);\n",
        "        signal = assemble((mydomain.phase*u1r_0+(1-mydomain.phase)*u0r_0)*dx);\n",
        "        print('Signal on each compartment')\n",
        "        print('Sum initial0: %.3e, Signal0: %.3e'%(initial0, signal0))\n",
        "        print('Sum initial1: %.3e, Signal1: %.3e'%(initial1, signal1))\n",
        "        out_text = 'b: %.3f, g: %.3f, q: %.3e, Signal: %.3e, Normalized signal: %.3e, kappa: %.3e, dt: %.3f, hmin: %.3f, whole_vol: %.3f, vol_of_interest: %.3f, Free signal: %.3e, elasped time %.3f (s)\\n'%(mri_para.bvalue, mri_para.gvalue, mri_para.qvalue, signal, signal/voi, mydomain.kappa, mri_simu.k, mydomain.hmin, whole_vol, voi, exp(-mri_para.bvalue*mydomain.D0), mri_simu.elapsed_time)\n",
        "        print(out_text)\n",
        "        V0 = FunctionSpace(mydomain.mesh0, mydomain.Ve);\n",
        "        V1 = FunctionSpace(mydomain.mesh1, mydomain.Ve);\n",
        "        u0r_0p = project(u0r_0,V0)\n",
        "        u1r_0p = project(u1r_0,V1)\n",
        "        if mydomain.tdim==mydomain.gdim and not(plt==None):\n",
        "            plt.figure(10000);\n",
        "            plot(u0r_0p, cmap=\"coolwarm\")\n",
        "            plt.figure(10001);            \n",
        "            plot(u1r_0p, cmap=\"coolwarm\")  \n",
        "        File(\"u0r.pvd\")<<u0r_0p\n",
        "        File(\"u1r.pvd\")<<u1r_0p\n",
        "    else:\n",
        "        ur, ui = split(w0)\n",
        "        signal = assemble(ur*dx);\n",
        "        out_text = 'b: %.3f, g: %.3f, q: %.3e, Signal: %.3e, Normalized signal: %.3e, dt: %.3f, hmin: %.3e, whole_vol: %.3f, vol_of_interest: %.3f, Free signal: %.3e, elasped time %.3f (s)\\n'%(mri_para.bvalue, mri_para.gvalue, mri_para.qvalue, signal, signal/voi, mri_simu.k, mydomain.hmin, whole_vol, voi, exp(-mri_para.bvalue*mydomain.D0), mri_simu.elapsed_time)\n",
        "        print(out_text)\n",
        "        V = FunctionSpace(mydomain.mymesh,mydomain.Ve);\n",
        "        ur_p = project(ur,V)\n",
        "        if mydomain.tdim==mydomain.gdim and not(plt==None): \n",
        "            plt.figure(10000);\n",
        "            plot(ur_p, cmap=\"coolwarm\")\n",
        "        File(\"ur.pvd\")<<ur_p\n",
        "    signal_array.append(signal)\n",
        "    voi_array.append(voi)\n",
        "    whole_vol_array.append(whole_vol);\n",
        "    \n",
        "    comm = MPI.comm_world\n",
        "    rank = comm.Get_rank()    \n",
        "    \n",
        "    print(\"save to log.txt\")\n",
        "    outfile = open('log.txt', 'a')\n",
        "    if int(rank) == 0:\n",
        "            outfile.write(out_text)\n",
        "    outfile.close()  "
      ],
      "execution_count": 0,
      "outputs": [
        {
          "output_type": "stream",
          "text": [
            "Function Space for Single Domains has 2 components\n",
            "(ur, ui): r-real, i-imaginary\n",
            "Initialize a standard function space.\n"
          ],
          "name": "stdout"
        }
      ]
    }
  ]
}