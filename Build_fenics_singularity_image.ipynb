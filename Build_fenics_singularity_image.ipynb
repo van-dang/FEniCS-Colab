{
  "nbformat": 4,
  "nbformat_minor": 0,
  "metadata": {
    "colab": {
      "name": "Untitled13.ipynb",
      "version": "0.3.2",
      "provenance": [],
      "include_colab_link": true
    },
    "kernelspec": {
      "name": "python3",
      "display_name": "Python 3"
    }
  },
  "cells": [
    {
      "cell_type": "markdown",
      "metadata": {
        "id": "view-in-github",
        "colab_type": "text"
      },
      "source": [
        "<a href=\"https://colab.research.google.com/github/van-dang/FEniCS-Colab/blob/master/Build_fenics_singularity_image.ipynb\" target=\"_parent\"><img src=\"https://colab.research.google.com/assets/colab-badge.svg\" alt=\"Open In Colab\"/></a>"
      ]
    },
    {
      "metadata": {
        "id": "SU6jgwTM-yHa",
        "colab_type": "code",
        "colab": {
          "base_uri": "https://localhost:8080/",
          "height": 63
        },
        "outputId": "597883e6-e3e6-411d-ff9a-cf068e05cee8"
      },
      "cell_type": "code",
      "source": [
        "import os\n",
        "is_exist_sing=!which singularity\n",
        "if len(is_exist_sing)==0:\n",
        "    !apt-get install singularity-container\n",
        "\n",
        "# Build fenics singularity image\n",
        "exists = os.path.isfile('fenics_stable.simg')\n",
        "if (exists==False):\n",
        "    !singularity build fenics_stable.simg docker://fenicsproject/stable\n",
        "      \n",
        "is_demo_exist = os.path.isfile('demo_poisson.py') \n",
        "if (is_demo_exist==False):\n",
        "    !wget https://fenicsproject.org/docs/dolfin/1.6.0/python/_downloads/demo_poisson.py\n",
        "\n",
        "#!singularity --version        \n",
        "# !sudo singularity shell fenics_stable.simg\n",
        "#!singularity exec -B $PWD fenics_stable.simg python3 demo_poisson.py      "
      ],
      "execution_count": 21,
      "outputs": [
        {
          "output_type": "stream",
          "text": [
            "2.4.2-dist\n"
          ],
          "name": "stdout"
        }
      ]
    }
  ]
}